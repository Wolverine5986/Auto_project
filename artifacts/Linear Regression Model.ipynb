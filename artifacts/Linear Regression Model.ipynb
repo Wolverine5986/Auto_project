{
 "cells": [
  {
   "cell_type": "markdown",
   "id": "d1712b4a-ed32-41ef-b6ca-42a1075a61bd",
   "metadata": {},
   "source": [
    "# Import All Required Libraries"
   ]
  },
  {
   "cell_type": "code",
   "execution_count": 1,
   "id": "c15305f3-55cd-48d9-8ad1-c79b6c412073",
   "metadata": {},
   "outputs": [],
   "source": [
    "import pandas as pd\n",
    "import numpy as np\n",
    "import seaborn as sns\n",
    "import matplotlib.pyplot as plt\n",
    "import statsmodels.api as sm\n",
    "\n",
    "from sklearn.model_selection import train_test_split,GridSearchCV,RandomizedSearchCV\n",
    "from sklearn.linear_model import LinearRegression,Lasso,Ridge\n",
    "from sklearn.metrics import r2_score, mean_squared_error, mean_absolute_error\n",
    "from statsmodels.stats.outliers_influence import variance_inflation_factor\n",
    "\n",
    "import pickle\n",
    "import json"
   ]
  },
  {
   "cell_type": "markdown",
   "id": "3b4a5d17-da2d-4c04-8b9d-015ffa78e9f8",
   "metadata": {},
   "source": [
    "# Step 1 : Problem Statement\n",
    "    To predict car price based on below mentioned features\n",
    "    \n",
    "    'symboling', 'normalized-losses', 'make', 'fuel-type', 'aspiration',\n",
    "    'num-of-doors', 'body-style', 'drive-wheels', 'engine-location',\n",
    "    'wheel-base', 'length', 'width', 'height', 'curb-weight', 'engine-type',\n",
    "    'num-of-cylinders', 'engine-size', 'fuel-system', 'bore', 'stroke',\n",
    "    'compression-ratio', 'horsepower', 'peak-rpm', 'city-mpg',\n",
    "    'highway-mpg'"
   ]
  },
  {
   "cell_type": "markdown",
   "id": "877df488-1ac9-4dd7-b7fc-15ffbe2dafb2",
   "metadata": {},
   "source": [
    "# Step 2 : Data Gathering"
   ]
  },
  {
   "cell_type": "code",
   "execution_count": 2,
   "id": "9377986f-eead-4a21-8d12-0fe08eef5cbf",
   "metadata": {},
   "outputs": [
    {
     "data": {
      "text/html": [
       "<div>\n",
       "<style scoped>\n",
       "    .dataframe tbody tr th:only-of-type {\n",
       "        vertical-align: middle;\n",
       "    }\n",
       "\n",
       "    .dataframe tbody tr th {\n",
       "        vertical-align: top;\n",
       "    }\n",
       "\n",
       "    .dataframe thead th {\n",
       "        text-align: right;\n",
       "    }\n",
       "</style>\n",
       "<table border=\"1\" class=\"dataframe\">\n",
       "  <thead>\n",
       "    <tr style=\"text-align: right;\">\n",
       "      <th></th>\n",
       "      <th>symboling</th>\n",
       "      <th>normalized-losses</th>\n",
       "      <th>make</th>\n",
       "      <th>fuel-type</th>\n",
       "      <th>aspiration</th>\n",
       "      <th>num-of-doors</th>\n",
       "      <th>body-style</th>\n",
       "      <th>drive-wheels</th>\n",
       "      <th>engine-location</th>\n",
       "      <th>wheel-base</th>\n",
       "      <th>...</th>\n",
       "      <th>engine-size</th>\n",
       "      <th>fuel-system</th>\n",
       "      <th>bore</th>\n",
       "      <th>stroke</th>\n",
       "      <th>compression-ratio</th>\n",
       "      <th>horsepower</th>\n",
       "      <th>peak-rpm</th>\n",
       "      <th>city-mpg</th>\n",
       "      <th>highway-mpg</th>\n",
       "      <th>price</th>\n",
       "    </tr>\n",
       "  </thead>\n",
       "  <tbody>\n",
       "    <tr>\n",
       "      <th>0</th>\n",
       "      <td>3</td>\n",
       "      <td>?</td>\n",
       "      <td>alfa-romero</td>\n",
       "      <td>gas</td>\n",
       "      <td>std</td>\n",
       "      <td>two</td>\n",
       "      <td>convertible</td>\n",
       "      <td>rwd</td>\n",
       "      <td>front</td>\n",
       "      <td>88.6</td>\n",
       "      <td>...</td>\n",
       "      <td>130</td>\n",
       "      <td>mpfi</td>\n",
       "      <td>3.47</td>\n",
       "      <td>2.68</td>\n",
       "      <td>9.0</td>\n",
       "      <td>111</td>\n",
       "      <td>5000</td>\n",
       "      <td>21</td>\n",
       "      <td>27</td>\n",
       "      <td>13495</td>\n",
       "    </tr>\n",
       "    <tr>\n",
       "      <th>1</th>\n",
       "      <td>3</td>\n",
       "      <td>?</td>\n",
       "      <td>alfa-romero</td>\n",
       "      <td>gas</td>\n",
       "      <td>std</td>\n",
       "      <td>two</td>\n",
       "      <td>convertible</td>\n",
       "      <td>rwd</td>\n",
       "      <td>front</td>\n",
       "      <td>88.6</td>\n",
       "      <td>...</td>\n",
       "      <td>130</td>\n",
       "      <td>mpfi</td>\n",
       "      <td>3.47</td>\n",
       "      <td>2.68</td>\n",
       "      <td>9.0</td>\n",
       "      <td>111</td>\n",
       "      <td>5000</td>\n",
       "      <td>21</td>\n",
       "      <td>27</td>\n",
       "      <td>16500</td>\n",
       "    </tr>\n",
       "    <tr>\n",
       "      <th>2</th>\n",
       "      <td>1</td>\n",
       "      <td>?</td>\n",
       "      <td>alfa-romero</td>\n",
       "      <td>gas</td>\n",
       "      <td>std</td>\n",
       "      <td>two</td>\n",
       "      <td>hatchback</td>\n",
       "      <td>rwd</td>\n",
       "      <td>front</td>\n",
       "      <td>94.5</td>\n",
       "      <td>...</td>\n",
       "      <td>152</td>\n",
       "      <td>mpfi</td>\n",
       "      <td>2.68</td>\n",
       "      <td>3.47</td>\n",
       "      <td>9.0</td>\n",
       "      <td>154</td>\n",
       "      <td>5000</td>\n",
       "      <td>19</td>\n",
       "      <td>26</td>\n",
       "      <td>16500</td>\n",
       "    </tr>\n",
       "    <tr>\n",
       "      <th>3</th>\n",
       "      <td>2</td>\n",
       "      <td>164</td>\n",
       "      <td>audi</td>\n",
       "      <td>gas</td>\n",
       "      <td>std</td>\n",
       "      <td>four</td>\n",
       "      <td>sedan</td>\n",
       "      <td>fwd</td>\n",
       "      <td>front</td>\n",
       "      <td>99.8</td>\n",
       "      <td>...</td>\n",
       "      <td>109</td>\n",
       "      <td>mpfi</td>\n",
       "      <td>3.19</td>\n",
       "      <td>3.4</td>\n",
       "      <td>10.0</td>\n",
       "      <td>102</td>\n",
       "      <td>5500</td>\n",
       "      <td>24</td>\n",
       "      <td>30</td>\n",
       "      <td>13950</td>\n",
       "    </tr>\n",
       "    <tr>\n",
       "      <th>4</th>\n",
       "      <td>2</td>\n",
       "      <td>164</td>\n",
       "      <td>audi</td>\n",
       "      <td>gas</td>\n",
       "      <td>std</td>\n",
       "      <td>four</td>\n",
       "      <td>sedan</td>\n",
       "      <td>4wd</td>\n",
       "      <td>front</td>\n",
       "      <td>99.4</td>\n",
       "      <td>...</td>\n",
       "      <td>136</td>\n",
       "      <td>mpfi</td>\n",
       "      <td>3.19</td>\n",
       "      <td>3.4</td>\n",
       "      <td>8.0</td>\n",
       "      <td>115</td>\n",
       "      <td>5500</td>\n",
       "      <td>18</td>\n",
       "      <td>22</td>\n",
       "      <td>17450</td>\n",
       "    </tr>\n",
       "    <tr>\n",
       "      <th>...</th>\n",
       "      <td>...</td>\n",
       "      <td>...</td>\n",
       "      <td>...</td>\n",
       "      <td>...</td>\n",
       "      <td>...</td>\n",
       "      <td>...</td>\n",
       "      <td>...</td>\n",
       "      <td>...</td>\n",
       "      <td>...</td>\n",
       "      <td>...</td>\n",
       "      <td>...</td>\n",
       "      <td>...</td>\n",
       "      <td>...</td>\n",
       "      <td>...</td>\n",
       "      <td>...</td>\n",
       "      <td>...</td>\n",
       "      <td>...</td>\n",
       "      <td>...</td>\n",
       "      <td>...</td>\n",
       "      <td>...</td>\n",
       "      <td>...</td>\n",
       "    </tr>\n",
       "    <tr>\n",
       "      <th>200</th>\n",
       "      <td>-1</td>\n",
       "      <td>95</td>\n",
       "      <td>volvo</td>\n",
       "      <td>gas</td>\n",
       "      <td>std</td>\n",
       "      <td>four</td>\n",
       "      <td>sedan</td>\n",
       "      <td>rwd</td>\n",
       "      <td>front</td>\n",
       "      <td>109.1</td>\n",
       "      <td>...</td>\n",
       "      <td>141</td>\n",
       "      <td>mpfi</td>\n",
       "      <td>3.78</td>\n",
       "      <td>3.15</td>\n",
       "      <td>9.5</td>\n",
       "      <td>114</td>\n",
       "      <td>5400</td>\n",
       "      <td>23</td>\n",
       "      <td>28</td>\n",
       "      <td>16845</td>\n",
       "    </tr>\n",
       "    <tr>\n",
       "      <th>201</th>\n",
       "      <td>-1</td>\n",
       "      <td>95</td>\n",
       "      <td>volvo</td>\n",
       "      <td>gas</td>\n",
       "      <td>turbo</td>\n",
       "      <td>four</td>\n",
       "      <td>sedan</td>\n",
       "      <td>rwd</td>\n",
       "      <td>front</td>\n",
       "      <td>109.1</td>\n",
       "      <td>...</td>\n",
       "      <td>141</td>\n",
       "      <td>mpfi</td>\n",
       "      <td>3.78</td>\n",
       "      <td>3.15</td>\n",
       "      <td>8.7</td>\n",
       "      <td>160</td>\n",
       "      <td>5300</td>\n",
       "      <td>19</td>\n",
       "      <td>25</td>\n",
       "      <td>19045</td>\n",
       "    </tr>\n",
       "    <tr>\n",
       "      <th>202</th>\n",
       "      <td>-1</td>\n",
       "      <td>95</td>\n",
       "      <td>volvo</td>\n",
       "      <td>gas</td>\n",
       "      <td>std</td>\n",
       "      <td>four</td>\n",
       "      <td>sedan</td>\n",
       "      <td>rwd</td>\n",
       "      <td>front</td>\n",
       "      <td>109.1</td>\n",
       "      <td>...</td>\n",
       "      <td>173</td>\n",
       "      <td>mpfi</td>\n",
       "      <td>3.58</td>\n",
       "      <td>2.87</td>\n",
       "      <td>8.8</td>\n",
       "      <td>134</td>\n",
       "      <td>5500</td>\n",
       "      <td>18</td>\n",
       "      <td>23</td>\n",
       "      <td>21485</td>\n",
       "    </tr>\n",
       "    <tr>\n",
       "      <th>203</th>\n",
       "      <td>-1</td>\n",
       "      <td>95</td>\n",
       "      <td>volvo</td>\n",
       "      <td>diesel</td>\n",
       "      <td>turbo</td>\n",
       "      <td>four</td>\n",
       "      <td>sedan</td>\n",
       "      <td>rwd</td>\n",
       "      <td>front</td>\n",
       "      <td>109.1</td>\n",
       "      <td>...</td>\n",
       "      <td>145</td>\n",
       "      <td>idi</td>\n",
       "      <td>3.01</td>\n",
       "      <td>3.4</td>\n",
       "      <td>23.0</td>\n",
       "      <td>106</td>\n",
       "      <td>4800</td>\n",
       "      <td>26</td>\n",
       "      <td>27</td>\n",
       "      <td>22470</td>\n",
       "    </tr>\n",
       "    <tr>\n",
       "      <th>204</th>\n",
       "      <td>-1</td>\n",
       "      <td>95</td>\n",
       "      <td>volvo</td>\n",
       "      <td>gas</td>\n",
       "      <td>turbo</td>\n",
       "      <td>four</td>\n",
       "      <td>sedan</td>\n",
       "      <td>rwd</td>\n",
       "      <td>front</td>\n",
       "      <td>109.1</td>\n",
       "      <td>...</td>\n",
       "      <td>141</td>\n",
       "      <td>mpfi</td>\n",
       "      <td>3.78</td>\n",
       "      <td>3.15</td>\n",
       "      <td>9.5</td>\n",
       "      <td>114</td>\n",
       "      <td>5400</td>\n",
       "      <td>19</td>\n",
       "      <td>25</td>\n",
       "      <td>22625</td>\n",
       "    </tr>\n",
       "  </tbody>\n",
       "</table>\n",
       "<p>205 rows × 26 columns</p>\n",
       "</div>"
      ],
      "text/plain": [
       "     symboling normalized-losses         make fuel-type aspiration  \\\n",
       "0            3                 ?  alfa-romero       gas        std   \n",
       "1            3                 ?  alfa-romero       gas        std   \n",
       "2            1                 ?  alfa-romero       gas        std   \n",
       "3            2               164         audi       gas        std   \n",
       "4            2               164         audi       gas        std   \n",
       "..         ...               ...          ...       ...        ...   \n",
       "200         -1                95        volvo       gas        std   \n",
       "201         -1                95        volvo       gas      turbo   \n",
       "202         -1                95        volvo       gas        std   \n",
       "203         -1                95        volvo    diesel      turbo   \n",
       "204         -1                95        volvo       gas      turbo   \n",
       "\n",
       "    num-of-doors   body-style drive-wheels engine-location  wheel-base  ...  \\\n",
       "0            two  convertible          rwd           front        88.6  ...   \n",
       "1            two  convertible          rwd           front        88.6  ...   \n",
       "2            two    hatchback          rwd           front        94.5  ...   \n",
       "3           four        sedan          fwd           front        99.8  ...   \n",
       "4           four        sedan          4wd           front        99.4  ...   \n",
       "..           ...          ...          ...             ...         ...  ...   \n",
       "200         four        sedan          rwd           front       109.1  ...   \n",
       "201         four        sedan          rwd           front       109.1  ...   \n",
       "202         four        sedan          rwd           front       109.1  ...   \n",
       "203         four        sedan          rwd           front       109.1  ...   \n",
       "204         four        sedan          rwd           front       109.1  ...   \n",
       "\n",
       "     engine-size  fuel-system  bore  stroke compression-ratio horsepower  \\\n",
       "0            130         mpfi  3.47    2.68               9.0        111   \n",
       "1            130         mpfi  3.47    2.68               9.0        111   \n",
       "2            152         mpfi  2.68    3.47               9.0        154   \n",
       "3            109         mpfi  3.19     3.4              10.0        102   \n",
       "4            136         mpfi  3.19     3.4               8.0        115   \n",
       "..           ...          ...   ...     ...               ...        ...   \n",
       "200          141         mpfi  3.78    3.15               9.5        114   \n",
       "201          141         mpfi  3.78    3.15               8.7        160   \n",
       "202          173         mpfi  3.58    2.87               8.8        134   \n",
       "203          145          idi  3.01     3.4              23.0        106   \n",
       "204          141         mpfi  3.78    3.15               9.5        114   \n",
       "\n",
       "     peak-rpm city-mpg highway-mpg  price  \n",
       "0        5000       21          27  13495  \n",
       "1        5000       21          27  16500  \n",
       "2        5000       19          26  16500  \n",
       "3        5500       24          30  13950  \n",
       "4        5500       18          22  17450  \n",
       "..        ...      ...         ...    ...  \n",
       "200      5400       23          28  16845  \n",
       "201      5300       19          25  19045  \n",
       "202      5500       18          23  21485  \n",
       "203      4800       26          27  22470  \n",
       "204      5400       19          25  22625  \n",
       "\n",
       "[205 rows x 26 columns]"
      ]
     },
     "execution_count": 2,
     "metadata": {},
     "output_type": "execute_result"
    }
   ],
   "source": [
    "df = pd.read_csv('autos_dataset.csv')\n",
    "df"
   ]
  },
  {
   "cell_type": "code",
   "execution_count": 3,
   "id": "6bf4b367-8ecc-44a1-ade3-2bef54f5fe50",
   "metadata": {},
   "outputs": [
    {
     "data": {
      "text/html": [
       "<div>\n",
       "<style scoped>\n",
       "    .dataframe tbody tr th:only-of-type {\n",
       "        vertical-align: middle;\n",
       "    }\n",
       "\n",
       "    .dataframe tbody tr th {\n",
       "        vertical-align: top;\n",
       "    }\n",
       "\n",
       "    .dataframe thead th {\n",
       "        text-align: right;\n",
       "    }\n",
       "</style>\n",
       "<table border=\"1\" class=\"dataframe\">\n",
       "  <thead>\n",
       "    <tr style=\"text-align: right;\">\n",
       "      <th></th>\n",
       "      <th>0</th>\n",
       "      <th>1</th>\n",
       "      <th>2</th>\n",
       "      <th>3</th>\n",
       "      <th>4</th>\n",
       "    </tr>\n",
       "  </thead>\n",
       "  <tbody>\n",
       "    <tr>\n",
       "      <th>symboling</th>\n",
       "      <td>3</td>\n",
       "      <td>3</td>\n",
       "      <td>1</td>\n",
       "      <td>2</td>\n",
       "      <td>2</td>\n",
       "    </tr>\n",
       "    <tr>\n",
       "      <th>normalized-losses</th>\n",
       "      <td>?</td>\n",
       "      <td>?</td>\n",
       "      <td>?</td>\n",
       "      <td>164</td>\n",
       "      <td>164</td>\n",
       "    </tr>\n",
       "    <tr>\n",
       "      <th>make</th>\n",
       "      <td>alfa-romero</td>\n",
       "      <td>alfa-romero</td>\n",
       "      <td>alfa-romero</td>\n",
       "      <td>audi</td>\n",
       "      <td>audi</td>\n",
       "    </tr>\n",
       "    <tr>\n",
       "      <th>fuel-type</th>\n",
       "      <td>gas</td>\n",
       "      <td>gas</td>\n",
       "      <td>gas</td>\n",
       "      <td>gas</td>\n",
       "      <td>gas</td>\n",
       "    </tr>\n",
       "    <tr>\n",
       "      <th>aspiration</th>\n",
       "      <td>std</td>\n",
       "      <td>std</td>\n",
       "      <td>std</td>\n",
       "      <td>std</td>\n",
       "      <td>std</td>\n",
       "    </tr>\n",
       "    <tr>\n",
       "      <th>num-of-doors</th>\n",
       "      <td>two</td>\n",
       "      <td>two</td>\n",
       "      <td>two</td>\n",
       "      <td>four</td>\n",
       "      <td>four</td>\n",
       "    </tr>\n",
       "    <tr>\n",
       "      <th>body-style</th>\n",
       "      <td>convertible</td>\n",
       "      <td>convertible</td>\n",
       "      <td>hatchback</td>\n",
       "      <td>sedan</td>\n",
       "      <td>sedan</td>\n",
       "    </tr>\n",
       "    <tr>\n",
       "      <th>drive-wheels</th>\n",
       "      <td>rwd</td>\n",
       "      <td>rwd</td>\n",
       "      <td>rwd</td>\n",
       "      <td>fwd</td>\n",
       "      <td>4wd</td>\n",
       "    </tr>\n",
       "    <tr>\n",
       "      <th>engine-location</th>\n",
       "      <td>front</td>\n",
       "      <td>front</td>\n",
       "      <td>front</td>\n",
       "      <td>front</td>\n",
       "      <td>front</td>\n",
       "    </tr>\n",
       "    <tr>\n",
       "      <th>wheel-base</th>\n",
       "      <td>88.6</td>\n",
       "      <td>88.6</td>\n",
       "      <td>94.5</td>\n",
       "      <td>99.8</td>\n",
       "      <td>99.4</td>\n",
       "    </tr>\n",
       "    <tr>\n",
       "      <th>length</th>\n",
       "      <td>168.8</td>\n",
       "      <td>168.8</td>\n",
       "      <td>171.2</td>\n",
       "      <td>176.6</td>\n",
       "      <td>176.6</td>\n",
       "    </tr>\n",
       "    <tr>\n",
       "      <th>width</th>\n",
       "      <td>64.1</td>\n",
       "      <td>64.1</td>\n",
       "      <td>65.5</td>\n",
       "      <td>66.2</td>\n",
       "      <td>66.4</td>\n",
       "    </tr>\n",
       "    <tr>\n",
       "      <th>height</th>\n",
       "      <td>48.8</td>\n",
       "      <td>48.8</td>\n",
       "      <td>52.4</td>\n",
       "      <td>54.3</td>\n",
       "      <td>54.3</td>\n",
       "    </tr>\n",
       "    <tr>\n",
       "      <th>curb-weight</th>\n",
       "      <td>2548</td>\n",
       "      <td>2548</td>\n",
       "      <td>2823</td>\n",
       "      <td>2337</td>\n",
       "      <td>2824</td>\n",
       "    </tr>\n",
       "    <tr>\n",
       "      <th>engine-type</th>\n",
       "      <td>dohc</td>\n",
       "      <td>dohc</td>\n",
       "      <td>ohcv</td>\n",
       "      <td>ohc</td>\n",
       "      <td>ohc</td>\n",
       "    </tr>\n",
       "    <tr>\n",
       "      <th>num-of-cylinders</th>\n",
       "      <td>four</td>\n",
       "      <td>four</td>\n",
       "      <td>six</td>\n",
       "      <td>four</td>\n",
       "      <td>five</td>\n",
       "    </tr>\n",
       "    <tr>\n",
       "      <th>engine-size</th>\n",
       "      <td>130</td>\n",
       "      <td>130</td>\n",
       "      <td>152</td>\n",
       "      <td>109</td>\n",
       "      <td>136</td>\n",
       "    </tr>\n",
       "    <tr>\n",
       "      <th>fuel-system</th>\n",
       "      <td>mpfi</td>\n",
       "      <td>mpfi</td>\n",
       "      <td>mpfi</td>\n",
       "      <td>mpfi</td>\n",
       "      <td>mpfi</td>\n",
       "    </tr>\n",
       "    <tr>\n",
       "      <th>bore</th>\n",
       "      <td>3.47</td>\n",
       "      <td>3.47</td>\n",
       "      <td>2.68</td>\n",
       "      <td>3.19</td>\n",
       "      <td>3.19</td>\n",
       "    </tr>\n",
       "    <tr>\n",
       "      <th>stroke</th>\n",
       "      <td>2.68</td>\n",
       "      <td>2.68</td>\n",
       "      <td>3.47</td>\n",
       "      <td>3.4</td>\n",
       "      <td>3.4</td>\n",
       "    </tr>\n",
       "    <tr>\n",
       "      <th>compression-ratio</th>\n",
       "      <td>9.0</td>\n",
       "      <td>9.0</td>\n",
       "      <td>9.0</td>\n",
       "      <td>10.0</td>\n",
       "      <td>8.0</td>\n",
       "    </tr>\n",
       "    <tr>\n",
       "      <th>horsepower</th>\n",
       "      <td>111</td>\n",
       "      <td>111</td>\n",
       "      <td>154</td>\n",
       "      <td>102</td>\n",
       "      <td>115</td>\n",
       "    </tr>\n",
       "    <tr>\n",
       "      <th>peak-rpm</th>\n",
       "      <td>5000</td>\n",
       "      <td>5000</td>\n",
       "      <td>5000</td>\n",
       "      <td>5500</td>\n",
       "      <td>5500</td>\n",
       "    </tr>\n",
       "    <tr>\n",
       "      <th>city-mpg</th>\n",
       "      <td>21</td>\n",
       "      <td>21</td>\n",
       "      <td>19</td>\n",
       "      <td>24</td>\n",
       "      <td>18</td>\n",
       "    </tr>\n",
       "    <tr>\n",
       "      <th>highway-mpg</th>\n",
       "      <td>27</td>\n",
       "      <td>27</td>\n",
       "      <td>26</td>\n",
       "      <td>30</td>\n",
       "      <td>22</td>\n",
       "    </tr>\n",
       "    <tr>\n",
       "      <th>price</th>\n",
       "      <td>13495</td>\n",
       "      <td>16500</td>\n",
       "      <td>16500</td>\n",
       "      <td>13950</td>\n",
       "      <td>17450</td>\n",
       "    </tr>\n",
       "  </tbody>\n",
       "</table>\n",
       "</div>"
      ],
      "text/plain": [
       "                             0            1            2      3      4\n",
       "symboling                    3            3            1      2      2\n",
       "normalized-losses            ?            ?            ?    164    164\n",
       "make               alfa-romero  alfa-romero  alfa-romero   audi   audi\n",
       "fuel-type                  gas          gas          gas    gas    gas\n",
       "aspiration                 std          std          std    std    std\n",
       "num-of-doors               two          two          two   four   four\n",
       "body-style         convertible  convertible    hatchback  sedan  sedan\n",
       "drive-wheels               rwd          rwd          rwd    fwd    4wd\n",
       "engine-location          front        front        front  front  front\n",
       "wheel-base                88.6         88.6         94.5   99.8   99.4\n",
       "length                   168.8        168.8        171.2  176.6  176.6\n",
       "width                     64.1         64.1         65.5   66.2   66.4\n",
       "height                    48.8         48.8         52.4   54.3   54.3\n",
       "curb-weight               2548         2548         2823   2337   2824\n",
       "engine-type               dohc         dohc         ohcv    ohc    ohc\n",
       "num-of-cylinders          four         four          six   four   five\n",
       "engine-size                130          130          152    109    136\n",
       "fuel-system               mpfi         mpfi         mpfi   mpfi   mpfi\n",
       "bore                      3.47         3.47         2.68   3.19   3.19\n",
       "stroke                    2.68         2.68         3.47    3.4    3.4\n",
       "compression-ratio          9.0          9.0          9.0   10.0    8.0\n",
       "horsepower                 111          111          154    102    115\n",
       "peak-rpm                  5000         5000         5000   5500   5500\n",
       "city-mpg                    21           21           19     24     18\n",
       "highway-mpg                 27           27           26     30     22\n",
       "price                    13495        16500        16500  13950  17450"
      ]
     },
     "execution_count": 3,
     "metadata": {},
     "output_type": "execute_result"
    }
   ],
   "source": [
    "df.head().T"
   ]
  },
  {
   "cell_type": "markdown",
   "id": "00a86ce7-2275-47ea-a0cc-6b5830252ee7",
   "metadata": {},
   "source": [
    "# Step 3 :EDA\n",
    "    1.check distribution\n",
    "    2. data types\n",
    "    3. missing values\n",
    "    4. outliers detection\n",
    "    5. scale of the data\n",
    "    6. assumptions"
   ]
  },
  {
   "cell_type": "code",
   "execution_count": 4,
   "id": "cf7ddf9a-ab8b-423a-9238-295007c85e82",
   "metadata": {},
   "outputs": [
    {
     "name": "stdout",
     "output_type": "stream",
     "text": [
      "<class 'pandas.core.frame.DataFrame'>\n",
      "RangeIndex: 205 entries, 0 to 204\n",
      "Data columns (total 26 columns):\n",
      " #   Column             Non-Null Count  Dtype  \n",
      "---  ------             --------------  -----  \n",
      " 0   symboling          205 non-null    int64  \n",
      " 1   normalized-losses  205 non-null    object \n",
      " 2   make               205 non-null    object \n",
      " 3   fuel-type          205 non-null    object \n",
      " 4   aspiration         205 non-null    object \n",
      " 5   num-of-doors       205 non-null    object \n",
      " 6   body-style         205 non-null    object \n",
      " 7   drive-wheels       205 non-null    object \n",
      " 8   engine-location    205 non-null    object \n",
      " 9   wheel-base         205 non-null    float64\n",
      " 10  length             205 non-null    float64\n",
      " 11  width              205 non-null    float64\n",
      " 12  height             205 non-null    float64\n",
      " 13  curb-weight        205 non-null    int64  \n",
      " 14  engine-type        205 non-null    object \n",
      " 15  num-of-cylinders   205 non-null    object \n",
      " 16  engine-size        205 non-null    int64  \n",
      " 17  fuel-system        205 non-null    object \n",
      " 18  bore               205 non-null    object \n",
      " 19  stroke             205 non-null    object \n",
      " 20  compression-ratio  205 non-null    float64\n",
      " 21  horsepower         205 non-null    object \n",
      " 22  peak-rpm           205 non-null    object \n",
      " 23  city-mpg           205 non-null    int64  \n",
      " 24  highway-mpg        205 non-null    int64  \n",
      " 25  price              205 non-null    object \n",
      "dtypes: float64(5), int64(5), object(16)\n",
      "memory usage: 41.8+ KB\n"
     ]
    }
   ],
   "source": [
    "df.info()"
   ]
  },
  {
   "cell_type": "code",
   "execution_count": 5,
   "id": "4e223a88-0c00-458c-900d-281b3276eecf",
   "metadata": {},
   "outputs": [],
   "source": [
    "# data contains symbols\n",
    "# data contains object datatype\n",
    "# data distribution\n",
    "# outliers\n",
    "# Assumptions"
   ]
  },
  {
   "cell_type": "code",
   "execution_count": 6,
   "id": "2594552b-f81d-4158-b7e2-fe1d3cc2a856",
   "metadata": {},
   "outputs": [],
   "source": [
    "## After changing the ? values"
   ]
  },
  {
   "cell_type": "code",
   "execution_count": 7,
   "id": "82fbbbd4-d7ef-433d-b61c-db10737664d9",
   "metadata": {},
   "outputs": [
    {
     "name": "stdout",
     "output_type": "stream",
     "text": [
      "<class 'pandas.core.frame.DataFrame'>\n",
      "RangeIndex: 205 entries, 0 to 204\n",
      "Data columns (total 26 columns):\n",
      " #   Column             Non-Null Count  Dtype  \n",
      "---  ------             --------------  -----  \n",
      " 0   symboling          205 non-null    int64  \n",
      " 1   normalized-losses  205 non-null    object \n",
      " 2   make               205 non-null    object \n",
      " 3   fuel-type          205 non-null    object \n",
      " 4   aspiration         205 non-null    object \n",
      " 5   num-of-doors       205 non-null    object \n",
      " 6   body-style         205 non-null    object \n",
      " 7   drive-wheels       205 non-null    object \n",
      " 8   engine-location    205 non-null    object \n",
      " 9   wheel-base         205 non-null    float64\n",
      " 10  length             205 non-null    float64\n",
      " 11  width              205 non-null    float64\n",
      " 12  height             205 non-null    float64\n",
      " 13  curb-weight        205 non-null    int64  \n",
      " 14  engine-type        205 non-null    object \n",
      " 15  num-of-cylinders   205 non-null    object \n",
      " 16  engine-size        205 non-null    int64  \n",
      " 17  fuel-system        205 non-null    object \n",
      " 18  bore               205 non-null    object \n",
      " 19  stroke             205 non-null    object \n",
      " 20  compression-ratio  205 non-null    float64\n",
      " 21  horsepower         205 non-null    object \n",
      " 22  peak-rpm           205 non-null    object \n",
      " 23  city-mpg           205 non-null    int64  \n",
      " 24  highway-mpg        205 non-null    int64  \n",
      " 25  price              205 non-null    object \n",
      "dtypes: float64(5), int64(5), object(16)\n",
      "memory usage: 41.8+ KB\n"
     ]
    }
   ],
   "source": [
    "df.info()"
   ]
  },
  {
   "cell_type": "code",
   "execution_count": 8,
   "id": "b42bd996-2231-4e0d-a5cb-54c0570cfab7",
   "metadata": {},
   "outputs": [
    {
     "data": {
      "text/plain": [
       "Index(['symboling', 'normalized-losses', 'make', 'fuel-type', 'aspiration',\n",
       "       'num-of-doors', 'body-style', 'drive-wheels', 'engine-location',\n",
       "       'wheel-base', 'length', 'width', 'height', 'curb-weight', 'engine-type',\n",
       "       'num-of-cylinders', 'engine-size', 'fuel-system', 'bore', 'stroke',\n",
       "       'compression-ratio', 'horsepower', 'peak-rpm', 'city-mpg',\n",
       "       'highway-mpg', 'price'],\n",
       "      dtype='object')"
      ]
     },
     "execution_count": 8,
     "metadata": {},
     "output_type": "execute_result"
    }
   ],
   "source": [
    "df.columns"
   ]
  },
  {
   "cell_type": "markdown",
   "id": "e5ec7131-ab3b-4087-964e-4f29147544b9",
   "metadata": {},
   "source": [
    "# 3.1 Symboling"
   ]
  },
  {
   "cell_type": "code",
   "execution_count": 9,
   "id": "d96dd808-b3ea-49e8-a49f-884bc6ac928a",
   "metadata": {},
   "outputs": [
    {
     "data": {
      "text/plain": [
       "0      3\n",
       "1      3\n",
       "2      1\n",
       "3      2\n",
       "4      2\n",
       "      ..\n",
       "200   -1\n",
       "201   -1\n",
       "202   -1\n",
       "203   -1\n",
       "204   -1\n",
       "Name: symboling, Length: 205, dtype: int64"
      ]
     },
     "execution_count": 9,
     "metadata": {},
     "output_type": "execute_result"
    }
   ],
   "source": [
    "df['symboling']"
   ]
  },
  {
   "cell_type": "code",
   "execution_count": 10,
   "id": "e643ef53-75aa-4cce-8162-1d4904fa3bbd",
   "metadata": {},
   "outputs": [
    {
     "data": {
      "text/plain": [
       "array([ 3,  1,  2,  0, -1, -2], dtype=int64)"
      ]
     },
     "execution_count": 10,
     "metadata": {},
     "output_type": "execute_result"
    }
   ],
   "source": [
    "df['symboling'].unique()"
   ]
  },
  {
   "cell_type": "markdown",
   "id": "7dd7b3b5-2239-42ce-92d6-46d149db02f3",
   "metadata": {},
   "source": [
    "#### need discussion on this column"
   ]
  },
  {
   "cell_type": "markdown",
   "id": "1f0d8e6c-a357-4c8f-8a01-33635a37a7ef",
   "metadata": {},
   "source": [
    "#### 3.2 normalized-losses"
   ]
  },
  {
   "cell_type": "code",
   "execution_count": 11,
   "id": "fe7395ea-3724-41c0-8fa7-fcfce9ac7749",
   "metadata": {},
   "outputs": [
    {
     "data": {
      "text/plain": [
       "0        ?\n",
       "1        ?\n",
       "2        ?\n",
       "3      164\n",
       "4      164\n",
       "      ... \n",
       "200     95\n",
       "201     95\n",
       "202     95\n",
       "203     95\n",
       "204     95\n",
       "Name: normalized-losses, Length: 205, dtype: object"
      ]
     },
     "execution_count": 11,
     "metadata": {},
     "output_type": "execute_result"
    }
   ],
   "source": [
    "df['normalized-losses']"
   ]
  },
  {
   "cell_type": "code",
   "execution_count": 12,
   "id": "0dbc97ec-f7dd-434e-ba65-b026b1ad170e",
   "metadata": {},
   "outputs": [
    {
     "data": {
      "text/plain": [
       "array(['?', '164', '158', '192', '188', '121', '98', '81', '118', '148',\n",
       "       '110', '145', '137', '101', '78', '106', '85', '107', '104', '113',\n",
       "       '150', '129', '115', '93', '142', '161', '153', '125', '128',\n",
       "       '122', '103', '168', '108', '194', '231', '119', '154', '74',\n",
       "       '186', '83', '102', '89', '87', '77', '91', '134', '65', '197',\n",
       "       '90', '94', '256', '95'], dtype=object)"
      ]
     },
     "execution_count": 12,
     "metadata": {},
     "output_type": "execute_result"
    }
   ],
   "source": [
    "df['normalized-losses'].unique()"
   ]
  },
  {
   "cell_type": "code",
   "execution_count": 13,
   "id": "3e8e7809-aa9f-4619-a90a-a4dcf50702c3",
   "metadata": {},
   "outputs": [
    {
     "data": {
      "text/plain": [
       "?      41\n",
       "161    11\n",
       "91      8\n",
       "150     7\n",
       "134     6\n",
       "128     6\n",
       "104     6\n",
       "85      5\n",
       "94      5\n",
       "65      5\n",
       "102     5\n",
       "74      5\n",
       "168     5\n",
       "103     5\n",
       "95      5\n",
       "106     4\n",
       "93      4\n",
       "118     4\n",
       "148     4\n",
       "122     4\n",
       "83      3\n",
       "125     3\n",
       "154     3\n",
       "115     3\n",
       "137     3\n",
       "101     3\n",
       "119     2\n",
       "87      2\n",
       "89      2\n",
       "192     2\n",
       "197     2\n",
       "158     2\n",
       "81      2\n",
       "188     2\n",
       "194     2\n",
       "153     2\n",
       "129     2\n",
       "108     2\n",
       "110     2\n",
       "164     2\n",
       "145     2\n",
       "113     2\n",
       "256     1\n",
       "107     1\n",
       "90      1\n",
       "231     1\n",
       "142     1\n",
       "121     1\n",
       "78      1\n",
       "98      1\n",
       "186     1\n",
       "77      1\n",
       "Name: normalized-losses, dtype: int64"
      ]
     },
     "execution_count": 13,
     "metadata": {},
     "output_type": "execute_result"
    }
   ],
   "source": [
    "df['normalized-losses'].value_counts()"
   ]
  },
  {
   "cell_type": "code",
   "execution_count": 14,
   "id": "42e16cf2-43bf-4795-9737-1498b24d0475",
   "metadata": {},
   "outputs": [],
   "source": [
    "## this column need to convert into int\n",
    "## miising values found need to handle"
   ]
  },
  {
   "cell_type": "markdown",
   "id": "82fdaeb8-d0c0-44f1-bd19-81ef7c4dbaed",
   "metadata": {},
   "source": [
    "#### 3.3 make"
   ]
  },
  {
   "cell_type": "code",
   "execution_count": 15,
   "id": "a9dc8f40-94bd-40d0-a946-5f3e0f0c94f0",
   "metadata": {},
   "outputs": [
    {
     "data": {
      "text/plain": [
       "0      alfa-romero\n",
       "1      alfa-romero\n",
       "2      alfa-romero\n",
       "3             audi\n",
       "4             audi\n",
       "          ...     \n",
       "200          volvo\n",
       "201          volvo\n",
       "202          volvo\n",
       "203          volvo\n",
       "204          volvo\n",
       "Name: make, Length: 205, dtype: object"
      ]
     },
     "execution_count": 15,
     "metadata": {},
     "output_type": "execute_result"
    }
   ],
   "source": [
    "df['make']"
   ]
  },
  {
   "cell_type": "code",
   "execution_count": 16,
   "id": "cc9e097c-d9b0-4163-a497-f137e6f96918",
   "metadata": {},
   "outputs": [
    {
     "data": {
      "text/plain": [
       "array(['alfa-romero', 'audi', 'bmw', 'chevrolet', 'dodge', 'honda',\n",
       "       'isuzu', 'jaguar', 'mazda', 'mercedes-benz', 'mercury',\n",
       "       'mitsubishi', 'nissan', 'peugot', 'plymouth', 'porsche', 'renault',\n",
       "       'saab', 'subaru', 'toyota', 'volkswagen', 'volvo'], dtype=object)"
      ]
     },
     "execution_count": 16,
     "metadata": {},
     "output_type": "execute_result"
    }
   ],
   "source": [
    "df['make'].unique()"
   ]
  },
  {
   "cell_type": "code",
   "execution_count": 17,
   "id": "305cc0b0-5ed4-4547-b5ed-3cf3aa643a41",
   "metadata": {},
   "outputs": [
    {
     "data": {
      "text/plain": [
       "22"
      ]
     },
     "execution_count": 17,
     "metadata": {},
     "output_type": "execute_result"
    }
   ],
   "source": [
    "df['make'].nunique()"
   ]
  },
  {
   "cell_type": "code",
   "execution_count": 18,
   "id": "e16d0aa3-e276-4871-8efe-60fa3d065651",
   "metadata": {},
   "outputs": [
    {
     "data": {
      "text/plain": [
       "array(['alfa-romero', 'audi', 'bmw', 'chevrolet', 'dodge', 'honda',\n",
       "       'isuzu', 'jaguar', 'mazda', 'mercedes-benz', 'mercury',\n",
       "       'mitsubishi', 'nissan', 'peugot', 'plymouth', 'porsche', 'renault',\n",
       "       'saab', 'subaru', 'toyota', 'volkswagen', 'volvo'], dtype=object)"
      ]
     },
     "execution_count": 18,
     "metadata": {},
     "output_type": "execute_result"
    }
   ],
   "source": [
    "df['make'].unique() # this nominal data : Solution = one hot encoding"
   ]
  },
  {
   "cell_type": "markdown",
   "id": "9b5dbe66-bc50-45bc-862f-2f02fa464b0e",
   "metadata": {},
   "source": [
    "#### 3.4 fuel-type"
   ]
  },
  {
   "cell_type": "code",
   "execution_count": 19,
   "id": "45539f8c-068b-443c-a536-07e759f59fad",
   "metadata": {},
   "outputs": [
    {
     "data": {
      "text/plain": [
       "array(['gas', 'diesel'], dtype=object)"
      ]
     },
     "execution_count": 19,
     "metadata": {},
     "output_type": "execute_result"
    }
   ],
   "source": [
    "df['fuel-type'].unique()"
   ]
  },
  {
   "cell_type": "code",
   "execution_count": 20,
   "id": "7833904e-be34-45f5-a31f-ef2a640167a7",
   "metadata": {},
   "outputs": [
    {
     "data": {
      "text/plain": [
       "2"
      ]
     },
     "execution_count": 20,
     "metadata": {},
     "output_type": "execute_result"
    }
   ],
   "source": [
    "df['fuel-type'].nunique()"
   ]
  },
  {
   "cell_type": "code",
   "execution_count": 21,
   "id": "81b963df-43f8-4be9-b8f7-59f2d0cb0c6c",
   "metadata": {},
   "outputs": [
    {
     "data": {
      "text/plain": [
       "gas       185\n",
       "diesel     20\n",
       "Name: fuel-type, dtype: int64"
      ]
     },
     "execution_count": 21,
     "metadata": {},
     "output_type": "execute_result"
    }
   ],
   "source": [
    "df['fuel-type'].value_counts()"
   ]
  },
  {
   "cell_type": "code",
   "execution_count": 22,
   "id": "3b88f900-bd38-4bcb-bc90-b9876f0f230a",
   "metadata": {},
   "outputs": [],
   "source": [
    "## this is categorical data (Nominal data ) : one hot encoding"
   ]
  },
  {
   "cell_type": "markdown",
   "id": "58723d5b-c4d9-4707-b44e-5c9980313617",
   "metadata": {},
   "source": [
    "#### 3.5 num-of-doors\n"
   ]
  },
  {
   "cell_type": "code",
   "execution_count": 23,
   "id": "77cb01cd-3ce2-401c-84bc-00239f2ef6ac",
   "metadata": {},
   "outputs": [
    {
     "data": {
      "text/plain": [
       "array(['two', 'four', '?'], dtype=object)"
      ]
     },
     "execution_count": 23,
     "metadata": {},
     "output_type": "execute_result"
    }
   ],
   "source": [
    "df['num-of-doors'].unique()"
   ]
  },
  {
   "cell_type": "code",
   "execution_count": 24,
   "id": "cd9fcaf3-6339-40b5-a9fe-6277cd6ac309",
   "metadata": {},
   "outputs": [
    {
     "data": {
      "text/plain": [
       "four    114\n",
       "two      89\n",
       "?         2\n",
       "Name: num-of-doors, dtype: int64"
      ]
     },
     "execution_count": 24,
     "metadata": {},
     "output_type": "execute_result"
    }
   ],
   "source": [
    "df['num-of-doors'].value_counts()"
   ]
  },
  {
   "cell_type": "code",
   "execution_count": 25,
   "id": "3916160b-4ae2-4a90-bbfb-10721c4f4137",
   "metadata": {},
   "outputs": [],
   "source": [
    "## This is ordianl data we have to convert into  numerical format\n",
    "## solution : label encoding\n"
   ]
  },
  {
   "cell_type": "code",
   "execution_count": null,
   "id": "83e119eb-bef9-4547-84cd-6de55b0a9bc2",
   "metadata": {},
   "outputs": [],
   "source": []
  },
  {
   "cell_type": "code",
   "execution_count": null,
   "id": "50319242-0df8-405e-b27f-0e838d25f224",
   "metadata": {},
   "outputs": [],
   "source": []
  },
  {
   "cell_type": "code",
   "execution_count": null,
   "id": "6f70b53c-0cc0-481a-bf67-d7d4333c819a",
   "metadata": {},
   "outputs": [],
   "source": []
  },
  {
   "cell_type": "code",
   "execution_count": null,
   "id": "cd29ceae-ac98-459a-956e-ef8c5360548e",
   "metadata": {},
   "outputs": [],
   "source": []
  },
  {
   "cell_type": "code",
   "execution_count": null,
   "id": "b65070b7-9cea-43d9-bb3d-6df02d799a30",
   "metadata": {},
   "outputs": [],
   "source": []
  },
  {
   "cell_type": "code",
   "execution_count": null,
   "id": "3274648e-582a-41ee-97cf-0724890c8f5b",
   "metadata": {},
   "outputs": [],
   "source": []
  },
  {
   "cell_type": "code",
   "execution_count": null,
   "id": "31cbf928-667e-43ac-b1ae-c8491b77b925",
   "metadata": {},
   "outputs": [],
   "source": []
  },
  {
   "cell_type": "code",
   "execution_count": null,
   "id": "74316076-4d06-4c2d-ab10-3839cae52206",
   "metadata": {},
   "outputs": [],
   "source": []
  },
  {
   "cell_type": "code",
   "execution_count": null,
   "id": "17ffbcda-6101-40da-89b4-a6cb6e0856d1",
   "metadata": {},
   "outputs": [],
   "source": []
  },
  {
   "cell_type": "code",
   "execution_count": null,
   "id": "2dec89ca-78a8-4adf-b3b6-8e43e0585e0d",
   "metadata": {},
   "outputs": [],
   "source": []
  },
  {
   "cell_type": "markdown",
   "id": "cff5bbe4-384c-40f1-8fbc-474a6a446f4d",
   "metadata": {},
   "source": [
    "# Step 4 Feature Engineering"
   ]
  },
  {
   "cell_type": "markdown",
   "id": "95b7850c-d4a6-48b9-92fd-87bc590d9ba4",
   "metadata": {},
   "source": [
    "#### <center> replace ? marks with nan values </center>"
   ]
  },
  {
   "cell_type": "code",
   "execution_count": 26,
   "id": "23578fc0-d7c7-4a18-beb1-ec7e802840c3",
   "metadata": {},
   "outputs": [],
   "source": [
    "df =df.replace({'?':np.nan})"
   ]
  },
  {
   "cell_type": "code",
   "execution_count": 27,
   "id": "fa8b32ed-5b21-46f8-9e0c-2308c653fb3a",
   "metadata": {},
   "outputs": [],
   "source": [
    "df['normalized-losses'] =df['normalized-losses'].astype(float)"
   ]
  },
  {
   "cell_type": "code",
   "execution_count": 28,
   "id": "86f2b5d4-5351-4a21-8e04-3c39b9e4518e",
   "metadata": {},
   "outputs": [
    {
     "data": {
      "text/plain": [
       "161.0"
      ]
     },
     "execution_count": 28,
     "metadata": {},
     "output_type": "execute_result"
    }
   ],
   "source": [
    "## handling missing values for normalisez-losses\n",
    "df['normalized-losses'].mean()\n",
    "df['normalized-losses'].median()\n",
    "df['normalized-losses'].mode()[0]"
   ]
  },
  {
   "cell_type": "code",
   "execution_count": 29,
   "id": "a1586a28-e187-4ec8-abd8-408020ed13f3",
   "metadata": {},
   "outputs": [
    {
     "data": {
      "text/plain": [
       "<AxesSubplot:xlabel='normalized-losses', ylabel='Density'>"
      ]
     },
     "execution_count": 29,
     "metadata": {},
     "output_type": "execute_result"
    },
    {
     "data": {
      "image/png": "[encoded data removed]",
      "text/plain": [
       "<Figure size 640x480 with 1 Axes>"
      ]
     },
     "metadata": {},
     "output_type": "display_data"
    }
   ],
   "source": [
    "sns.kdeplot(df['normalized-losses'])"
   ]
  },
  {
   "cell_type": "code",
   "execution_count": 30,
   "id": "df2dc97c-a0a2-4764-b848-bd75f50e91f5",
   "metadata": {},
   "outputs": [],
   "source": [
    "df['normalized-losses'].fillna(df['normalized-losses'].median(),inplace= True)"
   ]
  },
  {
   "cell_type": "code",
   "execution_count": 31,
   "id": "71972d66-cbb9-4719-bef4-232ae4bd0b19",
   "metadata": {},
   "outputs": [
    {
     "data": {
      "text/plain": [
       "0"
      ]
     },
     "execution_count": 31,
     "metadata": {},
     "output_type": "execute_result"
    }
   ],
   "source": [
    "df['normalized-losses'].isna().sum()"
   ]
  },
  {
   "cell_type": "code",
   "execution_count": 32,
   "id": "2f58c194-ee52-4578-ab7d-cba53e926917",
   "metadata": {},
   "outputs": [
    {
     "data": {
      "text/plain": [
       "dtype('float64')"
      ]
     },
     "execution_count": 32,
     "metadata": {},
     "output_type": "execute_result"
    }
   ],
   "source": [
    "df['normalized-losses'].dtype"
   ]
  },
  {
   "cell_type": "code",
   "execution_count": 33,
   "id": "5cd2425f-be9b-48ba-b0df-c4734373915f",
   "metadata": {},
   "outputs": [],
   "source": [
    "df['normalized-losses'] = df['normalized-losses'].astype(int)"
   ]
  },
  {
   "cell_type": "code",
   "execution_count": 34,
   "id": "8f5d6768-1109-488b-aada-a757535542aa",
   "metadata": {},
   "outputs": [
    {
     "data": {
      "text/plain": [
       "dtype('int32')"
      ]
     },
     "execution_count": 34,
     "metadata": {},
     "output_type": "execute_result"
    }
   ],
   "source": [
    "df['normalized-losses'].dtype"
   ]
  },
  {
   "cell_type": "markdown",
   "id": "649a5248-8d94-482a-9853-af45be82957b",
   "metadata": {},
   "source": [
    "# 4.3 make"
   ]
  },
  {
   "cell_type": "code",
   "execution_count": 35,
   "id": "5c8d2de6-19c2-476a-9556-d1848f41a9c7",
   "metadata": {},
   "outputs": [
    {
     "data": {
      "text/html": [
       "<div>\n",
       "<style scoped>\n",
       "    .dataframe tbody tr th:only-of-type {\n",
       "        vertical-align: middle;\n",
       "    }\n",
       "\n",
       "    .dataframe tbody tr th {\n",
       "        vertical-align: top;\n",
       "    }\n",
       "\n",
       "    .dataframe thead th {\n",
       "        text-align: right;\n",
       "    }\n",
       "</style>\n",
       "<table border=\"1\" class=\"dataframe\">\n",
       "  <thead>\n",
       "    <tr style=\"text-align: right;\">\n",
       "      <th></th>\n",
       "      <th>symboling</th>\n",
       "      <th>normalized-losses</th>\n",
       "      <th>fuel-type</th>\n",
       "      <th>aspiration</th>\n",
       "      <th>num-of-doors</th>\n",
       "      <th>body-style</th>\n",
       "      <th>drive-wheels</th>\n",
       "      <th>engine-location</th>\n",
       "      <th>wheel-base</th>\n",
       "      <th>length</th>\n",
       "      <th>...</th>\n",
       "      <th>make_nissan</th>\n",
       "      <th>make_peugot</th>\n",
       "      <th>make_plymouth</th>\n",
       "      <th>make_porsche</th>\n",
       "      <th>make_renault</th>\n",
       "      <th>make_saab</th>\n",
       "      <th>make_subaru</th>\n",
       "      <th>make_toyota</th>\n",
       "      <th>make_volkswagen</th>\n",
       "      <th>make_volvo</th>\n",
       "    </tr>\n",
       "  </thead>\n",
       "  <tbody>\n",
       "    <tr>\n",
       "      <th>0</th>\n",
       "      <td>3</td>\n",
       "      <td>115</td>\n",
       "      <td>gas</td>\n",
       "      <td>std</td>\n",
       "      <td>two</td>\n",
       "      <td>convertible</td>\n",
       "      <td>rwd</td>\n",
       "      <td>front</td>\n",
       "      <td>88.6</td>\n",
       "      <td>168.8</td>\n",
       "      <td>...</td>\n",
       "      <td>0</td>\n",
       "      <td>0</td>\n",
       "      <td>0</td>\n",
       "      <td>0</td>\n",
       "      <td>0</td>\n",
       "      <td>0</td>\n",
       "      <td>0</td>\n",
       "      <td>0</td>\n",
       "      <td>0</td>\n",
       "      <td>0</td>\n",
       "    </tr>\n",
       "    <tr>\n",
       "      <th>1</th>\n",
       "      <td>3</td>\n",
       "      <td>115</td>\n",
       "      <td>gas</td>\n",
       "      <td>std</td>\n",
       "      <td>two</td>\n",
       "      <td>convertible</td>\n",
       "      <td>rwd</td>\n",
       "      <td>front</td>\n",
       "      <td>88.6</td>\n",
       "      <td>168.8</td>\n",
       "      <td>...</td>\n",
       "      <td>0</td>\n",
       "      <td>0</td>\n",
       "      <td>0</td>\n",
       "      <td>0</td>\n",
       "      <td>0</td>\n",
       "      <td>0</td>\n",
       "      <td>0</td>\n",
       "      <td>0</td>\n",
       "      <td>0</td>\n",
       "      <td>0</td>\n",
       "    </tr>\n",
       "    <tr>\n",
       "      <th>2</th>\n",
       "      <td>1</td>\n",
       "      <td>115</td>\n",
       "      <td>gas</td>\n",
       "      <td>std</td>\n",
       "      <td>two</td>\n",
       "      <td>hatchback</td>\n",
       "      <td>rwd</td>\n",
       "      <td>front</td>\n",
       "      <td>94.5</td>\n",
       "      <td>171.2</td>\n",
       "      <td>...</td>\n",
       "      <td>0</td>\n",
       "      <td>0</td>\n",
       "      <td>0</td>\n",
       "      <td>0</td>\n",
       "      <td>0</td>\n",
       "      <td>0</td>\n",
       "      <td>0</td>\n",
       "      <td>0</td>\n",
       "      <td>0</td>\n",
       "      <td>0</td>\n",
       "    </tr>\n",
       "    <tr>\n",
       "      <th>3</th>\n",
       "      <td>2</td>\n",
       "      <td>164</td>\n",
       "      <td>gas</td>\n",
       "      <td>std</td>\n",
       "      <td>four</td>\n",
       "      <td>sedan</td>\n",
       "      <td>fwd</td>\n",
       "      <td>front</td>\n",
       "      <td>99.8</td>\n",
       "      <td>176.6</td>\n",
       "      <td>...</td>\n",
       "      <td>0</td>\n",
       "      <td>0</td>\n",
       "      <td>0</td>\n",
       "      <td>0</td>\n",
       "      <td>0</td>\n",
       "      <td>0</td>\n",
       "      <td>0</td>\n",
       "      <td>0</td>\n",
       "      <td>0</td>\n",
       "      <td>0</td>\n",
       "    </tr>\n",
       "    <tr>\n",
       "      <th>4</th>\n",
       "      <td>2</td>\n",
       "      <td>164</td>\n",
       "      <td>gas</td>\n",
       "      <td>std</td>\n",
       "      <td>four</td>\n",
       "      <td>sedan</td>\n",
       "      <td>4wd</td>\n",
       "      <td>front</td>\n",
       "      <td>99.4</td>\n",
       "      <td>176.6</td>\n",
       "      <td>...</td>\n",
       "      <td>0</td>\n",
       "      <td>0</td>\n",
       "      <td>0</td>\n",
       "      <td>0</td>\n",
       "      <td>0</td>\n",
       "      <td>0</td>\n",
       "      <td>0</td>\n",
       "      <td>0</td>\n",
       "      <td>0</td>\n",
       "      <td>0</td>\n",
       "    </tr>\n",
       "    <tr>\n",
       "      <th>...</th>\n",
       "      <td>...</td>\n",
       "      <td>...</td>\n",
       "      <td>...</td>\n",
       "      <td>...</td>\n",
       "      <td>...</td>\n",
       "      <td>...</td>\n",
       "      <td>...</td>\n",
       "      <td>...</td>\n",
       "      <td>...</td>\n",
       "      <td>...</td>\n",
       "      <td>...</td>\n",
       "      <td>...</td>\n",
       "      <td>...</td>\n",
       "      <td>...</td>\n",
       "      <td>...</td>\n",
       "      <td>...</td>\n",
       "      <td>...</td>\n",
       "      <td>...</td>\n",
       "      <td>...</td>\n",
       "      <td>...</td>\n",
       "      <td>...</td>\n",
       "    </tr>\n",
       "    <tr>\n",
       "      <th>200</th>\n",
       "      <td>-1</td>\n",
       "      <td>95</td>\n",
       "      <td>gas</td>\n",
       "      <td>std</td>\n",
       "      <td>four</td>\n",
       "      <td>sedan</td>\n",
       "      <td>rwd</td>\n",
       "      <td>front</td>\n",
       "      <td>109.1</td>\n",
       "      <td>188.8</td>\n",
       "      <td>...</td>\n",
       "      <td>0</td>\n",
       "      <td>0</td>\n",
       "      <td>0</td>\n",
       "      <td>0</td>\n",
       "      <td>0</td>\n",
       "      <td>0</td>\n",
       "      <td>0</td>\n",
       "      <td>0</td>\n",
       "      <td>0</td>\n",
       "      <td>1</td>\n",
       "    </tr>\n",
       "    <tr>\n",
       "      <th>201</th>\n",
       "      <td>-1</td>\n",
       "      <td>95</td>\n",
       "      <td>gas</td>\n",
       "      <td>turbo</td>\n",
       "      <td>four</td>\n",
       "      <td>sedan</td>\n",
       "      <td>rwd</td>\n",
       "      <td>front</td>\n",
       "      <td>109.1</td>\n",
       "      <td>188.8</td>\n",
       "      <td>...</td>\n",
       "      <td>0</td>\n",
       "      <td>0</td>\n",
       "      <td>0</td>\n",
       "      <td>0</td>\n",
       "      <td>0</td>\n",
       "      <td>0</td>\n",
       "      <td>0</td>\n",
       "      <td>0</td>\n",
       "      <td>0</td>\n",
       "      <td>1</td>\n",
       "    </tr>\n",
       "    <tr>\n",
       "      <th>202</th>\n",
       "      <td>-1</td>\n",
       "      <td>95</td>\n",
       "      <td>gas</td>\n",
       "      <td>std</td>\n",
       "      <td>four</td>\n",
       "      <td>sedan</td>\n",
       "      <td>rwd</td>\n",
       "      <td>front</td>\n",
       "      <td>109.1</td>\n",
       "      <td>188.8</td>\n",
       "      <td>...</td>\n",
       "      <td>0</td>\n",
       "      <td>0</td>\n",
       "      <td>0</td>\n",
       "      <td>0</td>\n",
       "      <td>0</td>\n",
       "      <td>0</td>\n",
       "      <td>0</td>\n",
       "      <td>0</td>\n",
       "      <td>0</td>\n",
       "      <td>1</td>\n",
       "    </tr>\n",
       "    <tr>\n",
       "      <th>203</th>\n",
       "      <td>-1</td>\n",
       "      <td>95</td>\n",
       "      <td>diesel</td>\n",
       "      <td>turbo</td>\n",
       "      <td>four</td>\n",
       "      <td>sedan</td>\n",
       "      <td>rwd</td>\n",
       "      <td>front</td>\n",
       "      <td>109.1</td>\n",
       "      <td>188.8</td>\n",
       "      <td>...</td>\n",
       "      <td>0</td>\n",
       "      <td>0</td>\n",
       "      <td>0</td>\n",
       "      <td>0</td>\n",
       "      <td>0</td>\n",
       "      <td>0</td>\n",
       "      <td>0</td>\n",
       "      <td>0</td>\n",
       "      <td>0</td>\n",
       "      <td>1</td>\n",
       "    </tr>\n",
       "    <tr>\n",
       "      <th>204</th>\n",
       "      <td>-1</td>\n",
       "      <td>95</td>\n",
       "      <td>gas</td>\n",
       "      <td>turbo</td>\n",
       "      <td>four</td>\n",
       "      <td>sedan</td>\n",
       "      <td>rwd</td>\n",
       "      <td>front</td>\n",
       "      <td>109.1</td>\n",
       "      <td>188.8</td>\n",
       "      <td>...</td>\n",
       "      <td>0</td>\n",
       "      <td>0</td>\n",
       "      <td>0</td>\n",
       "      <td>0</td>\n",
       "      <td>0</td>\n",
       "      <td>0</td>\n",
       "      <td>0</td>\n",
       "      <td>0</td>\n",
       "      <td>0</td>\n",
       "      <td>1</td>\n",
       "    </tr>\n",
       "  </tbody>\n",
       "</table>\n",
       "<p>205 rows × 47 columns</p>\n",
       "</div>"
      ],
      "text/plain": [
       "     symboling  normalized-losses fuel-type aspiration num-of-doors  \\\n",
       "0            3                115       gas        std          two   \n",
       "1            3                115       gas        std          two   \n",
       "2            1                115       gas        std          two   \n",
       "3            2                164       gas        std         four   \n",
       "4            2                164       gas        std         four   \n",
       "..         ...                ...       ...        ...          ...   \n",
       "200         -1                 95       gas        std         four   \n",
       "201         -1                 95       gas      turbo         four   \n",
       "202         -1                 95       gas        std         four   \n",
       "203         -1                 95    diesel      turbo         four   \n",
       "204         -1                 95       gas      turbo         four   \n",
       "\n",
       "      body-style drive-wheels engine-location  wheel-base  length  ...  \\\n",
       "0    convertible          rwd           front        88.6   168.8  ...   \n",
       "1    convertible          rwd           front        88.6   168.8  ...   \n",
       "2      hatchback          rwd           front        94.5   171.2  ...   \n",
       "3          sedan          fwd           front        99.8   176.6  ...   \n",
       "4          sedan          4wd           front        99.4   176.6  ...   \n",
       "..           ...          ...             ...         ...     ...  ...   \n",
       "200        sedan          rwd           front       109.1   188.8  ...   \n",
       "201        sedan          rwd           front       109.1   188.8  ...   \n",
       "202        sedan          rwd           front       109.1   188.8  ...   \n",
       "203        sedan          rwd           front       109.1   188.8  ...   \n",
       "204        sedan          rwd           front       109.1   188.8  ...   \n",
       "\n",
       "     make_nissan  make_peugot  make_plymouth make_porsche make_renault  \\\n",
       "0              0            0              0            0            0   \n",
       "1              0            0              0            0            0   \n",
       "2              0            0              0            0            0   \n",
       "3              0            0              0            0            0   \n",
       "4              0            0              0            0            0   \n",
       "..           ...          ...            ...          ...          ...   \n",
       "200            0            0              0            0            0   \n",
       "201            0            0              0            0            0   \n",
       "202            0            0              0            0            0   \n",
       "203            0            0              0            0            0   \n",
       "204            0            0              0            0            0   \n",
       "\n",
       "     make_saab make_subaru make_toyota make_volkswagen  make_volvo  \n",
       "0            0           0           0               0           0  \n",
       "1            0           0           0               0           0  \n",
       "2            0           0           0               0           0  \n",
       "3            0           0           0               0           0  \n",
       "4            0           0           0               0           0  \n",
       "..         ...         ...         ...             ...         ...  \n",
       "200          0           0           0               0           1  \n",
       "201          0           0           0               0           1  \n",
       "202          0           0           0               0           1  \n",
       "203          0           0           0               0           1  \n",
       "204          0           0           0               0           1  \n",
       "\n",
       "[205 rows x 47 columns]"
      ]
     },
     "execution_count": 35,
     "metadata": {},
     "output_type": "execute_result"
    }
   ],
   "source": [
    "df = pd.get_dummies(df,columns=['make'])\n",
    "df"
   ]
  },
  {
   "cell_type": "code",
   "execution_count": 36,
   "id": "c6185ac2-7179-46c5-bc28-06db127ee274",
   "metadata": {},
   "outputs": [
    {
     "name": "stdout",
     "output_type": "stream",
     "text": [
      "<class 'pandas.core.frame.DataFrame'>\n",
      "RangeIndex: 205 entries, 0 to 204\n",
      "Data columns (total 47 columns):\n",
      " #   Column              Non-Null Count  Dtype  \n",
      "---  ------              --------------  -----  \n",
      " 0   symboling           205 non-null    int64  \n",
      " 1   normalized-losses   205 non-null    int32  \n",
      " 2   fuel-type           205 non-null    object \n",
      " 3   aspiration          205 non-null    object \n",
      " 4   num-of-doors        203 non-null    object \n",
      " 5   body-style          205 non-null    object \n",
      " 6   drive-wheels        205 non-null    object \n",
      " 7   engine-location     205 non-null    object \n",
      " 8   wheel-base          205 non-null    float64\n",
      " 9   length              205 non-null    float64\n",
      " 10  width               205 non-null    float64\n",
      " 11  height              205 non-null    float64\n",
      " 12  curb-weight         205 non-null    int64  \n",
      " 13  engine-type         205 non-null    object \n",
      " 14  num-of-cylinders    205 non-null    object \n",
      " 15  engine-size         205 non-null    int64  \n",
      " 16  fuel-system         205 non-null    object \n",
      " 17  bore                201 non-null    object \n",
      " 18  stroke              201 non-null    object \n",
      " 19  compression-ratio   205 non-null    float64\n",
      " 20  horsepower          203 non-null    object \n",
      " 21  peak-rpm            203 non-null    object \n",
      " 22  city-mpg            205 non-null    int64  \n",
      " 23  highway-mpg         205 non-null    int64  \n",
      " 24  price               201 non-null    object \n",
      " 25  make_alfa-romero    205 non-null    uint8  \n",
      " 26  make_audi           205 non-null    uint8  \n",
      " 27  make_bmw            205 non-null    uint8  \n",
      " 28  make_chevrolet      205 non-null    uint8  \n",
      " 29  make_dodge          205 non-null    uint8  \n",
      " 30  make_honda          205 non-null    uint8  \n",
      " 31  make_isuzu          205 non-null    uint8  \n",
      " 32  make_jaguar         205 non-null    uint8  \n",
      " 33  make_mazda          205 non-null    uint8  \n",
      " 34  make_mercedes-benz  205 non-null    uint8  \n",
      " 35  make_mercury        205 non-null    uint8  \n",
      " 36  make_mitsubishi     205 non-null    uint8  \n",
      " 37  make_nissan         205 non-null    uint8  \n",
      " 38  make_peugot         205 non-null    uint8  \n",
      " 39  make_plymouth       205 non-null    uint8  \n",
      " 40  make_porsche        205 non-null    uint8  \n",
      " 41  make_renault        205 non-null    uint8  \n",
      " 42  make_saab           205 non-null    uint8  \n",
      " 43  make_subaru         205 non-null    uint8  \n",
      " 44  make_toyota         205 non-null    uint8  \n",
      " 45  make_volkswagen     205 non-null    uint8  \n",
      " 46  make_volvo          205 non-null    uint8  \n",
      "dtypes: float64(5), int32(1), int64(5), object(14), uint8(22)\n",
      "memory usage: 43.8+ KB\n"
     ]
    }
   ],
   "source": [
    "df.info()"
   ]
  },
  {
   "cell_type": "code",
   "execution_count": 37,
   "id": "33c63f16-cc33-474e-a5ca-588f661c5a0f",
   "metadata": {},
   "outputs": [
    {
     "data": {
      "text/plain": [
       "Index(['symboling', 'normalized-losses', 'fuel-type', 'aspiration',\n",
       "       'num-of-doors', 'body-style', 'drive-wheels', 'engine-location',\n",
       "       'wheel-base', 'length', 'width', 'height', 'curb-weight', 'engine-type',\n",
       "       'num-of-cylinders', 'engine-size', 'fuel-system', 'bore', 'stroke',\n",
       "       'compression-ratio', 'horsepower', 'peak-rpm', 'city-mpg',\n",
       "       'highway-mpg', 'price', 'make_alfa-romero', 'make_audi', 'make_bmw',\n",
       "       'make_chevrolet', 'make_dodge', 'make_honda', 'make_isuzu',\n",
       "       'make_jaguar', 'make_mazda', 'make_mercedes-benz', 'make_mercury',\n",
       "       'make_mitsubishi', 'make_nissan', 'make_peugot', 'make_plymouth',\n",
       "       'make_porsche', 'make_renault', 'make_saab', 'make_subaru',\n",
       "       'make_toyota', 'make_volkswagen', 'make_volvo'],\n",
       "      dtype='object')"
      ]
     },
     "execution_count": 37,
     "metadata": {},
     "output_type": "execute_result"
    }
   ],
   "source": [
    "df.columns"
   ]
  },
  {
   "cell_type": "code",
   "execution_count": 38,
   "id": "bc863195-5a11-409e-9204-6bee5257d5d6",
   "metadata": {},
   "outputs": [
    {
     "data": {
      "text/plain": [
       "<bound method DataFrame.info of      symboling  normalized-losses fuel-type aspiration num-of-doors  \\\n",
       "0            3                115       gas        std          two   \n",
       "1            3                115       gas        std          two   \n",
       "2            1                115       gas        std          two   \n",
       "3            2                164       gas        std         four   \n",
       "4            2                164       gas        std         four   \n",
       "..         ...                ...       ...        ...          ...   \n",
       "200         -1                 95       gas        std         four   \n",
       "201         -1                 95       gas      turbo         four   \n",
       "202         -1                 95       gas        std         four   \n",
       "203         -1                 95    diesel      turbo         four   \n",
       "204         -1                 95       gas      turbo         four   \n",
       "\n",
       "      body-style drive-wheels engine-location  wheel-base  length  ...  \\\n",
       "0    convertible          rwd           front        88.6   168.8  ...   \n",
       "1    convertible          rwd           front        88.6   168.8  ...   \n",
       "2      hatchback          rwd           front        94.5   171.2  ...   \n",
       "3          sedan          fwd           front        99.8   176.6  ...   \n",
       "4          sedan          4wd           front        99.4   176.6  ...   \n",
       "..           ...          ...             ...         ...     ...  ...   \n",
       "200        sedan          rwd           front       109.1   188.8  ...   \n",
       "201        sedan          rwd           front       109.1   188.8  ...   \n",
       "202        sedan          rwd           front       109.1   188.8  ...   \n",
       "203        sedan          rwd           front       109.1   188.8  ...   \n",
       "204        sedan          rwd           front       109.1   188.8  ...   \n",
       "\n",
       "     make_nissan  make_peugot  make_plymouth make_porsche make_renault  \\\n",
       "0              0            0              0            0            0   \n",
       "1              0            0              0            0            0   \n",
       "2              0            0              0            0            0   \n",
       "3              0            0              0            0            0   \n",
       "4              0            0              0            0            0   \n",
       "..           ...          ...            ...          ...          ...   \n",
       "200            0            0              0            0            0   \n",
       "201            0            0              0            0            0   \n",
       "202            0            0              0            0            0   \n",
       "203            0            0              0            0            0   \n",
       "204            0            0              0            0            0   \n",
       "\n",
       "     make_saab make_subaru make_toyota make_volkswagen  make_volvo  \n",
       "0            0           0           0               0           0  \n",
       "1            0           0           0               0           0  \n",
       "2            0           0           0               0           0  \n",
       "3            0           0           0               0           0  \n",
       "4            0           0           0               0           0  \n",
       "..         ...         ...         ...             ...         ...  \n",
       "200          0           0           0               0           1  \n",
       "201          0           0           0               0           1  \n",
       "202          0           0           0               0           1  \n",
       "203          0           0           0               0           1  \n",
       "204          0           0           0               0           1  \n",
       "\n",
       "[205 rows x 47 columns]>"
      ]
     },
     "execution_count": 38,
     "metadata": {},
     "output_type": "execute_result"
    }
   ],
   "source": [
    "df.info"
   ]
  },
  {
   "cell_type": "code",
   "execution_count": 39,
   "id": "b3919645-3ac8-4689-ad16-ee80963a0cd2",
   "metadata": {},
   "outputs": [
    {
     "name": "stdout",
     "output_type": "stream",
     "text": [
      "<class 'pandas.core.frame.DataFrame'>\n",
      "RangeIndex: 205 entries, 0 to 204\n",
      "Data columns (total 47 columns):\n",
      " #   Column              Non-Null Count  Dtype  \n",
      "---  ------              --------------  -----  \n",
      " 0   symboling           205 non-null    int64  \n",
      " 1   normalized-losses   205 non-null    int32  \n",
      " 2   fuel-type           205 non-null    object \n",
      " 3   aspiration          205 non-null    object \n",
      " 4   num-of-doors        203 non-null    object \n",
      " 5   body-style          205 non-null    object \n",
      " 6   drive-wheels        205 non-null    object \n",
      " 7   engine-location     205 non-null    object \n",
      " 8   wheel-base          205 non-null    float64\n",
      " 9   length              205 non-null    float64\n",
      " 10  width               205 non-null    float64\n",
      " 11  height              205 non-null    float64\n",
      " 12  curb-weight         205 non-null    int64  \n",
      " 13  engine-type         205 non-null    object \n",
      " 14  num-of-cylinders    205 non-null    object \n",
      " 15  engine-size         205 non-null    int64  \n",
      " 16  fuel-system         205 non-null    object \n",
      " 17  bore                201 non-null    object \n",
      " 18  stroke              201 non-null    object \n",
      " 19  compression-ratio   205 non-null    float64\n",
      " 20  horsepower          203 non-null    object \n",
      " 21  peak-rpm            203 non-null    object \n",
      " 22  city-mpg            205 non-null    int64  \n",
      " 23  highway-mpg         205 non-null    int64  \n",
      " 24  price               201 non-null    object \n",
      " 25  make_alfa-romero    205 non-null    uint8  \n",
      " 26  make_audi           205 non-null    uint8  \n",
      " 27  make_bmw            205 non-null    uint8  \n",
      " 28  make_chevrolet      205 non-null    uint8  \n",
      " 29  make_dodge          205 non-null    uint8  \n",
      " 30  make_honda          205 non-null    uint8  \n",
      " 31  make_isuzu          205 non-null    uint8  \n",
      " 32  make_jaguar         205 non-null    uint8  \n",
      " 33  make_mazda          205 non-null    uint8  \n",
      " 34  make_mercedes-benz  205 non-null    uint8  \n",
      " 35  make_mercury        205 non-null    uint8  \n",
      " 36  make_mitsubishi     205 non-null    uint8  \n",
      " 37  make_nissan         205 non-null    uint8  \n",
      " 38  make_peugot         205 non-null    uint8  \n",
      " 39  make_plymouth       205 non-null    uint8  \n",
      " 40  make_porsche        205 non-null    uint8  \n",
      " 41  make_renault        205 non-null    uint8  \n",
      " 42  make_saab           205 non-null    uint8  \n",
      " 43  make_subaru         205 non-null    uint8  \n",
      " 44  make_toyota         205 non-null    uint8  \n",
      " 45  make_volkswagen     205 non-null    uint8  \n",
      " 46  make_volvo          205 non-null    uint8  \n",
      "dtypes: float64(5), int32(1), int64(5), object(14), uint8(22)\n",
      "memory usage: 43.8+ KB\n"
     ]
    }
   ],
   "source": [
    "df.info()"
   ]
  },
  {
   "cell_type": "markdown",
   "id": "b20505ec-7267-4f0a-b385-541b7fb54c00",
   "metadata": {},
   "source": [
    "# 4.4 fuel-type "
   ]
  },
  {
   "cell_type": "code",
   "execution_count": 40,
   "id": "18faf20f-9a4c-4549-8dc1-d970b466872c",
   "metadata": {},
   "outputs": [
    {
     "data": {
      "text/plain": [
       "{'gas': 185, 'diesel': 20}"
      ]
     },
     "execution_count": 40,
     "metadata": {},
     "output_type": "execute_result"
    }
   ],
   "source": [
    "df['fuel-type'].value_counts().to_dict()"
   ]
  },
  {
   "cell_type": "code",
   "execution_count": 41,
   "id": "6cbd900e-fd93-4341-a794-d90b7dd99875",
   "metadata": {},
   "outputs": [],
   "source": [
    "df['fuel-type'].replace({'gas': 1, 'diesel': 0},inplace=True)"
   ]
  },
  {
   "cell_type": "code",
   "execution_count": 42,
   "id": "62fd7f9c-0ba5-4d91-bb37-f628d8cdf843",
   "metadata": {},
   "outputs": [
    {
     "data": {
      "text/plain": [
       "0"
      ]
     },
     "execution_count": 42,
     "metadata": {},
     "output_type": "execute_result"
    }
   ],
   "source": [
    "df['fuel-type'].isna().sum()"
   ]
  },
  {
   "cell_type": "code",
   "execution_count": 43,
   "id": "deed7e1a-e0ac-44bf-86aa-72bb35f301f8",
   "metadata": {},
   "outputs": [
    {
     "data": {
      "text/plain": [
       "dtype('int64')"
      ]
     },
     "execution_count": 43,
     "metadata": {},
     "output_type": "execute_result"
    }
   ],
   "source": [
    "df['fuel-type'].dtype"
   ]
  },
  {
   "cell_type": "markdown",
   "id": "9a624d4f-eec1-42cc-beec-8962b7b463ac",
   "metadata": {},
   "source": [
    "# 4.5 aspiration"
   ]
  },
  {
   "cell_type": "code",
   "execution_count": 44,
   "id": "a570351a-8e6a-43d6-9fd3-72cba6d716a9",
   "metadata": {},
   "outputs": [
    {
     "data": {
      "text/plain": [
       "{'std': 168, 'turbo': 37}"
      ]
     },
     "execution_count": 44,
     "metadata": {},
     "output_type": "execute_result"
    }
   ],
   "source": [
    "df['aspiration'].value_counts().to_dict()"
   ]
  },
  {
   "cell_type": "code",
   "execution_count": 45,
   "id": "93f752be-0c14-4f5b-a4bb-1d0c219e6bb7",
   "metadata": {},
   "outputs": [],
   "source": [
    "df['aspiration'].replace({'std': 0, 'turbo': 1},inplace=True)"
   ]
  },
  {
   "cell_type": "code",
   "execution_count": 46,
   "id": "745f9081-bb62-436d-b907-1cb1ba3d80fa",
   "metadata": {},
   "outputs": [
    {
     "data": {
      "text/plain": [
       "0"
      ]
     },
     "execution_count": 46,
     "metadata": {},
     "output_type": "execute_result"
    }
   ],
   "source": [
    "df.aspiration.isna().sum()"
   ]
  },
  {
   "cell_type": "code",
   "execution_count": 47,
   "id": "ff1178cc-51e7-4755-99ec-8e85451f8b66",
   "metadata": {},
   "outputs": [
    {
     "data": {
      "text/plain": [
       "dtype('int64')"
      ]
     },
     "execution_count": 47,
     "metadata": {},
     "output_type": "execute_result"
    }
   ],
   "source": [
    "df.aspiration.dtype"
   ]
  },
  {
   "cell_type": "code",
   "execution_count": 48,
   "id": "0e2c9be5-6b03-4961-9ce6-6309dcb1ebe7",
   "metadata": {},
   "outputs": [
    {
     "data": {
      "text/plain": [
       "Index(['symboling', 'normalized-losses', 'fuel-type', 'aspiration',\n",
       "       'num-of-doors', 'body-style', 'drive-wheels', 'engine-location',\n",
       "       'wheel-base', 'length', 'width', 'height', 'curb-weight', 'engine-type',\n",
       "       'num-of-cylinders', 'engine-size', 'fuel-system', 'bore', 'stroke',\n",
       "       'compression-ratio', 'horsepower', 'peak-rpm', 'city-mpg',\n",
       "       'highway-mpg', 'price', 'make_alfa-romero', 'make_audi', 'make_bmw',\n",
       "       'make_chevrolet', 'make_dodge', 'make_honda', 'make_isuzu',\n",
       "       'make_jaguar', 'make_mazda', 'make_mercedes-benz', 'make_mercury',\n",
       "       'make_mitsubishi', 'make_nissan', 'make_peugot', 'make_plymouth',\n",
       "       'make_porsche', 'make_renault', 'make_saab', 'make_subaru',\n",
       "       'make_toyota', 'make_volkswagen', 'make_volvo'],\n",
       "      dtype='object')"
      ]
     },
     "execution_count": 48,
     "metadata": {},
     "output_type": "execute_result"
    }
   ],
   "source": [
    "df.columns"
   ]
  },
  {
   "cell_type": "markdown",
   "id": "f990fffd-46df-4215-9a1f-dd4daf85ccf9",
   "metadata": {},
   "source": [
    "# 3.6 num-of-doors"
   ]
  },
  {
   "cell_type": "code",
   "execution_count": 49,
   "id": "9eb68667-bb45-4e2a-84de-db76af255f81",
   "metadata": {},
   "outputs": [
    {
     "data": {
      "text/plain": [
       "dtype('O')"
      ]
     },
     "execution_count": 49,
     "metadata": {},
     "output_type": "execute_result"
    }
   ],
   "source": [
    "df['num-of-doors'].dtype"
   ]
  },
  {
   "cell_type": "code",
   "execution_count": 50,
   "id": "bb36cbf5-5170-4dc0-8ee0-1d5d02d5702f",
   "metadata": {},
   "outputs": [
    {
     "data": {
      "text/plain": [
       "2"
      ]
     },
     "execution_count": 50,
     "metadata": {},
     "output_type": "execute_result"
    }
   ],
   "source": [
    "df['num-of-doors'].nunique()"
   ]
  },
  {
   "cell_type": "code",
   "execution_count": 51,
   "id": "a2f0c55e-40e4-4f87-a18f-1d31dfdd77a3",
   "metadata": {},
   "outputs": [
    {
     "data": {
      "text/plain": [
       "four    114\n",
       "two      89\n",
       "Name: num-of-doors, dtype: int64"
      ]
     },
     "execution_count": 51,
     "metadata": {},
     "output_type": "execute_result"
    }
   ],
   "source": [
    "df['num-of-doors'].value_counts()"
   ]
  },
  {
   "cell_type": "code",
   "execution_count": 52,
   "id": "3c9d3ea9-5a58-4a8a-8039-d7e27b602157",
   "metadata": {},
   "outputs": [],
   "source": [
    "# this is ordinal data"
   ]
  },
  {
   "cell_type": "code",
   "execution_count": 53,
   "id": "0515557d-6003-46c5-8f73-3521fff42f54",
   "metadata": {},
   "outputs": [
    {
     "data": {
      "text/plain": [
       "{'four': 114, 'two': 89}"
      ]
     },
     "execution_count": 53,
     "metadata": {},
     "output_type": "execute_result"
    }
   ],
   "source": [
    "# lable encoding\n",
    "df['num-of-doors'].value_counts().to_dict()"
   ]
  },
  {
   "cell_type": "code",
   "execution_count": 54,
   "id": "b3331523-3b7d-4ec9-a215-0508967564c8",
   "metadata": {},
   "outputs": [],
   "source": [
    "df['num-of-doors'].replace({'four': 4, 'two': 2},inplace=True)"
   ]
  },
  {
   "cell_type": "code",
   "execution_count": 55,
   "id": "f2807ea4-6735-4373-8f46-c3e2f067f94c",
   "metadata": {},
   "outputs": [
    {
     "data": {
      "text/plain": [
       "dtype('float64')"
      ]
     },
     "execution_count": 55,
     "metadata": {},
     "output_type": "execute_result"
    }
   ],
   "source": [
    "df['num-of-doors'].dtype"
   ]
  },
  {
   "cell_type": "code",
   "execution_count": 56,
   "id": "13a50e7b-6fd7-4fbe-8d71-47abb0bbe5eb",
   "metadata": {},
   "outputs": [
    {
     "data": {
      "text/plain": [
       "2"
      ]
     },
     "execution_count": 56,
     "metadata": {},
     "output_type": "execute_result"
    }
   ],
   "source": [
    "df['num-of-doors'].isna().sum()"
   ]
  },
  {
   "cell_type": "code",
   "execution_count": 57,
   "id": "106cb45b-f298-4d90-86b4-fb8d53f4b688",
   "metadata": {},
   "outputs": [
    {
     "data": {
      "text/plain": [
       "<AxesSubplot:xlabel='num-of-doors', ylabel='Density'>"
      ]
     },
     "execution_count": 57,
     "metadata": {},
     "output_type": "execute_result"
    },
    {
     "data": {
      "image/png": "[encoded data removed]",
      "text/plain": [
       "<Figure size 640x480 with 1 Axes>"
      ]
     },
     "metadata": {},
     "output_type": "display_data"
    }
   ],
   "source": [
    "sns.kdeplot(df['num-of-doors'])"
   ]
  },
  {
   "cell_type": "code",
   "execution_count": 58,
   "id": "513c09af-3310-4148-b448-40d39b1089d4",
   "metadata": {},
   "outputs": [],
   "source": [
    "df['num-of-doors'].fillna(df['num-of-doors'].mode()[0],inplace=True)"
   ]
  },
  {
   "cell_type": "code",
   "execution_count": 59,
   "id": "0aa829d6-9ec8-4be2-b047-5367d4a2f5ce",
   "metadata": {},
   "outputs": [
    {
     "data": {
      "text/plain": [
       "0"
      ]
     },
     "execution_count": 59,
     "metadata": {},
     "output_type": "execute_result"
    }
   ],
   "source": [
    "df['num-of-doors'].isna().sum()"
   ]
  },
  {
   "cell_type": "code",
   "execution_count": 60,
   "id": "90742334-1cae-4770-829e-a26ed5f2ac0b",
   "metadata": {},
   "outputs": [
    {
     "data": {
      "text/plain": [
       "dtype('float64')"
      ]
     },
     "execution_count": 60,
     "metadata": {},
     "output_type": "execute_result"
    }
   ],
   "source": [
    "df['num-of-doors'].dtype"
   ]
  },
  {
   "cell_type": "code",
   "execution_count": 61,
   "id": "09288970-b8cd-41a9-976b-9592364869de",
   "metadata": {},
   "outputs": [],
   "source": [
    "df['num-of-doors'] = df['num-of-doors'].astype(int)"
   ]
  },
  {
   "cell_type": "code",
   "execution_count": 62,
   "id": "9d4da24d-383f-4db9-a125-3bdd93ee0598",
   "metadata": {},
   "outputs": [
    {
     "data": {
      "text/plain": [
       "dtype('int32')"
      ]
     },
     "execution_count": 62,
     "metadata": {},
     "output_type": "execute_result"
    }
   ],
   "source": [
    "df['num-of-doors'].dtype"
   ]
  },
  {
   "cell_type": "markdown",
   "id": "30d08eee-acb9-4a3a-b479-eb92980ec0c2",
   "metadata": {},
   "source": [
    "# 3.7 body-style"
   ]
  },
  {
   "cell_type": "code",
   "execution_count": 63,
   "id": "b55be4ae-3d34-4d41-93fd-dad45491566c",
   "metadata": {},
   "outputs": [
    {
     "data": {
      "text/plain": [
       "dtype('O')"
      ]
     },
     "execution_count": 63,
     "metadata": {},
     "output_type": "execute_result"
    }
   ],
   "source": [
    "df['body-style'].dtype"
   ]
  },
  {
   "cell_type": "code",
   "execution_count": 64,
   "id": "8194d4e5-860d-45f3-81d9-5016a20f5c93",
   "metadata": {},
   "outputs": [
    {
     "data": {
      "text/plain": [
       "sedan          96\n",
       "hatchback      70\n",
       "wagon          25\n",
       "hardtop         8\n",
       "convertible     6\n",
       "Name: body-style, dtype: int64"
      ]
     },
     "execution_count": 64,
     "metadata": {},
     "output_type": "execute_result"
    }
   ],
   "source": [
    "df['body-style'].value_counts()"
   ]
  },
  {
   "cell_type": "code",
   "execution_count": 65,
   "id": "c86c6433-1077-4d15-ada9-40e774fdb13a",
   "metadata": {},
   "outputs": [],
   "source": [
    "# this is an catogorical data [Nominal data]\n",
    "# one hot encoding"
   ]
  },
  {
   "cell_type": "code",
   "execution_count": 66,
   "id": "b607891b-bb5b-4f8f-bc5d-aea8e018e652",
   "metadata": {},
   "outputs": [
    {
     "data": {
      "text/html": [
       "<div>\n",
       "<style scoped>\n",
       "    .dataframe tbody tr th:only-of-type {\n",
       "        vertical-align: middle;\n",
       "    }\n",
       "\n",
       "    .dataframe tbody tr th {\n",
       "        vertical-align: top;\n",
       "    }\n",
       "\n",
       "    .dataframe thead th {\n",
       "        text-align: right;\n",
       "    }\n",
       "</style>\n",
       "<table border=\"1\" class=\"dataframe\">\n",
       "  <thead>\n",
       "    <tr style=\"text-align: right;\">\n",
       "      <th></th>\n",
       "      <th>symboling</th>\n",
       "      <th>normalized-losses</th>\n",
       "      <th>fuel-type</th>\n",
       "      <th>aspiration</th>\n",
       "      <th>num-of-doors</th>\n",
       "      <th>drive-wheels</th>\n",
       "      <th>engine-location</th>\n",
       "      <th>wheel-base</th>\n",
       "      <th>length</th>\n",
       "      <th>width</th>\n",
       "      <th>...</th>\n",
       "      <th>make_saab</th>\n",
       "      <th>make_subaru</th>\n",
       "      <th>make_toyota</th>\n",
       "      <th>make_volkswagen</th>\n",
       "      <th>make_volvo</th>\n",
       "      <th>body-style_convertible</th>\n",
       "      <th>body-style_hardtop</th>\n",
       "      <th>body-style_hatchback</th>\n",
       "      <th>body-style_sedan</th>\n",
       "      <th>body-style_wagon</th>\n",
       "    </tr>\n",
       "  </thead>\n",
       "  <tbody>\n",
       "    <tr>\n",
       "      <th>0</th>\n",
       "      <td>3</td>\n",
       "      <td>115</td>\n",
       "      <td>1</td>\n",
       "      <td>0</td>\n",
       "      <td>2</td>\n",
       "      <td>rwd</td>\n",
       "      <td>front</td>\n",
       "      <td>88.6</td>\n",
       "      <td>168.8</td>\n",
       "      <td>64.1</td>\n",
       "      <td>...</td>\n",
       "      <td>0</td>\n",
       "      <td>0</td>\n",
       "      <td>0</td>\n",
       "      <td>0</td>\n",
       "      <td>0</td>\n",
       "      <td>1</td>\n",
       "      <td>0</td>\n",
       "      <td>0</td>\n",
       "      <td>0</td>\n",
       "      <td>0</td>\n",
       "    </tr>\n",
       "    <tr>\n",
       "      <th>1</th>\n",
       "      <td>3</td>\n",
       "      <td>115</td>\n",
       "      <td>1</td>\n",
       "      <td>0</td>\n",
       "      <td>2</td>\n",
       "      <td>rwd</td>\n",
       "      <td>front</td>\n",
       "      <td>88.6</td>\n",
       "      <td>168.8</td>\n",
       "      <td>64.1</td>\n",
       "      <td>...</td>\n",
       "      <td>0</td>\n",
       "      <td>0</td>\n",
       "      <td>0</td>\n",
       "      <td>0</td>\n",
       "      <td>0</td>\n",
       "      <td>1</td>\n",
       "      <td>0</td>\n",
       "      <td>0</td>\n",
       "      <td>0</td>\n",
       "      <td>0</td>\n",
       "    </tr>\n",
       "    <tr>\n",
       "      <th>2</th>\n",
       "      <td>1</td>\n",
       "      <td>115</td>\n",
       "      <td>1</td>\n",
       "      <td>0</td>\n",
       "      <td>2</td>\n",
       "      <td>rwd</td>\n",
       "      <td>front</td>\n",
       "      <td>94.5</td>\n",
       "      <td>171.2</td>\n",
       "      <td>65.5</td>\n",
       "      <td>...</td>\n",
       "      <td>0</td>\n",
       "      <td>0</td>\n",
       "      <td>0</td>\n",
       "      <td>0</td>\n",
       "      <td>0</td>\n",
       "      <td>0</td>\n",
       "      <td>0</td>\n",
       "      <td>1</td>\n",
       "      <td>0</td>\n",
       "      <td>0</td>\n",
       "    </tr>\n",
       "    <tr>\n",
       "      <th>3</th>\n",
       "      <td>2</td>\n",
       "      <td>164</td>\n",
       "      <td>1</td>\n",
       "      <td>0</td>\n",
       "      <td>4</td>\n",
       "      <td>fwd</td>\n",
       "      <td>front</td>\n",
       "      <td>99.8</td>\n",
       "      <td>176.6</td>\n",
       "      <td>66.2</td>\n",
       "      <td>...</td>\n",
       "      <td>0</td>\n",
       "      <td>0</td>\n",
       "      <td>0</td>\n",
       "      <td>0</td>\n",
       "      <td>0</td>\n",
       "      <td>0</td>\n",
       "      <td>0</td>\n",
       "      <td>0</td>\n",
       "      <td>1</td>\n",
       "      <td>0</td>\n",
       "    </tr>\n",
       "    <tr>\n",
       "      <th>4</th>\n",
       "      <td>2</td>\n",
       "      <td>164</td>\n",
       "      <td>1</td>\n",
       "      <td>0</td>\n",
       "      <td>4</td>\n",
       "      <td>4wd</td>\n",
       "      <td>front</td>\n",
       "      <td>99.4</td>\n",
       "      <td>176.6</td>\n",
       "      <td>66.4</td>\n",
       "      <td>...</td>\n",
       "      <td>0</td>\n",
       "      <td>0</td>\n",
       "      <td>0</td>\n",
       "      <td>0</td>\n",
       "      <td>0</td>\n",
       "      <td>0</td>\n",
       "      <td>0</td>\n",
       "      <td>0</td>\n",
       "      <td>1</td>\n",
       "      <td>0</td>\n",
       "    </tr>\n",
       "    <tr>\n",
       "      <th>...</th>\n",
       "      <td>...</td>\n",
       "      <td>...</td>\n",
       "      <td>...</td>\n",
       "      <td>...</td>\n",
       "      <td>...</td>\n",
       "      <td>...</td>\n",
       "      <td>...</td>\n",
       "      <td>...</td>\n",
       "      <td>...</td>\n",
       "      <td>...</td>\n",
       "      <td>...</td>\n",
       "      <td>...</td>\n",
       "      <td>...</td>\n",
       "      <td>...</td>\n",
       "      <td>...</td>\n",
       "      <td>...</td>\n",
       "      <td>...</td>\n",
       "      <td>...</td>\n",
       "      <td>...</td>\n",
       "      <td>...</td>\n",
       "      <td>...</td>\n",
       "    </tr>\n",
       "    <tr>\n",
       "      <th>200</th>\n",
       "      <td>-1</td>\n",
       "      <td>95</td>\n",
       "      <td>1</td>\n",
       "      <td>0</td>\n",
       "      <td>4</td>\n",
       "      <td>rwd</td>\n",
       "      <td>front</td>\n",
       "      <td>109.1</td>\n",
       "      <td>188.8</td>\n",
       "      <td>68.9</td>\n",
       "      <td>...</td>\n",
       "      <td>0</td>\n",
       "      <td>0</td>\n",
       "      <td>0</td>\n",
       "      <td>0</td>\n",
       "      <td>1</td>\n",
       "      <td>0</td>\n",
       "      <td>0</td>\n",
       "      <td>0</td>\n",
       "      <td>1</td>\n",
       "      <td>0</td>\n",
       "    </tr>\n",
       "    <tr>\n",
       "      <th>201</th>\n",
       "      <td>-1</td>\n",
       "      <td>95</td>\n",
       "      <td>1</td>\n",
       "      <td>1</td>\n",
       "      <td>4</td>\n",
       "      <td>rwd</td>\n",
       "      <td>front</td>\n",
       "      <td>109.1</td>\n",
       "      <td>188.8</td>\n",
       "      <td>68.8</td>\n",
       "      <td>...</td>\n",
       "      <td>0</td>\n",
       "      <td>0</td>\n",
       "      <td>0</td>\n",
       "      <td>0</td>\n",
       "      <td>1</td>\n",
       "      <td>0</td>\n",
       "      <td>0</td>\n",
       "      <td>0</td>\n",
       "      <td>1</td>\n",
       "      <td>0</td>\n",
       "    </tr>\n",
       "    <tr>\n",
       "      <th>202</th>\n",
       "      <td>-1</td>\n",
       "      <td>95</td>\n",
       "      <td>1</td>\n",
       "      <td>0</td>\n",
       "      <td>4</td>\n",
       "      <td>rwd</td>\n",
       "      <td>front</td>\n",
       "      <td>109.1</td>\n",
       "      <td>188.8</td>\n",
       "      <td>68.9</td>\n",
       "      <td>...</td>\n",
       "      <td>0</td>\n",
       "      <td>0</td>\n",
       "      <td>0</td>\n",
       "      <td>0</td>\n",
       "      <td>1</td>\n",
       "      <td>0</td>\n",
       "      <td>0</td>\n",
       "      <td>0</td>\n",
       "      <td>1</td>\n",
       "      <td>0</td>\n",
       "    </tr>\n",
       "    <tr>\n",
       "      <th>203</th>\n",
       "      <td>-1</td>\n",
       "      <td>95</td>\n",
       "      <td>0</td>\n",
       "      <td>1</td>\n",
       "      <td>4</td>\n",
       "      <td>rwd</td>\n",
       "      <td>front</td>\n",
       "      <td>109.1</td>\n",
       "      <td>188.8</td>\n",
       "      <td>68.9</td>\n",
       "      <td>...</td>\n",
       "      <td>0</td>\n",
       "      <td>0</td>\n",
       "      <td>0</td>\n",
       "      <td>0</td>\n",
       "      <td>1</td>\n",
       "      <td>0</td>\n",
       "      <td>0</td>\n",
       "      <td>0</td>\n",
       "      <td>1</td>\n",
       "      <td>0</td>\n",
       "    </tr>\n",
       "    <tr>\n",
       "      <th>204</th>\n",
       "      <td>-1</td>\n",
       "      <td>95</td>\n",
       "      <td>1</td>\n",
       "      <td>1</td>\n",
       "      <td>4</td>\n",
       "      <td>rwd</td>\n",
       "      <td>front</td>\n",
       "      <td>109.1</td>\n",
       "      <td>188.8</td>\n",
       "      <td>68.9</td>\n",
       "      <td>...</td>\n",
       "      <td>0</td>\n",
       "      <td>0</td>\n",
       "      <td>0</td>\n",
       "      <td>0</td>\n",
       "      <td>1</td>\n",
       "      <td>0</td>\n",
       "      <td>0</td>\n",
       "      <td>0</td>\n",
       "      <td>1</td>\n",
       "      <td>0</td>\n",
       "    </tr>\n",
       "  </tbody>\n",
       "</table>\n",
       "<p>205 rows × 51 columns</p>\n",
       "</div>"
      ],
      "text/plain": [
       "     symboling  normalized-losses  fuel-type  aspiration  num-of-doors  \\\n",
       "0            3                115          1           0             2   \n",
       "1            3                115          1           0             2   \n",
       "2            1                115          1           0             2   \n",
       "3            2                164          1           0             4   \n",
       "4            2                164          1           0             4   \n",
       "..         ...                ...        ...         ...           ...   \n",
       "200         -1                 95          1           0             4   \n",
       "201         -1                 95          1           1             4   \n",
       "202         -1                 95          1           0             4   \n",
       "203         -1                 95          0           1             4   \n",
       "204         -1                 95          1           1             4   \n",
       "\n",
       "    drive-wheels engine-location  wheel-base  length  width  ...  make_saab  \\\n",
       "0            rwd           front        88.6   168.8   64.1  ...          0   \n",
       "1            rwd           front        88.6   168.8   64.1  ...          0   \n",
       "2            rwd           front        94.5   171.2   65.5  ...          0   \n",
       "3            fwd           front        99.8   176.6   66.2  ...          0   \n",
       "4            4wd           front        99.4   176.6   66.4  ...          0   \n",
       "..           ...             ...         ...     ...    ...  ...        ...   \n",
       "200          rwd           front       109.1   188.8   68.9  ...          0   \n",
       "201          rwd           front       109.1   188.8   68.8  ...          0   \n",
       "202          rwd           front       109.1   188.8   68.9  ...          0   \n",
       "203          rwd           front       109.1   188.8   68.9  ...          0   \n",
       "204          rwd           front       109.1   188.8   68.9  ...          0   \n",
       "\n",
       "     make_subaru make_toyota make_volkswagen  make_volvo  \\\n",
       "0              0           0               0           0   \n",
       "1              0           0               0           0   \n",
       "2              0           0               0           0   \n",
       "3              0           0               0           0   \n",
       "4              0           0               0           0   \n",
       "..           ...         ...             ...         ...   \n",
       "200            0           0               0           1   \n",
       "201            0           0               0           1   \n",
       "202            0           0               0           1   \n",
       "203            0           0               0           1   \n",
       "204            0           0               0           1   \n",
       "\n",
       "    body-style_convertible body-style_hardtop body-style_hatchback  \\\n",
       "0                        1                  0                    0   \n",
       "1                        1                  0                    0   \n",
       "2                        0                  0                    1   \n",
       "3                        0                  0                    0   \n",
       "4                        0                  0                    0   \n",
       "..                     ...                ...                  ...   \n",
       "200                      0                  0                    0   \n",
       "201                      0                  0                    0   \n",
       "202                      0                  0                    0   \n",
       "203                      0                  0                    0   \n",
       "204                      0                  0                    0   \n",
       "\n",
       "     body-style_sedan body-style_wagon  \n",
       "0                   0                0  \n",
       "1                   0                0  \n",
       "2                   0                0  \n",
       "3                   1                0  \n",
       "4                   1                0  \n",
       "..                ...              ...  \n",
       "200                 1                0  \n",
       "201                 1                0  \n",
       "202                 1                0  \n",
       "203                 1                0  \n",
       "204                 1                0  \n",
       "\n",
       "[205 rows x 51 columns]"
      ]
     },
     "execution_count": 66,
     "metadata": {},
     "output_type": "execute_result"
    }
   ],
   "source": [
    "df = pd.get_dummies(df,columns=['body-style'])\n",
    "df"
   ]
  },
  {
   "cell_type": "code",
   "execution_count": 67,
   "id": "da666622-3e40-44b8-80e1-7bfbfcac69ce",
   "metadata": {},
   "outputs": [
    {
     "name": "stdout",
     "output_type": "stream",
     "text": [
      "<class 'pandas.core.frame.DataFrame'>\n",
      "RangeIndex: 205 entries, 0 to 204\n",
      "Data columns (total 51 columns):\n",
      " #   Column                  Non-Null Count  Dtype  \n",
      "---  ------                  --------------  -----  \n",
      " 0   symboling               205 non-null    int64  \n",
      " 1   normalized-losses       205 non-null    int32  \n",
      " 2   fuel-type               205 non-null    int64  \n",
      " 3   aspiration              205 non-null    int64  \n",
      " 4   num-of-doors            205 non-null    int32  \n",
      " 5   drive-wheels            205 non-null    object \n",
      " 6   engine-location         205 non-null    object \n",
      " 7   wheel-base              205 non-null    float64\n",
      " 8   length                  205 non-null    float64\n",
      " 9   width                   205 non-null    float64\n",
      " 10  height                  205 non-null    float64\n",
      " 11  curb-weight             205 non-null    int64  \n",
      " 12  engine-type             205 non-null    object \n",
      " 13  num-of-cylinders        205 non-null    object \n",
      " 14  engine-size             205 non-null    int64  \n",
      " 15  fuel-system             205 non-null    object \n",
      " 16  bore                    201 non-null    object \n",
      " 17  stroke                  201 non-null    object \n",
      " 18  compression-ratio       205 non-null    float64\n",
      " 19  horsepower              203 non-null    object \n",
      " 20  peak-rpm                203 non-null    object \n",
      " 21  city-mpg                205 non-null    int64  \n",
      " 22  highway-mpg             205 non-null    int64  \n",
      " 23  price                   201 non-null    object \n",
      " 24  make_alfa-romero        205 non-null    uint8  \n",
      " 25  make_audi               205 non-null    uint8  \n",
      " 26  make_bmw                205 non-null    uint8  \n",
      " 27  make_chevrolet          205 non-null    uint8  \n",
      " 28  make_dodge              205 non-null    uint8  \n",
      " 29  make_honda              205 non-null    uint8  \n",
      " 30  make_isuzu              205 non-null    uint8  \n",
      " 31  make_jaguar             205 non-null    uint8  \n",
      " 32  make_mazda              205 non-null    uint8  \n",
      " 33  make_mercedes-benz      205 non-null    uint8  \n",
      " 34  make_mercury            205 non-null    uint8  \n",
      " 35  make_mitsubishi         205 non-null    uint8  \n",
      " 36  make_nissan             205 non-null    uint8  \n",
      " 37  make_peugot             205 non-null    uint8  \n",
      " 38  make_plymouth           205 non-null    uint8  \n",
      " 39  make_porsche            205 non-null    uint8  \n",
      " 40  make_renault            205 non-null    uint8  \n",
      " 41  make_saab               205 non-null    uint8  \n",
      " 42  make_subaru             205 non-null    uint8  \n",
      " 43  make_toyota             205 non-null    uint8  \n",
      " 44  make_volkswagen         205 non-null    uint8  \n",
      " 45  make_volvo              205 non-null    uint8  \n",
      " 46  body-style_convertible  205 non-null    uint8  \n",
      " 47  body-style_hardtop      205 non-null    uint8  \n",
      " 48  body-style_hatchback    205 non-null    uint8  \n",
      " 49  body-style_sedan        205 non-null    uint8  \n",
      " 50  body-style_wagon        205 non-null    uint8  \n",
      "dtypes: float64(5), int32(2), int64(7), object(10), uint8(27)\n",
      "memory usage: 42.4+ KB\n"
     ]
    }
   ],
   "source": [
    "df.info()"
   ]
  },
  {
   "cell_type": "markdown",
   "id": "ba25dc83-a153-42e5-b60a-2aa0b8dc3ba9",
   "metadata": {},
   "source": [
    "# 3.8 drive-wheels"
   ]
  },
  {
   "cell_type": "code",
   "execution_count": 68,
   "id": "34b6ffc2-65d3-49f7-b2d8-e1d5c79166db",
   "metadata": {},
   "outputs": [
    {
     "data": {
      "text/plain": [
       "dtype('O')"
      ]
     },
     "execution_count": 68,
     "metadata": {},
     "output_type": "execute_result"
    }
   ],
   "source": [
    "df['drive-wheels'].dtype"
   ]
  },
  {
   "cell_type": "code",
   "execution_count": 69,
   "id": "5fcb81ad-d501-4574-9e38-ba2ad1f69d6d",
   "metadata": {},
   "outputs": [
    {
     "data": {
      "text/plain": [
       "fwd    120\n",
       "rwd     76\n",
       "4wd      9\n",
       "Name: drive-wheels, dtype: int64"
      ]
     },
     "execution_count": 69,
     "metadata": {},
     "output_type": "execute_result"
    }
   ],
   "source": [
    "df['drive-wheels'].value_counts()"
   ]
  },
  {
   "cell_type": "code",
   "execution_count": 70,
   "id": "75e3f2df-ae00-4d20-b575-377c0bd9ec02",
   "metadata": {},
   "outputs": [],
   "source": [
    "# this nominal data"
   ]
  },
  {
   "cell_type": "code",
   "execution_count": 71,
   "id": "12cfc4d7-8d47-41d2-97d5-9f3f82f071e5",
   "metadata": {},
   "outputs": [
    {
     "name": "stdout",
     "output_type": "stream",
     "text": [
      "<class 'pandas.core.frame.DataFrame'>\n",
      "RangeIndex: 205 entries, 0 to 204\n",
      "Data columns (total 53 columns):\n",
      " #   Column                  Non-Null Count  Dtype  \n",
      "---  ------                  --------------  -----  \n",
      " 0   symboling               205 non-null    int64  \n",
      " 1   normalized-losses       205 non-null    int32  \n",
      " 2   fuel-type               205 non-null    int64  \n",
      " 3   aspiration              205 non-null    int64  \n",
      " 4   num-of-doors            205 non-null    int32  \n",
      " 5   engine-location         205 non-null    object \n",
      " 6   wheel-base              205 non-null    float64\n",
      " 7   length                  205 non-null    float64\n",
      " 8   width                   205 non-null    float64\n",
      " 9   height                  205 non-null    float64\n",
      " 10  curb-weight             205 non-null    int64  \n",
      " 11  engine-type             205 non-null    object \n",
      " 12  num-of-cylinders        205 non-null    object \n",
      " 13  engine-size             205 non-null    int64  \n",
      " 14  fuel-system             205 non-null    object \n",
      " 15  bore                    201 non-null    object \n",
      " 16  stroke                  201 non-null    object \n",
      " 17  compression-ratio       205 non-null    float64\n",
      " 18  horsepower              203 non-null    object \n",
      " 19  peak-rpm                203 non-null    object \n",
      " 20  city-mpg                205 non-null    int64  \n",
      " 21  highway-mpg             205 non-null    int64  \n",
      " 22  price                   201 non-null    object \n",
      " 23  make_alfa-romero        205 non-null    uint8  \n",
      " 24  make_audi               205 non-null    uint8  \n",
      " 25  make_bmw                205 non-null    uint8  \n",
      " 26  make_chevrolet          205 non-null    uint8  \n",
      " 27  make_dodge              205 non-null    uint8  \n",
      " 28  make_honda              205 non-null    uint8  \n",
      " 29  make_isuzu              205 non-null    uint8  \n",
      " 30  make_jaguar             205 non-null    uint8  \n",
      " 31  make_mazda              205 non-null    uint8  \n",
      " 32  make_mercedes-benz      205 non-null    uint8  \n",
      " 33  make_mercury            205 non-null    uint8  \n",
      " 34  make_mitsubishi         205 non-null    uint8  \n",
      " 35  make_nissan             205 non-null    uint8  \n",
      " 36  make_peugot             205 non-null    uint8  \n",
      " 37  make_plymouth           205 non-null    uint8  \n",
      " 38  make_porsche            205 non-null    uint8  \n",
      " 39  make_renault            205 non-null    uint8  \n",
      " 40  make_saab               205 non-null    uint8  \n",
      " 41  make_subaru             205 non-null    uint8  \n",
      " 42  make_toyota             205 non-null    uint8  \n",
      " 43  make_volkswagen         205 non-null    uint8  \n",
      " 44  make_volvo              205 non-null    uint8  \n",
      " 45  body-style_convertible  205 non-null    uint8  \n",
      " 46  body-style_hardtop      205 non-null    uint8  \n",
      " 47  body-style_hatchback    205 non-null    uint8  \n",
      " 48  body-style_sedan        205 non-null    uint8  \n",
      " 49  body-style_wagon        205 non-null    uint8  \n",
      " 50  drive-wheels_4wd        205 non-null    uint8  \n",
      " 51  drive-wheels_fwd        205 non-null    uint8  \n",
      " 52  drive-wheels_rwd        205 non-null    uint8  \n",
      "dtypes: float64(5), int32(2), int64(7), object(9), uint8(30)\n",
      "memory usage: 41.4+ KB\n"
     ]
    }
   ],
   "source": [
    "df= pd.get_dummies(df,columns=['drive-wheels'])\n",
    "df.info()"
   ]
  },
  {
   "cell_type": "markdown",
   "id": "c3f12dfd-7c90-4523-8058-069055217bd2",
   "metadata": {},
   "source": [
    "# 3.9 engine-location"
   ]
  },
  {
   "cell_type": "code",
   "execution_count": 72,
   "id": "77242b14-12df-4931-9ea4-a64215a3d271",
   "metadata": {},
   "outputs": [
    {
     "data": {
      "text/plain": [
       "dtype('O')"
      ]
     },
     "execution_count": 72,
     "metadata": {},
     "output_type": "execute_result"
    }
   ],
   "source": [
    "df['engine-location'].dtype"
   ]
  },
  {
   "cell_type": "code",
   "execution_count": 73,
   "id": "42a49c47-27f7-4f2a-aa43-116391f1e808",
   "metadata": {},
   "outputs": [
    {
     "data": {
      "text/plain": [
       "front    202\n",
       "rear       3\n",
       "Name: engine-location, dtype: int64"
      ]
     },
     "execution_count": 73,
     "metadata": {},
     "output_type": "execute_result"
    }
   ],
   "source": [
    "df['engine-location'].value_counts()"
   ]
  },
  {
   "cell_type": "code",
   "execution_count": 74,
   "id": "5ec1173c-5e09-4b56-b710-fd02f087f046",
   "metadata": {},
   "outputs": [],
   "source": [
    "# this ordinal data"
   ]
  },
  {
   "cell_type": "code",
   "execution_count": 75,
   "id": "2e1e8c6a-1e3e-442d-9008-0f627b64c3c9",
   "metadata": {},
   "outputs": [],
   "source": [
    "# lable encoding"
   ]
  },
  {
   "cell_type": "code",
   "execution_count": 76,
   "id": "de1744d3-34d4-4f74-8400-7b2df9d1842a",
   "metadata": {},
   "outputs": [
    {
     "data": {
      "text/plain": [
       "{'front': 202, 'rear': 3}"
      ]
     },
     "execution_count": 76,
     "metadata": {},
     "output_type": "execute_result"
    }
   ],
   "source": [
    "df['engine-location'].value_counts().to_dict()"
   ]
  },
  {
   "cell_type": "code",
   "execution_count": 77,
   "id": "80283e09-6e3e-45b2-9580-d754f63ff4ce",
   "metadata": {},
   "outputs": [],
   "source": [
    "df['engine-location'].replace({'front': 0, 'rear': 1},inplace=True)"
   ]
  },
  {
   "cell_type": "code",
   "execution_count": 78,
   "id": "056c680c-a3e8-4fee-bc19-3199ee72898b",
   "metadata": {},
   "outputs": [
    {
     "data": {
      "text/plain": [
       "dtype('int64')"
      ]
     },
     "execution_count": 78,
     "metadata": {},
     "output_type": "execute_result"
    }
   ],
   "source": [
    "df['engine-location'].dtype"
   ]
  },
  {
   "cell_type": "code",
   "execution_count": 79,
   "id": "34d47ac0-731a-4eba-92bb-e11dc4392f26",
   "metadata": {},
   "outputs": [
    {
     "data": {
      "text/plain": [
       "0"
      ]
     },
     "execution_count": 79,
     "metadata": {},
     "output_type": "execute_result"
    }
   ],
   "source": [
    "df['engine-location'].isna().sum()"
   ]
  },
  {
   "cell_type": "markdown",
   "id": "fb87f8a7-43fd-47a4-8356-71c604950c74",
   "metadata": {},
   "source": [
    "# 3.10 wheel-base"
   ]
  },
  {
   "cell_type": "code",
   "execution_count": 80,
   "id": "a945fac0-ce76-4414-be37-72ffc24532bf",
   "metadata": {},
   "outputs": [
    {
     "data": {
      "text/plain": [
       "0       88.6\n",
       "1       88.6\n",
       "2       94.5\n",
       "3       99.8\n",
       "4       99.4\n",
       "       ...  \n",
       "200    109.1\n",
       "201    109.1\n",
       "202    109.1\n",
       "203    109.1\n",
       "204    109.1\n",
       "Name: wheel-base, Length: 205, dtype: float64"
      ]
     },
     "execution_count": 80,
     "metadata": {},
     "output_type": "execute_result"
    }
   ],
   "source": [
    "df['wheel-base']"
   ]
  },
  {
   "cell_type": "code",
   "execution_count": 81,
   "id": "1031b252-04fc-4e0d-a2bf-297f697f146c",
   "metadata": {},
   "outputs": [
    {
     "data": {
      "text/plain": [
       "0"
      ]
     },
     "execution_count": 81,
     "metadata": {},
     "output_type": "execute_result"
    }
   ],
   "source": [
    "df['wheel-base'].isna().sum()"
   ]
  },
  {
   "cell_type": "code",
   "execution_count": 82,
   "id": "dd3fa52e-b25a-4570-9321-1c548361b169",
   "metadata": {},
   "outputs": [
    {
     "data": {
      "text/plain": [
       "<AxesSubplot:xlabel='wheel-base', ylabel='Density'>"
      ]
     },
     "execution_count": 82,
     "metadata": {},
     "output_type": "execute_result"
    },
    {
     "data": {
      "image/png": "[encoded data removed]",
      "text/plain": [
       "<Figure size 640x480 with 1 Axes>"
      ]
     },
     "metadata": {},
     "output_type": "display_data"
    }
   ],
   "source": [
    "sns.kdeplot(df['wheel-base'])"
   ]
  },
  {
   "cell_type": "code",
   "execution_count": 83,
   "id": "36be1c35-5b44-4670-85ce-6cbb20ca340e",
   "metadata": {},
   "outputs": [
    {
     "name": "stderr",
     "output_type": "stream",
     "text": [
      "C:\\ProgramData\\Anaconda3\\lib\\site-packages\\seaborn\\_decorators.py:36: FutureWarning: Pass the following variable as a keyword arg: x. From version 0.12, the only valid positional argument will be `data`, and passing other arguments without an explicit keyword will result in an error or misinterpretation.\n",
      "  warnings.warn(\n"
     ]
    },
    {
     "data": {
      "text/plain": [
       "<AxesSubplot:xlabel='wheel-base'>"
      ]
     },
     "execution_count": 83,
     "metadata": {},
     "output_type": "execute_result"
    },
    {
     "data": {
      "image/png": "[encoded data removed]",
      "text/plain": [
       "<Figure size 640x480 with 1 Axes>"
      ]
     },
     "metadata": {},
     "output_type": "display_data"
    }
   ],
   "source": [
    "sns.boxplot(df['wheel-base'])"
   ]
  },
  {
   "cell_type": "code",
   "execution_count": 84,
   "id": "bbbc643c-f370-4bcd-851f-0b44a3c6346a",
   "metadata": {},
   "outputs": [
    {
     "data": {
      "text/plain": [
       "<AxesSubplot:xlabel='wheel-base'>"
      ]
     },
     "execution_count": 84,
     "metadata": {},
     "output_type": "execute_result"
    },
    {
     "data": {
      "image/png": "[encoded data removed]",
      "text/plain": [
       "<Figure size 640x480 with 1 Axes>"
      ]
     },
     "metadata": {},
     "output_type": "display_data"
    }
   ],
   "source": [
    "sns.boxplot(x= df['wheel-base'])"
   ]
  },
  {
   "cell_type": "code",
   "execution_count": 85,
   "id": "1219bd25-62b9-4881-b4a6-537af5834599",
   "metadata": {},
   "outputs": [
    {
     "name": "stdout",
     "output_type": "stream",
     "text": [
      "<class 'pandas.core.frame.DataFrame'>\n",
      "RangeIndex: 205 entries, 0 to 204\n",
      "Data columns (total 53 columns):\n",
      " #   Column                  Non-Null Count  Dtype  \n",
      "---  ------                  --------------  -----  \n",
      " 0   symboling               205 non-null    int64  \n",
      " 1   normalized-losses       205 non-null    int32  \n",
      " 2   fuel-type               205 non-null    int64  \n",
      " 3   aspiration              205 non-null    int64  \n",
      " 4   num-of-doors            205 non-null    int32  \n",
      " 5   engine-location         205 non-null    int64  \n",
      " 6   wheel-base              205 non-null    float64\n",
      " 7   length                  205 non-null    float64\n",
      " 8   width                   205 non-null    float64\n",
      " 9   height                  205 non-null    float64\n",
      " 10  curb-weight             205 non-null    int64  \n",
      " 11  engine-type             205 non-null    object \n",
      " 12  num-of-cylinders        205 non-null    object \n",
      " 13  engine-size             205 non-null    int64  \n",
      " 14  fuel-system             205 non-null    object \n",
      " 15  bore                    201 non-null    object \n",
      " 16  stroke                  201 non-null    object \n",
      " 17  compression-ratio       205 non-null    float64\n",
      " 18  horsepower              203 non-null    object \n",
      " 19  peak-rpm                203 non-null    object \n",
      " 20  city-mpg                205 non-null    int64  \n",
      " 21  highway-mpg             205 non-null    int64  \n",
      " 22  price                   201 non-null    object \n",
      " 23  make_alfa-romero        205 non-null    uint8  \n",
      " 24  make_audi               205 non-null    uint8  \n",
      " 25  make_bmw                205 non-null    uint8  \n",
      " 26  make_chevrolet          205 non-null    uint8  \n",
      " 27  make_dodge              205 non-null    uint8  \n",
      " 28  make_honda              205 non-null    uint8  \n",
      " 29  make_isuzu              205 non-null    uint8  \n",
      " 30  make_jaguar             205 non-null    uint8  \n",
      " 31  make_mazda              205 non-null    uint8  \n",
      " 32  make_mercedes-benz      205 non-null    uint8  \n",
      " 33  make_mercury            205 non-null    uint8  \n",
      " 34  make_mitsubishi         205 non-null    uint8  \n",
      " 35  make_nissan             205 non-null    uint8  \n",
      " 36  make_peugot             205 non-null    uint8  \n",
      " 37  make_plymouth           205 non-null    uint8  \n",
      " 38  make_porsche            205 non-null    uint8  \n",
      " 39  make_renault            205 non-null    uint8  \n",
      " 40  make_saab               205 non-null    uint8  \n",
      " 41  make_subaru             205 non-null    uint8  \n",
      " 42  make_toyota             205 non-null    uint8  \n",
      " 43  make_volkswagen         205 non-null    uint8  \n",
      " 44  make_volvo              205 non-null    uint8  \n",
      " 45  body-style_convertible  205 non-null    uint8  \n",
      " 46  body-style_hardtop      205 non-null    uint8  \n",
      " 47  body-style_hatchback    205 non-null    uint8  \n",
      " 48  body-style_sedan        205 non-null    uint8  \n",
      " 49  body-style_wagon        205 non-null    uint8  \n",
      " 50  drive-wheels_4wd        205 non-null    uint8  \n",
      " 51  drive-wheels_fwd        205 non-null    uint8  \n",
      " 52  drive-wheels_rwd        205 non-null    uint8  \n",
      "dtypes: float64(5), int32(2), int64(8), object(8), uint8(30)\n",
      "memory usage: 41.4+ KB\n"
     ]
    }
   ],
   "source": [
    "df.info()"
   ]
  },
  {
   "cell_type": "code",
   "execution_count": 86,
   "id": "aa42ddd9-c1f9-4237-ab4d-9f076a5df632",
   "metadata": {},
   "outputs": [
    {
     "data": {
      "text/plain": [
       "symboling                 0\n",
       "normalized-losses         0\n",
       "fuel-type                 0\n",
       "aspiration                0\n",
       "num-of-doors              0\n",
       "engine-location           0\n",
       "wheel-base                0\n",
       "length                    0\n",
       "width                     0\n",
       "height                    0\n",
       "curb-weight               0\n",
       "engine-type               0\n",
       "num-of-cylinders          0\n",
       "engine-size               0\n",
       "fuel-system               0\n",
       "bore                      4\n",
       "stroke                    4\n",
       "compression-ratio         0\n",
       "horsepower                2\n",
       "peak-rpm                  2\n",
       "city-mpg                  0\n",
       "highway-mpg               0\n",
       "price                     4\n",
       "make_alfa-romero          0\n",
       "make_audi                 0\n",
       "make_bmw                  0\n",
       "make_chevrolet            0\n",
       "make_dodge                0\n",
       "make_honda                0\n",
       "make_isuzu                0\n",
       "make_jaguar               0\n",
       "make_mazda                0\n",
       "make_mercedes-benz        0\n",
       "make_mercury              0\n",
       "make_mitsubishi           0\n",
       "make_nissan               0\n",
       "make_peugot               0\n",
       "make_plymouth             0\n",
       "make_porsche              0\n",
       "make_renault              0\n",
       "make_saab                 0\n",
       "make_subaru               0\n",
       "make_toyota               0\n",
       "make_volkswagen           0\n",
       "make_volvo                0\n",
       "body-style_convertible    0\n",
       "body-style_hardtop        0\n",
       "body-style_hatchback      0\n",
       "body-style_sedan          0\n",
       "body-style_wagon          0\n",
       "drive-wheels_4wd          0\n",
       "drive-wheels_fwd          0\n",
       "drive-wheels_rwd          0\n",
       "dtype: int64"
      ]
     },
     "execution_count": 86,
     "metadata": {},
     "output_type": "execute_result"
    }
   ],
   "source": [
    "df.isna().sum()"
   ]
  },
  {
   "cell_type": "markdown",
   "id": "cc07d27d-f705-479e-8754-c32691bb8f66",
   "metadata": {},
   "source": [
    "# 3.11 engine-type  "
   ]
  },
  {
   "cell_type": "code",
   "execution_count": 87,
   "id": "d2f3d06d-46b3-4121-ac28-9611d105cd29",
   "metadata": {},
   "outputs": [
    {
     "data": {
      "text/plain": [
       "dtype('O')"
      ]
     },
     "execution_count": 87,
     "metadata": {},
     "output_type": "execute_result"
    }
   ],
   "source": [
    "df['engine-type'].dtype"
   ]
  },
  {
   "cell_type": "code",
   "execution_count": 88,
   "id": "e8084a22-4a84-4eb5-8c10-7533bbeb25e6",
   "metadata": {},
   "outputs": [
    {
     "data": {
      "text/plain": [
       "ohc      148\n",
       "ohcf      15\n",
       "ohcv      13\n",
       "dohc      12\n",
       "l         12\n",
       "rotor      4\n",
       "dohcv      1\n",
       "Name: engine-type, dtype: int64"
      ]
     },
     "execution_count": 88,
     "metadata": {},
     "output_type": "execute_result"
    }
   ],
   "source": [
    "df['engine-type'].value_counts()"
   ]
  },
  {
   "cell_type": "code",
   "execution_count": 89,
   "id": "39058a58-c9cb-497c-bdef-e48e3f77a62a",
   "metadata": {},
   "outputs": [],
   "source": [
    "df = pd.get_dummies(df,columns=['engine-type'])"
   ]
  },
  {
   "cell_type": "code",
   "execution_count": 90,
   "id": "7246e580-bd40-499d-84cd-99720890c486",
   "metadata": {},
   "outputs": [
    {
     "name": "stdout",
     "output_type": "stream",
     "text": [
      "<class 'pandas.core.frame.DataFrame'>\n",
      "RangeIndex: 205 entries, 0 to 204\n",
      "Data columns (total 59 columns):\n",
      " #   Column                  Non-Null Count  Dtype  \n",
      "---  ------                  --------------  -----  \n",
      " 0   symboling               205 non-null    int64  \n",
      " 1   normalized-losses       205 non-null    int32  \n",
      " 2   fuel-type               205 non-null    int64  \n",
      " 3   aspiration              205 non-null    int64  \n",
      " 4   num-of-doors            205 non-null    int32  \n",
      " 5   engine-location         205 non-null    int64  \n",
      " 6   wheel-base              205 non-null    float64\n",
      " 7   length                  205 non-null    float64\n",
      " 8   width                   205 non-null    float64\n",
      " 9   height                  205 non-null    float64\n",
      " 10  curb-weight             205 non-null    int64  \n",
      " 11  num-of-cylinders        205 non-null    object \n",
      " 12  engine-size             205 non-null    int64  \n",
      " 13  fuel-system             205 non-null    object \n",
      " 14  bore                    201 non-null    object \n",
      " 15  stroke                  201 non-null    object \n",
      " 16  compression-ratio       205 non-null    float64\n",
      " 17  horsepower              203 non-null    object \n",
      " 18  peak-rpm                203 non-null    object \n",
      " 19  city-mpg                205 non-null    int64  \n",
      " 20  highway-mpg             205 non-null    int64  \n",
      " 21  price                   201 non-null    object \n",
      " 22  make_alfa-romero        205 non-null    uint8  \n",
      " 23  make_audi               205 non-null    uint8  \n",
      " 24  make_bmw                205 non-null    uint8  \n",
      " 25  make_chevrolet          205 non-null    uint8  \n",
      " 26  make_dodge              205 non-null    uint8  \n",
      " 27  make_honda              205 non-null    uint8  \n",
      " 28  make_isuzu              205 non-null    uint8  \n",
      " 29  make_jaguar             205 non-null    uint8  \n",
      " 30  make_mazda              205 non-null    uint8  \n",
      " 31  make_mercedes-benz      205 non-null    uint8  \n",
      " 32  make_mercury            205 non-null    uint8  \n",
      " 33  make_mitsubishi         205 non-null    uint8  \n",
      " 34  make_nissan             205 non-null    uint8  \n",
      " 35  make_peugot             205 non-null    uint8  \n",
      " 36  make_plymouth           205 non-null    uint8  \n",
      " 37  make_porsche            205 non-null    uint8  \n",
      " 38  make_renault            205 non-null    uint8  \n",
      " 39  make_saab               205 non-null    uint8  \n",
      " 40  make_subaru             205 non-null    uint8  \n",
      " 41  make_toyota             205 non-null    uint8  \n",
      " 42  make_volkswagen         205 non-null    uint8  \n",
      " 43  make_volvo              205 non-null    uint8  \n",
      " 44  body-style_convertible  205 non-null    uint8  \n",
      " 45  body-style_hardtop      205 non-null    uint8  \n",
      " 46  body-style_hatchback    205 non-null    uint8  \n",
      " 47  body-style_sedan        205 non-null    uint8  \n",
      " 48  body-style_wagon        205 non-null    uint8  \n",
      " 49  drive-wheels_4wd        205 non-null    uint8  \n",
      " 50  drive-wheels_fwd        205 non-null    uint8  \n",
      " 51  drive-wheels_rwd        205 non-null    uint8  \n",
      " 52  engine-type_dohc        205 non-null    uint8  \n",
      " 53  engine-type_dohcv       205 non-null    uint8  \n",
      " 54  engine-type_l           205 non-null    uint8  \n",
      " 55  engine-type_ohc         205 non-null    uint8  \n",
      " 56  engine-type_ohcf        205 non-null    uint8  \n",
      " 57  engine-type_ohcv        205 non-null    uint8  \n",
      " 58  engine-type_rotor       205 non-null    uint8  \n",
      "dtypes: float64(5), int32(2), int64(8), object(7), uint8(37)\n",
      "memory usage: 41.2+ KB\n"
     ]
    }
   ],
   "source": [
    "df.info()"
   ]
  },
  {
   "cell_type": "markdown",
   "id": "f42dbf94-cf1f-48d1-b05f-af5bea41922c",
   "metadata": {},
   "source": [
    "# 3.12 num-of-cylinders"
   ]
  },
  {
   "cell_type": "code",
   "execution_count": 91,
   "id": "32d7a0f7-8b5d-4712-aecc-556044fefab5",
   "metadata": {},
   "outputs": [
    {
     "data": {
      "text/plain": [
       "dtype('O')"
      ]
     },
     "execution_count": 91,
     "metadata": {},
     "output_type": "execute_result"
    }
   ],
   "source": [
    "df['num-of-cylinders'].dtype"
   ]
  },
  {
   "cell_type": "code",
   "execution_count": 92,
   "id": "0abc79b0-acc3-4eda-a75c-40099a82c155",
   "metadata": {},
   "outputs": [
    {
     "data": {
      "text/plain": [
       "four      159\n",
       "six        24\n",
       "five       11\n",
       "eight       5\n",
       "two         4\n",
       "three       1\n",
       "twelve      1\n",
       "Name: num-of-cylinders, dtype: int64"
      ]
     },
     "execution_count": 92,
     "metadata": {},
     "output_type": "execute_result"
    }
   ],
   "source": [
    "df['num-of-cylinders'].value_counts()"
   ]
  },
  {
   "cell_type": "code",
   "execution_count": 93,
   "id": "59d2ef93-3b91-491d-a822-8bbac94a478b",
   "metadata": {},
   "outputs": [],
   "source": [
    "## this is an ordinal data"
   ]
  },
  {
   "cell_type": "code",
   "execution_count": 94,
   "id": "cd49bf86-12b7-4722-b49e-367a0f75bccd",
   "metadata": {},
   "outputs": [
    {
     "data": {
      "text/plain": [
       "{'four': 159,\n",
       " 'six': 24,\n",
       " 'five': 11,\n",
       " 'eight': 5,\n",
       " 'two': 4,\n",
       " 'three': 1,\n",
       " 'twelve': 1}"
      ]
     },
     "execution_count": 94,
     "metadata": {},
     "output_type": "execute_result"
    }
   ],
   "source": [
    "df['num-of-cylinders'].value_counts().to_dict()"
   ]
  },
  {
   "cell_type": "code",
   "execution_count": 95,
   "id": "b8c325b9-ba2c-4a2d-b788-8775e5c0dc09",
   "metadata": {},
   "outputs": [],
   "source": [
    "# lavble encoding\n",
    "df['num-of-cylinders'].replace({'four': 4, 'six': 6, 'five': 5, 'eight': 8, 'two': 2, 'three': 3, 'twelve': 12},inplace=True)"
   ]
  },
  {
   "cell_type": "code",
   "execution_count": 96,
   "id": "6975c653-534f-4240-b7b9-124139effa73",
   "metadata": {},
   "outputs": [
    {
     "data": {
      "text/plain": [
       "dtype('int64')"
      ]
     },
     "execution_count": 96,
     "metadata": {},
     "output_type": "execute_result"
    }
   ],
   "source": [
    "df['num-of-cylinders'].dtype"
   ]
  },
  {
   "cell_type": "code",
   "execution_count": 97,
   "id": "d961dd67-82f0-4233-bf2b-b208cfbbd383",
   "metadata": {},
   "outputs": [
    {
     "data": {
      "text/plain": [
       "0"
      ]
     },
     "execution_count": 97,
     "metadata": {},
     "output_type": "execute_result"
    }
   ],
   "source": [
    "df['num-of-cylinders'].isna().sum()"
   ]
  },
  {
   "cell_type": "code",
   "execution_count": 98,
   "id": "f4431e93-f11a-4fda-963b-0aeb36865188",
   "metadata": {},
   "outputs": [
    {
     "name": "stdout",
     "output_type": "stream",
     "text": [
      "<class 'pandas.core.frame.DataFrame'>\n",
      "RangeIndex: 205 entries, 0 to 204\n",
      "Data columns (total 59 columns):\n",
      " #   Column                  Non-Null Count  Dtype  \n",
      "---  ------                  --------------  -----  \n",
      " 0   symboling               205 non-null    int64  \n",
      " 1   normalized-losses       205 non-null    int32  \n",
      " 2   fuel-type               205 non-null    int64  \n",
      " 3   aspiration              205 non-null    int64  \n",
      " 4   num-of-doors            205 non-null    int32  \n",
      " 5   engine-location         205 non-null    int64  \n",
      " 6   wheel-base              205 non-null    float64\n",
      " 7   length                  205 non-null    float64\n",
      " 8   width                   205 non-null    float64\n",
      " 9   height                  205 non-null    float64\n",
      " 10  curb-weight             205 non-null    int64  \n",
      " 11  num-of-cylinders        205 non-null    int64  \n",
      " 12  engine-size             205 non-null    int64  \n",
      " 13  fuel-system             205 non-null    object \n",
      " 14  bore                    201 non-null    object \n",
      " 15  stroke                  201 non-null    object \n",
      " 16  compression-ratio       205 non-null    float64\n",
      " 17  horsepower              203 non-null    object \n",
      " 18  peak-rpm                203 non-null    object \n",
      " 19  city-mpg                205 non-null    int64  \n",
      " 20  highway-mpg             205 non-null    int64  \n",
      " 21  price                   201 non-null    object \n",
      " 22  make_alfa-romero        205 non-null    uint8  \n",
      " 23  make_audi               205 non-null    uint8  \n",
      " 24  make_bmw                205 non-null    uint8  \n",
      " 25  make_chevrolet          205 non-null    uint8  \n",
      " 26  make_dodge              205 non-null    uint8  \n",
      " 27  make_honda              205 non-null    uint8  \n",
      " 28  make_isuzu              205 non-null    uint8  \n",
      " 29  make_jaguar             205 non-null    uint8  \n",
      " 30  make_mazda              205 non-null    uint8  \n",
      " 31  make_mercedes-benz      205 non-null    uint8  \n",
      " 32  make_mercury            205 non-null    uint8  \n",
      " 33  make_mitsubishi         205 non-null    uint8  \n",
      " 34  make_nissan             205 non-null    uint8  \n",
      " 35  make_peugot             205 non-null    uint8  \n",
      " 36  make_plymouth           205 non-null    uint8  \n",
      " 37  make_porsche            205 non-null    uint8  \n",
      " 38  make_renault            205 non-null    uint8  \n",
      " 39  make_saab               205 non-null    uint8  \n",
      " 40  make_subaru             205 non-null    uint8  \n",
      " 41  make_toyota             205 non-null    uint8  \n",
      " 42  make_volkswagen         205 non-null    uint8  \n",
      " 43  make_volvo              205 non-null    uint8  \n",
      " 44  body-style_convertible  205 non-null    uint8  \n",
      " 45  body-style_hardtop      205 non-null    uint8  \n",
      " 46  body-style_hatchback    205 non-null    uint8  \n",
      " 47  body-style_sedan        205 non-null    uint8  \n",
      " 48  body-style_wagon        205 non-null    uint8  \n",
      " 49  drive-wheels_4wd        205 non-null    uint8  \n",
      " 50  drive-wheels_fwd        205 non-null    uint8  \n",
      " 51  drive-wheels_rwd        205 non-null    uint8  \n",
      " 52  engine-type_dohc        205 non-null    uint8  \n",
      " 53  engine-type_dohcv       205 non-null    uint8  \n",
      " 54  engine-type_l           205 non-null    uint8  \n",
      " 55  engine-type_ohc         205 non-null    uint8  \n",
      " 56  engine-type_ohcf        205 non-null    uint8  \n",
      " 57  engine-type_ohcv        205 non-null    uint8  \n",
      " 58  engine-type_rotor       205 non-null    uint8  \n",
      "dtypes: float64(5), int32(2), int64(9), object(6), uint8(37)\n",
      "memory usage: 41.2+ KB\n"
     ]
    }
   ],
   "source": [
    "df.info()"
   ]
  },
  {
   "cell_type": "markdown",
   "id": "a051d03a-8676-4505-8ff5-b356783a3a72",
   "metadata": {},
   "source": [
    "# 3.13 fuel-system"
   ]
  },
  {
   "cell_type": "code",
   "execution_count": 99,
   "id": "b5d5d2c5-fc06-442a-b131-a145c73cf1dd",
   "metadata": {},
   "outputs": [
    {
     "data": {
      "text/plain": [
       "dtype('O')"
      ]
     },
     "execution_count": 99,
     "metadata": {},
     "output_type": "execute_result"
    }
   ],
   "source": [
    "df['fuel-system'].dtype"
   ]
  },
  {
   "cell_type": "code",
   "execution_count": 100,
   "id": "90fcc46a-1527-4225-b9b1-94a3da779d1b",
   "metadata": {},
   "outputs": [
    {
     "data": {
      "text/plain": [
       "mpfi    94\n",
       "2bbl    66\n",
       "idi     20\n",
       "1bbl    11\n",
       "spdi     9\n",
       "4bbl     3\n",
       "mfi      1\n",
       "spfi     1\n",
       "Name: fuel-system, dtype: int64"
      ]
     },
     "execution_count": 100,
     "metadata": {},
     "output_type": "execute_result"
    }
   ],
   "source": [
    "df['fuel-system'].value_counts()"
   ]
  },
  {
   "cell_type": "code",
   "execution_count": 101,
   "id": "673bb1b9-7b55-466a-b2e2-1fc9dee6954c",
   "metadata": {},
   "outputs": [],
   "source": [
    "# this is nominal data\n",
    "# one hot encoding\n",
    "df = pd.get_dummies(df,columns=['fuel-system'])"
   ]
  },
  {
   "cell_type": "code",
   "execution_count": 102,
   "id": "1e12e3ad-98f0-4fb8-b89f-87efa3f47a1d",
   "metadata": {},
   "outputs": [
    {
     "name": "stdout",
     "output_type": "stream",
     "text": [
      "<class 'pandas.core.frame.DataFrame'>\n",
      "RangeIndex: 205 entries, 0 to 204\n",
      "Data columns (total 66 columns):\n",
      " #   Column                  Non-Null Count  Dtype  \n",
      "---  ------                  --------------  -----  \n",
      " 0   symboling               205 non-null    int64  \n",
      " 1   normalized-losses       205 non-null    int32  \n",
      " 2   fuel-type               205 non-null    int64  \n",
      " 3   aspiration              205 non-null    int64  \n",
      " 4   num-of-doors            205 non-null    int32  \n",
      " 5   engine-location         205 non-null    int64  \n",
      " 6   wheel-base              205 non-null    float64\n",
      " 7   length                  205 non-null    float64\n",
      " 8   width                   205 non-null    float64\n",
      " 9   height                  205 non-null    float64\n",
      " 10  curb-weight             205 non-null    int64  \n",
      " 11  num-of-cylinders        205 non-null    int64  \n",
      " 12  engine-size             205 non-null    int64  \n",
      " 13  bore                    201 non-null    object \n",
      " 14  stroke                  201 non-null    object \n",
      " 15  compression-ratio       205 non-null    float64\n",
      " 16  horsepower              203 non-null    object \n",
      " 17  peak-rpm                203 non-null    object \n",
      " 18  city-mpg                205 non-null    int64  \n",
      " 19  highway-mpg             205 non-null    int64  \n",
      " 20  price                   201 non-null    object \n",
      " 21  make_alfa-romero        205 non-null    uint8  \n",
      " 22  make_audi               205 non-null    uint8  \n",
      " 23  make_bmw                205 non-null    uint8  \n",
      " 24  make_chevrolet          205 non-null    uint8  \n",
      " 25  make_dodge              205 non-null    uint8  \n",
      " 26  make_honda              205 non-null    uint8  \n",
      " 27  make_isuzu              205 non-null    uint8  \n",
      " 28  make_jaguar             205 non-null    uint8  \n",
      " 29  make_mazda              205 non-null    uint8  \n",
      " 30  make_mercedes-benz      205 non-null    uint8  \n",
      " 31  make_mercury            205 non-null    uint8  \n",
      " 32  make_mitsubishi         205 non-null    uint8  \n",
      " 33  make_nissan             205 non-null    uint8  \n",
      " 34  make_peugot             205 non-null    uint8  \n",
      " 35  make_plymouth           205 non-null    uint8  \n",
      " 36  make_porsche            205 non-null    uint8  \n",
      " 37  make_renault            205 non-null    uint8  \n",
      " 38  make_saab               205 non-null    uint8  \n",
      " 39  make_subaru             205 non-null    uint8  \n",
      " 40  make_toyota             205 non-null    uint8  \n",
      " 41  make_volkswagen         205 non-null    uint8  \n",
      " 42  make_volvo              205 non-null    uint8  \n",
      " 43  body-style_convertible  205 non-null    uint8  \n",
      " 44  body-style_hardtop      205 non-null    uint8  \n",
      " 45  body-style_hatchback    205 non-null    uint8  \n",
      " 46  body-style_sedan        205 non-null    uint8  \n",
      " 47  body-style_wagon        205 non-null    uint8  \n",
      " 48  drive-wheels_4wd        205 non-null    uint8  \n",
      " 49  drive-wheels_fwd        205 non-null    uint8  \n",
      " 50  drive-wheels_rwd        205 non-null    uint8  \n",
      " 51  engine-type_dohc        205 non-null    uint8  \n",
      " 52  engine-type_dohcv       205 non-null    uint8  \n",
      " 53  engine-type_l           205 non-null    uint8  \n",
      " 54  engine-type_ohc         205 non-null    uint8  \n",
      " 55  engine-type_ohcf        205 non-null    uint8  \n",
      " 56  engine-type_ohcv        205 non-null    uint8  \n",
      " 57  engine-type_rotor       205 non-null    uint8  \n",
      " 58  fuel-system_1bbl        205 non-null    uint8  \n",
      " 59  fuel-system_2bbl        205 non-null    uint8  \n",
      " 60  fuel-system_4bbl        205 non-null    uint8  \n",
      " 61  fuel-system_idi         205 non-null    uint8  \n",
      " 62  fuel-system_mfi         205 non-null    uint8  \n",
      " 63  fuel-system_mpfi        205 non-null    uint8  \n",
      " 64  fuel-system_spdi        205 non-null    uint8  \n",
      " 65  fuel-system_spfi        205 non-null    uint8  \n",
      "dtypes: float64(5), int32(2), int64(9), object(5), uint8(45)\n",
      "memory usage: 41.2+ KB\n"
     ]
    }
   ],
   "source": [
    "df.info()"
   ]
  },
  {
   "cell_type": "markdown",
   "id": "bb34a04b-15da-4e44-a68e-8c2e9d638318",
   "metadata": {},
   "source": [
    "# 3.14 bore"
   ]
  },
  {
   "cell_type": "code",
   "execution_count": 103,
   "id": "cd15bcdc-5a5c-4db0-9ca6-1e2e30816e57",
   "metadata": {},
   "outputs": [
    {
     "data": {
      "text/plain": [
       "dtype('O')"
      ]
     },
     "execution_count": 103,
     "metadata": {},
     "output_type": "execute_result"
    }
   ],
   "source": [
    "df['bore'].dtype"
   ]
  },
  {
   "cell_type": "code",
   "execution_count": 104,
   "id": "a062a98f-a705-4d9a-8e20-0aee68813f86",
   "metadata": {},
   "outputs": [
    {
     "data": {
      "text/plain": [
       "3.62    23\n",
       "3.19    20\n",
       "3.15    15\n",
       "3.03    12\n",
       "2.97    12\n",
       "3.46     9\n",
       "3.78     8\n",
       "3.31     8\n",
       "3.43     8\n",
       "3.27     7\n",
       "2.91     7\n",
       "3.54     6\n",
       "3.05     6\n",
       "3.58     6\n",
       "3.39     6\n",
       "3.01     5\n",
       "3.7      5\n",
       "3.35     4\n",
       "3.17     3\n",
       "3.59     3\n",
       "3.74     3\n",
       "3.33     2\n",
       "3.24     2\n",
       "3.94     2\n",
       "3.47     2\n",
       "3.8      2\n",
       "3.63     2\n",
       "3.5      2\n",
       "3.13     2\n",
       "2.68     1\n",
       "2.99     1\n",
       "3.08     1\n",
       "3.61     1\n",
       "2.92     1\n",
       "3.6      1\n",
       "2.54     1\n",
       "3.34     1\n",
       "3.76     1\n",
       "Name: bore, dtype: int64"
      ]
     },
     "execution_count": 104,
     "metadata": {},
     "output_type": "execute_result"
    }
   ],
   "source": [
    "df['bore'].value_counts()"
   ]
  },
  {
   "cell_type": "code",
   "execution_count": 105,
   "id": "bfb02d90-8129-466e-aa94-ce86aac3a409",
   "metadata": {},
   "outputs": [],
   "source": [
    "df['bore'] = df['bore'].astype(float)"
   ]
  },
  {
   "cell_type": "code",
   "execution_count": 106,
   "id": "24623902-6e1e-4231-8569-a106c9a23473",
   "metadata": {},
   "outputs": [
    {
     "data": {
      "text/plain": [
       "dtype('float64')"
      ]
     },
     "execution_count": 106,
     "metadata": {},
     "output_type": "execute_result"
    }
   ],
   "source": [
    "df['bore'].dtype"
   ]
  },
  {
   "cell_type": "code",
   "execution_count": 107,
   "id": "601472fb-2661-4666-9b6d-ec8f77b1fd68",
   "metadata": {},
   "outputs": [
    {
     "data": {
      "text/plain": [
       "4"
      ]
     },
     "execution_count": 107,
     "metadata": {},
     "output_type": "execute_result"
    }
   ],
   "source": [
    "df['bore'].isna().sum()"
   ]
  },
  {
   "cell_type": "code",
   "execution_count": 108,
   "id": "b68e2bb8-c3cf-4850-9acb-fad97e209b34",
   "metadata": {},
   "outputs": [
    {
     "data": {
      "text/plain": [
       "<AxesSubplot:xlabel='bore', ylabel='Density'>"
      ]
     },
     "execution_count": 108,
     "metadata": {},
     "output_type": "execute_result"
    },
    {
     "data": {
      "image/png": "[encoded data removed]",
      "text/plain": [
       "<Figure size 640x480 with 1 Axes>"
      ]
     },
     "metadata": {},
     "output_type": "display_data"
    }
   ],
   "source": [
    "sns.kdeplot(df['bore'])"
   ]
  },
  {
   "cell_type": "code",
   "execution_count": 109,
   "id": "6bd78fdc-d48e-4706-89c1-0e4e719cd185",
   "metadata": {},
   "outputs": [],
   "source": [
    "df['bore'].fillna(df['bore'].median(),inplace=True)"
   ]
  },
  {
   "cell_type": "code",
   "execution_count": 110,
   "id": "bd2b7e26-19a4-4528-b5c9-df3f6662800c",
   "metadata": {},
   "outputs": [
    {
     "data": {
      "text/plain": [
       "0"
      ]
     },
     "execution_count": 110,
     "metadata": {},
     "output_type": "execute_result"
    }
   ],
   "source": [
    "df['bore'].isna().sum()"
   ]
  },
  {
   "cell_type": "code",
   "execution_count": 111,
   "id": "d4a335ce-c869-4691-9cf9-3473f7118012",
   "metadata": {},
   "outputs": [
    {
     "name": "stdout",
     "output_type": "stream",
     "text": [
      "<class 'pandas.core.frame.DataFrame'>\n",
      "RangeIndex: 205 entries, 0 to 204\n",
      "Data columns (total 66 columns):\n",
      " #   Column                  Non-Null Count  Dtype  \n",
      "---  ------                  --------------  -----  \n",
      " 0   symboling               205 non-null    int64  \n",
      " 1   normalized-losses       205 non-null    int32  \n",
      " 2   fuel-type               205 non-null    int64  \n",
      " 3   aspiration              205 non-null    int64  \n",
      " 4   num-of-doors            205 non-null    int32  \n",
      " 5   engine-location         205 non-null    int64  \n",
      " 6   wheel-base              205 non-null    float64\n",
      " 7   length                  205 non-null    float64\n",
      " 8   width                   205 non-null    float64\n",
      " 9   height                  205 non-null    float64\n",
      " 10  curb-weight             205 non-null    int64  \n",
      " 11  num-of-cylinders        205 non-null    int64  \n",
      " 12  engine-size             205 non-null    int64  \n",
      " 13  bore                    205 non-null    float64\n",
      " 14  stroke                  201 non-null    object \n",
      " 15  compression-ratio       205 non-null    float64\n",
      " 16  horsepower              203 non-null    object \n",
      " 17  peak-rpm                203 non-null    object \n",
      " 18  city-mpg                205 non-null    int64  \n",
      " 19  highway-mpg             205 non-null    int64  \n",
      " 20  price                   201 non-null    object \n",
      " 21  make_alfa-romero        205 non-null    uint8  \n",
      " 22  make_audi               205 non-null    uint8  \n",
      " 23  make_bmw                205 non-null    uint8  \n",
      " 24  make_chevrolet          205 non-null    uint8  \n",
      " 25  make_dodge              205 non-null    uint8  \n",
      " 26  make_honda              205 non-null    uint8  \n",
      " 27  make_isuzu              205 non-null    uint8  \n",
      " 28  make_jaguar             205 non-null    uint8  \n",
      " 29  make_mazda              205 non-null    uint8  \n",
      " 30  make_mercedes-benz      205 non-null    uint8  \n",
      " 31  make_mercury            205 non-null    uint8  \n",
      " 32  make_mitsubishi         205 non-null    uint8  \n",
      " 33  make_nissan             205 non-null    uint8  \n",
      " 34  make_peugot             205 non-null    uint8  \n",
      " 35  make_plymouth           205 non-null    uint8  \n",
      " 36  make_porsche            205 non-null    uint8  \n",
      " 37  make_renault            205 non-null    uint8  \n",
      " 38  make_saab               205 non-null    uint8  \n",
      " 39  make_subaru             205 non-null    uint8  \n",
      " 40  make_toyota             205 non-null    uint8  \n",
      " 41  make_volkswagen         205 non-null    uint8  \n",
      " 42  make_volvo              205 non-null    uint8  \n",
      " 43  body-style_convertible  205 non-null    uint8  \n",
      " 44  body-style_hardtop      205 non-null    uint8  \n",
      " 45  body-style_hatchback    205 non-null    uint8  \n",
      " 46  body-style_sedan        205 non-null    uint8  \n",
      " 47  body-style_wagon        205 non-null    uint8  \n",
      " 48  drive-wheels_4wd        205 non-null    uint8  \n",
      " 49  drive-wheels_fwd        205 non-null    uint8  \n",
      " 50  drive-wheels_rwd        205 non-null    uint8  \n",
      " 51  engine-type_dohc        205 non-null    uint8  \n",
      " 52  engine-type_dohcv       205 non-null    uint8  \n",
      " 53  engine-type_l           205 non-null    uint8  \n",
      " 54  engine-type_ohc         205 non-null    uint8  \n",
      " 55  engine-type_ohcf        205 non-null    uint8  \n",
      " 56  engine-type_ohcv        205 non-null    uint8  \n",
      " 57  engine-type_rotor       205 non-null    uint8  \n",
      " 58  fuel-system_1bbl        205 non-null    uint8  \n",
      " 59  fuel-system_2bbl        205 non-null    uint8  \n",
      " 60  fuel-system_4bbl        205 non-null    uint8  \n",
      " 61  fuel-system_idi         205 non-null    uint8  \n",
      " 62  fuel-system_mfi         205 non-null    uint8  \n",
      " 63  fuel-system_mpfi        205 non-null    uint8  \n",
      " 64  fuel-system_spdi        205 non-null    uint8  \n",
      " 65  fuel-system_spfi        205 non-null    uint8  \n",
      "dtypes: float64(6), int32(2), int64(9), object(4), uint8(45)\n",
      "memory usage: 41.2+ KB\n"
     ]
    }
   ],
   "source": [
    "df.info()"
   ]
  },
  {
   "cell_type": "markdown",
   "id": "6faed494-afe3-470e-b4f3-693e786f5cc5",
   "metadata": {},
   "source": [
    "# 3.15 stroke"
   ]
  },
  {
   "cell_type": "code",
   "execution_count": 112,
   "id": "7108546d-6474-4821-a2db-4ef1a002ea14",
   "metadata": {},
   "outputs": [
    {
     "data": {
      "text/plain": [
       "dtype('O')"
      ]
     },
     "execution_count": 112,
     "metadata": {},
     "output_type": "execute_result"
    }
   ],
   "source": [
    "df['stroke'].dtype"
   ]
  },
  {
   "cell_type": "code",
   "execution_count": 113,
   "id": "3eb82b4b-a9e6-4a20-b4fd-c21a3d9e8967",
   "metadata": {},
   "outputs": [
    {
     "data": {
      "text/plain": [
       "3.4     20\n",
       "3.03    14\n",
       "3.23    14\n",
       "3.15    14\n",
       "3.39    13\n",
       "2.64    11\n",
       "3.29     9\n",
       "3.35     9\n",
       "3.46     8\n",
       "3.07     6\n",
       "3.58     6\n",
       "3.5      6\n",
       "3.27     6\n",
       "3.41     6\n",
       "3.11     6\n",
       "3.19     6\n",
       "3.52     5\n",
       "3.64     5\n",
       "3.47     4\n",
       "3.86     4\n",
       "3.54     4\n",
       "3.9      3\n",
       "2.9      3\n",
       "3.08     2\n",
       "2.19     2\n",
       "2.68     2\n",
       "3.1      2\n",
       "4.17     2\n",
       "2.8      2\n",
       "3.12     1\n",
       "3.21     1\n",
       "2.07     1\n",
       "2.36     1\n",
       "3.16     1\n",
       "2.76     1\n",
       "2.87     1\n",
       "Name: stroke, dtype: int64"
      ]
     },
     "execution_count": 113,
     "metadata": {},
     "output_type": "execute_result"
    }
   ],
   "source": [
    "df['stroke'].value_counts()"
   ]
  },
  {
   "cell_type": "code",
   "execution_count": 114,
   "id": "eb103e04-832e-490d-8bd6-e8f03fb1b36e",
   "metadata": {},
   "outputs": [
    {
     "data": {
      "text/plain": [
       "4"
      ]
     },
     "execution_count": 114,
     "metadata": {},
     "output_type": "execute_result"
    }
   ],
   "source": [
    "df['stroke'].isna().sum()"
   ]
  },
  {
   "cell_type": "code",
   "execution_count": 115,
   "id": "c1805143-6a05-4cf2-b936-57e42c1fab40",
   "metadata": {},
   "outputs": [],
   "source": [
    "df['stroke'].fillna(df['stroke'].median(),inplace=True)"
   ]
  },
  {
   "cell_type": "code",
   "execution_count": 116,
   "id": "b38fc620-7a17-4cfb-9ec3-119e0312bb61",
   "metadata": {},
   "outputs": [],
   "source": [
    "df['stroke'] = df['stroke'].astype(float)"
   ]
  },
  {
   "cell_type": "code",
   "execution_count": 117,
   "id": "6511f30f-af85-499e-adfc-150b7319d620",
   "metadata": {},
   "outputs": [
    {
     "data": {
      "text/plain": [
       "dtype('float64')"
      ]
     },
     "execution_count": 117,
     "metadata": {},
     "output_type": "execute_result"
    }
   ],
   "source": [
    "df['stroke'].dtype"
   ]
  },
  {
   "cell_type": "code",
   "execution_count": 118,
   "id": "a1438b57-669b-4c10-8175-8f8931e58808",
   "metadata": {},
   "outputs": [
    {
     "name": "stdout",
     "output_type": "stream",
     "text": [
      "<class 'pandas.core.frame.DataFrame'>\n",
      "RangeIndex: 205 entries, 0 to 204\n",
      "Data columns (total 66 columns):\n",
      " #   Column                  Non-Null Count  Dtype  \n",
      "---  ------                  --------------  -----  \n",
      " 0   symboling               205 non-null    int64  \n",
      " 1   normalized-losses       205 non-null    int32  \n",
      " 2   fuel-type               205 non-null    int64  \n",
      " 3   aspiration              205 non-null    int64  \n",
      " 4   num-of-doors            205 non-null    int32  \n",
      " 5   engine-location         205 non-null    int64  \n",
      " 6   wheel-base              205 non-null    float64\n",
      " 7   length                  205 non-null    float64\n",
      " 8   width                   205 non-null    float64\n",
      " 9   height                  205 non-null    float64\n",
      " 10  curb-weight             205 non-null    int64  \n",
      " 11  num-of-cylinders        205 non-null    int64  \n",
      " 12  engine-size             205 non-null    int64  \n",
      " 13  bore                    205 non-null    float64\n",
      " 14  stroke                  205 non-null    float64\n",
      " 15  compression-ratio       205 non-null    float64\n",
      " 16  horsepower              203 non-null    object \n",
      " 17  peak-rpm                203 non-null    object \n",
      " 18  city-mpg                205 non-null    int64  \n",
      " 19  highway-mpg             205 non-null    int64  \n",
      " 20  price                   201 non-null    object \n",
      " 21  make_alfa-romero        205 non-null    uint8  \n",
      " 22  make_audi               205 non-null    uint8  \n",
      " 23  make_bmw                205 non-null    uint8  \n",
      " 24  make_chevrolet          205 non-null    uint8  \n",
      " 25  make_dodge              205 non-null    uint8  \n",
      " 26  make_honda              205 non-null    uint8  \n",
      " 27  make_isuzu              205 non-null    uint8  \n",
      " 28  make_jaguar             205 non-null    uint8  \n",
      " 29  make_mazda              205 non-null    uint8  \n",
      " 30  make_mercedes-benz      205 non-null    uint8  \n",
      " 31  make_mercury            205 non-null    uint8  \n",
      " 32  make_mitsubishi         205 non-null    uint8  \n",
      " 33  make_nissan             205 non-null    uint8  \n",
      " 34  make_peugot             205 non-null    uint8  \n",
      " 35  make_plymouth           205 non-null    uint8  \n",
      " 36  make_porsche            205 non-null    uint8  \n",
      " 37  make_renault            205 non-null    uint8  \n",
      " 38  make_saab               205 non-null    uint8  \n",
      " 39  make_subaru             205 non-null    uint8  \n",
      " 40  make_toyota             205 non-null    uint8  \n",
      " 41  make_volkswagen         205 non-null    uint8  \n",
      " 42  make_volvo              205 non-null    uint8  \n",
      " 43  body-style_convertible  205 non-null    uint8  \n",
      " 44  body-style_hardtop      205 non-null    uint8  \n",
      " 45  body-style_hatchback    205 non-null    uint8  \n",
      " 46  body-style_sedan        205 non-null    uint8  \n",
      " 47  body-style_wagon        205 non-null    uint8  \n",
      " 48  drive-wheels_4wd        205 non-null    uint8  \n",
      " 49  drive-wheels_fwd        205 non-null    uint8  \n",
      " 50  drive-wheels_rwd        205 non-null    uint8  \n",
      " 51  engine-type_dohc        205 non-null    uint8  \n",
      " 52  engine-type_dohcv       205 non-null    uint8  \n",
      " 53  engine-type_l           205 non-null    uint8  \n",
      " 54  engine-type_ohc         205 non-null    uint8  \n",
      " 55  engine-type_ohcf        205 non-null    uint8  \n",
      " 56  engine-type_ohcv        205 non-null    uint8  \n",
      " 57  engine-type_rotor       205 non-null    uint8  \n",
      " 58  fuel-system_1bbl        205 non-null    uint8  \n",
      " 59  fuel-system_2bbl        205 non-null    uint8  \n",
      " 60  fuel-system_4bbl        205 non-null    uint8  \n",
      " 61  fuel-system_idi         205 non-null    uint8  \n",
      " 62  fuel-system_mfi         205 non-null    uint8  \n",
      " 63  fuel-system_mpfi        205 non-null    uint8  \n",
      " 64  fuel-system_spdi        205 non-null    uint8  \n",
      " 65  fuel-system_spfi        205 non-null    uint8  \n",
      "dtypes: float64(7), int32(2), int64(9), object(3), uint8(45)\n",
      "memory usage: 41.2+ KB\n"
     ]
    }
   ],
   "source": [
    "df.info()"
   ]
  },
  {
   "cell_type": "markdown",
   "id": "da2d263c-0b88-4f66-a68f-d71cdd69dd52",
   "metadata": {},
   "source": [
    "# 3.16 horsepower"
   ]
  },
  {
   "cell_type": "code",
   "execution_count": 119,
   "id": "89757533-73e5-4a5c-be05-53f19de52f57",
   "metadata": {},
   "outputs": [
    {
     "data": {
      "text/plain": [
       "dtype('O')"
      ]
     },
     "execution_count": 119,
     "metadata": {},
     "output_type": "execute_result"
    }
   ],
   "source": [
    "df['horsepower'].dtype"
   ]
  },
  {
   "cell_type": "code",
   "execution_count": 120,
   "id": "1f589866-7065-4351-a0ff-c04930a5ab76",
   "metadata": {},
   "outputs": [
    {
     "data": {
      "text/plain": [
       "array(['111', '154', '102', '115', '110', '140', '160', '101', '121',\n",
       "       '182', '48', '70', '68', '88', '145', '58', '76', '60', '86',\n",
       "       '100', '78', '90', '176', '262', '135', '84', '64', '120', '72',\n",
       "       '123', '155', '184', '175', '116', '69', '55', '97', '152', '200',\n",
       "       '95', '142', '143', '207', '288', nan, '73', '82', '94', '62',\n",
       "       '56', '112', '92', '161', '156', '52', '85', '114', '162', '134',\n",
       "       '106'], dtype=object)"
      ]
     },
     "execution_count": 120,
     "metadata": {},
     "output_type": "execute_result"
    }
   ],
   "source": [
    "df['horsepower'].unique()"
   ]
  },
  {
   "cell_type": "code",
   "execution_count": 121,
   "id": "331664d3-5183-4ba7-af80-9e2b4d7f832a",
   "metadata": {},
   "outputs": [
    {
     "data": {
      "text/plain": [
       "68     19\n",
       "70     11\n",
       "69     10\n",
       "116     9\n",
       "110     8\n",
       "95      7\n",
       "114     6\n",
       "160     6\n",
       "101     6\n",
       "62      6\n",
       "88      6\n",
       "145     5\n",
       "76      5\n",
       "97      5\n",
       "82      5\n",
       "84      5\n",
       "102     5\n",
       "92      4\n",
       "111     4\n",
       "123     4\n",
       "86      4\n",
       "207     3\n",
       "182     3\n",
       "90      3\n",
       "121     3\n",
       "152     3\n",
       "85      3\n",
       "73      3\n",
       "161     2\n",
       "94      2\n",
       "56      2\n",
       "112     2\n",
       "184     2\n",
       "155     2\n",
       "156     2\n",
       "52      2\n",
       "100     2\n",
       "162     2\n",
       "176     2\n",
       "140     1\n",
       "115     1\n",
       "134     1\n",
       "78      1\n",
       "48      1\n",
       "288     1\n",
       "143     1\n",
       "142     1\n",
       "200     1\n",
       "58      1\n",
       "55      1\n",
       "60      1\n",
       "175     1\n",
       "154     1\n",
       "72      1\n",
       "120     1\n",
       "64      1\n",
       "135     1\n",
       "262     1\n",
       "106     1\n",
       "Name: horsepower, dtype: int64"
      ]
     },
     "execution_count": 121,
     "metadata": {},
     "output_type": "execute_result"
    }
   ],
   "source": [
    "df['horsepower'].value_counts()"
   ]
  },
  {
   "cell_type": "code",
   "execution_count": 122,
   "id": "9d12f86e-c595-4e37-addc-7b81ffca263d",
   "metadata": {},
   "outputs": [
    {
     "data": {
      "text/plain": [
       "2"
      ]
     },
     "execution_count": 122,
     "metadata": {},
     "output_type": "execute_result"
    }
   ],
   "source": [
    "df['horsepower'].isna().sum()"
   ]
  },
  {
   "cell_type": "code",
   "execution_count": 123,
   "id": "65dd3c25-7bd5-49ba-8c88-d5d1fdf1da2b",
   "metadata": {},
   "outputs": [
    {
     "data": {
      "text/plain": [
       "95.0"
      ]
     },
     "execution_count": 123,
     "metadata": {},
     "output_type": "execute_result"
    }
   ],
   "source": [
    "df['horsepower'].median()"
   ]
  },
  {
   "cell_type": "code",
   "execution_count": 124,
   "id": "54e4822c-5ec9-48eb-abd2-6d9a735a6d61",
   "metadata": {},
   "outputs": [],
   "source": [
    "df['horsepower'].fillna(df['horsepower'].median(),inplace=True)"
   ]
  },
  {
   "cell_type": "code",
   "execution_count": 125,
   "id": "2c1eb10e-3c80-484f-9598-5bc27a708a90",
   "metadata": {},
   "outputs": [],
   "source": [
    "df['horsepower'] = df['horsepower'].astype(int)"
   ]
  },
  {
   "cell_type": "code",
   "execution_count": 126,
   "id": "41f61b86-e980-419a-8773-f079e67c7285",
   "metadata": {},
   "outputs": [
    {
     "data": {
      "text/plain": [
       "dtype('int32')"
      ]
     },
     "execution_count": 126,
     "metadata": {},
     "output_type": "execute_result"
    }
   ],
   "source": [
    "df['horsepower'].dtype"
   ]
  },
  {
   "cell_type": "code",
   "execution_count": 127,
   "id": "71ab383e-f903-4f8f-b991-a6a8b058cbcb",
   "metadata": {},
   "outputs": [
    {
     "name": "stdout",
     "output_type": "stream",
     "text": [
      "<class 'pandas.core.frame.DataFrame'>\n",
      "RangeIndex: 205 entries, 0 to 204\n",
      "Data columns (total 66 columns):\n",
      " #   Column                  Non-Null Count  Dtype  \n",
      "---  ------                  --------------  -----  \n",
      " 0   symboling               205 non-null    int64  \n",
      " 1   normalized-losses       205 non-null    int32  \n",
      " 2   fuel-type               205 non-null    int64  \n",
      " 3   aspiration              205 non-null    int64  \n",
      " 4   num-of-doors            205 non-null    int32  \n",
      " 5   engine-location         205 non-null    int64  \n",
      " 6   wheel-base              205 non-null    float64\n",
      " 7   length                  205 non-null    float64\n",
      " 8   width                   205 non-null    float64\n",
      " 9   height                  205 non-null    float64\n",
      " 10  curb-weight             205 non-null    int64  \n",
      " 11  num-of-cylinders        205 non-null    int64  \n",
      " 12  engine-size             205 non-null    int64  \n",
      " 13  bore                    205 non-null    float64\n",
      " 14  stroke                  205 non-null    float64\n",
      " 15  compression-ratio       205 non-null    float64\n",
      " 16  horsepower              205 non-null    int32  \n",
      " 17  peak-rpm                203 non-null    object \n",
      " 18  city-mpg                205 non-null    int64  \n",
      " 19  highway-mpg             205 non-null    int64  \n",
      " 20  price                   201 non-null    object \n",
      " 21  make_alfa-romero        205 non-null    uint8  \n",
      " 22  make_audi               205 non-null    uint8  \n",
      " 23  make_bmw                205 non-null    uint8  \n",
      " 24  make_chevrolet          205 non-null    uint8  \n",
      " 25  make_dodge              205 non-null    uint8  \n",
      " 26  make_honda              205 non-null    uint8  \n",
      " 27  make_isuzu              205 non-null    uint8  \n",
      " 28  make_jaguar             205 non-null    uint8  \n",
      " 29  make_mazda              205 non-null    uint8  \n",
      " 30  make_mercedes-benz      205 non-null    uint8  \n",
      " 31  make_mercury            205 non-null    uint8  \n",
      " 32  make_mitsubishi         205 non-null    uint8  \n",
      " 33  make_nissan             205 non-null    uint8  \n",
      " 34  make_peugot             205 non-null    uint8  \n",
      " 35  make_plymouth           205 non-null    uint8  \n",
      " 36  make_porsche            205 non-null    uint8  \n",
      " 37  make_renault            205 non-null    uint8  \n",
      " 38  make_saab               205 non-null    uint8  \n",
      " 39  make_subaru             205 non-null    uint8  \n",
      " 40  make_toyota             205 non-null    uint8  \n",
      " 41  make_volkswagen         205 non-null    uint8  \n",
      " 42  make_volvo              205 non-null    uint8  \n",
      " 43  body-style_convertible  205 non-null    uint8  \n",
      " 44  body-style_hardtop      205 non-null    uint8  \n",
      " 45  body-style_hatchback    205 non-null    uint8  \n",
      " 46  body-style_sedan        205 non-null    uint8  \n",
      " 47  body-style_wagon        205 non-null    uint8  \n",
      " 48  drive-wheels_4wd        205 non-null    uint8  \n",
      " 49  drive-wheels_fwd        205 non-null    uint8  \n",
      " 50  drive-wheels_rwd        205 non-null    uint8  \n",
      " 51  engine-type_dohc        205 non-null    uint8  \n",
      " 52  engine-type_dohcv       205 non-null    uint8  \n",
      " 53  engine-type_l           205 non-null    uint8  \n",
      " 54  engine-type_ohc         205 non-null    uint8  \n",
      " 55  engine-type_ohcf        205 non-null    uint8  \n",
      " 56  engine-type_ohcv        205 non-null    uint8  \n",
      " 57  engine-type_rotor       205 non-null    uint8  \n",
      " 58  fuel-system_1bbl        205 non-null    uint8  \n",
      " 59  fuel-system_2bbl        205 non-null    uint8  \n",
      " 60  fuel-system_4bbl        205 non-null    uint8  \n",
      " 61  fuel-system_idi         205 non-null    uint8  \n",
      " 62  fuel-system_mfi         205 non-null    uint8  \n",
      " 63  fuel-system_mpfi        205 non-null    uint8  \n",
      " 64  fuel-system_spdi        205 non-null    uint8  \n",
      " 65  fuel-system_spfi        205 non-null    uint8  \n",
      "dtypes: float64(7), int32(3), int64(9), object(2), uint8(45)\n",
      "memory usage: 40.4+ KB\n"
     ]
    }
   ],
   "source": [
    "df.info()"
   ]
  },
  {
   "cell_type": "markdown",
   "id": "bbf31472-3310-4804-a699-c510e2536fc9",
   "metadata": {},
   "source": [
    "# 3.17  peak-rpm"
   ]
  },
  {
   "cell_type": "code",
   "execution_count": 128,
   "id": "a1863566-9c91-4fda-ad15-d121587a659a",
   "metadata": {},
   "outputs": [
    {
     "data": {
      "text/plain": [
       "dtype('O')"
      ]
     },
     "execution_count": 128,
     "metadata": {},
     "output_type": "execute_result"
    }
   ],
   "source": [
    "df['peak-rpm'].dtype"
   ]
  },
  {
   "cell_type": "code",
   "execution_count": 129,
   "id": "5e698753-9fff-4a9a-b4a7-a7797241815e",
   "metadata": {},
   "outputs": [
    {
     "data": {
      "text/plain": [
       "5500    37\n",
       "4800    36\n",
       "5000    27\n",
       "5200    23\n",
       "5400    13\n",
       "6000     9\n",
       "5800     7\n",
       "5250     7\n",
       "4500     7\n",
       "4150     5\n",
       "4200     5\n",
       "4350     4\n",
       "4750     4\n",
       "5100     3\n",
       "5900     3\n",
       "4250     3\n",
       "4400     3\n",
       "6600     2\n",
       "4650     1\n",
       "5600     1\n",
       "5750     1\n",
       "4900     1\n",
       "5300     1\n",
       "Name: peak-rpm, dtype: int64"
      ]
     },
     "execution_count": 129,
     "metadata": {},
     "output_type": "execute_result"
    }
   ],
   "source": [
    "df['peak-rpm'].value_counts()"
   ]
  },
  {
   "cell_type": "code",
   "execution_count": 130,
   "id": "16739de2-94de-4444-a80f-e8fc7b454ee5",
   "metadata": {},
   "outputs": [
    {
     "data": {
      "text/plain": [
       "2"
      ]
     },
     "execution_count": 130,
     "metadata": {},
     "output_type": "execute_result"
    }
   ],
   "source": [
    "df['peak-rpm'].isna().sum()"
   ]
  },
  {
   "cell_type": "code",
   "execution_count": 131,
   "id": "a8292405-3238-42d5-8a3f-423f68308326",
   "metadata": {},
   "outputs": [],
   "source": [
    "df['peak-rpm'] = df['peak-rpm'].astype(float)"
   ]
  },
  {
   "cell_type": "code",
   "execution_count": 132,
   "id": "839f1fb6-feae-440f-afc8-09c9e132f36a",
   "metadata": {},
   "outputs": [
    {
     "data": {
      "text/plain": [
       "<AxesSubplot:xlabel='peak-rpm', ylabel='Density'>"
      ]
     },
     "execution_count": 132,
     "metadata": {},
     "output_type": "execute_result"
    },
    {
     "data": {
      "image/png": "[encoded data removed]",
      "text/plain": [
       "<Figure size 640x480 with 1 Axes>"
      ]
     },
     "metadata": {},
     "output_type": "display_data"
    }
   ],
   "source": [
    "sns.kdeplot(df['peak-rpm'])"
   ]
  },
  {
   "cell_type": "code",
   "execution_count": 133,
   "id": "b3810d38-989a-49aa-8c0c-0558c72ddbf7",
   "metadata": {},
   "outputs": [],
   "source": [
    "df['peak-rpm'].fillna(df['peak-rpm'].median(),inplace=True)"
   ]
  },
  {
   "cell_type": "code",
   "execution_count": 134,
   "id": "375a6097-7fa1-47f0-8d59-d4eb2be8d6f1",
   "metadata": {},
   "outputs": [
    {
     "data": {
      "text/plain": [
       "0"
      ]
     },
     "execution_count": 134,
     "metadata": {},
     "output_type": "execute_result"
    }
   ],
   "source": [
    "df['peak-rpm'].isna().sum()"
   ]
  },
  {
   "cell_type": "code",
   "execution_count": 135,
   "id": "4bb921d7-165e-40d2-b9ab-9e41c228e144",
   "metadata": {},
   "outputs": [
    {
     "data": {
      "text/plain": [
       "dtype('int32')"
      ]
     },
     "execution_count": 135,
     "metadata": {},
     "output_type": "execute_result"
    }
   ],
   "source": [
    "df['peak-rpm'] = df['peak-rpm'].astype(int)\n",
    "df['peak-rpm'].dtype"
   ]
  },
  {
   "cell_type": "code",
   "execution_count": 136,
   "id": "d495ca9f-b83b-46b2-a174-f889834298d0",
   "metadata": {},
   "outputs": [
    {
     "name": "stdout",
     "output_type": "stream",
     "text": [
      "<class 'pandas.core.frame.DataFrame'>\n",
      "RangeIndex: 205 entries, 0 to 204\n",
      "Data columns (total 66 columns):\n",
      " #   Column                  Non-Null Count  Dtype  \n",
      "---  ------                  --------------  -----  \n",
      " 0   symboling               205 non-null    int64  \n",
      " 1   normalized-losses       205 non-null    int32  \n",
      " 2   fuel-type               205 non-null    int64  \n",
      " 3   aspiration              205 non-null    int64  \n",
      " 4   num-of-doors            205 non-null    int32  \n",
      " 5   engine-location         205 non-null    int64  \n",
      " 6   wheel-base              205 non-null    float64\n",
      " 7   length                  205 non-null    float64\n",
      " 8   width                   205 non-null    float64\n",
      " 9   height                  205 non-null    float64\n",
      " 10  curb-weight             205 non-null    int64  \n",
      " 11  num-of-cylinders        205 non-null    int64  \n",
      " 12  engine-size             205 non-null    int64  \n",
      " 13  bore                    205 non-null    float64\n",
      " 14  stroke                  205 non-null    float64\n",
      " 15  compression-ratio       205 non-null    float64\n",
      " 16  horsepower              205 non-null    int32  \n",
      " 17  peak-rpm                205 non-null    int32  \n",
      " 18  city-mpg                205 non-null    int64  \n",
      " 19  highway-mpg             205 non-null    int64  \n",
      " 20  price                   201 non-null    object \n",
      " 21  make_alfa-romero        205 non-null    uint8  \n",
      " 22  make_audi               205 non-null    uint8  \n",
      " 23  make_bmw                205 non-null    uint8  \n",
      " 24  make_chevrolet          205 non-null    uint8  \n",
      " 25  make_dodge              205 non-null    uint8  \n",
      " 26  make_honda              205 non-null    uint8  \n",
      " 27  make_isuzu              205 non-null    uint8  \n",
      " 28  make_jaguar             205 non-null    uint8  \n",
      " 29  make_mazda              205 non-null    uint8  \n",
      " 30  make_mercedes-benz      205 non-null    uint8  \n",
      " 31  make_mercury            205 non-null    uint8  \n",
      " 32  make_mitsubishi         205 non-null    uint8  \n",
      " 33  make_nissan             205 non-null    uint8  \n",
      " 34  make_peugot             205 non-null    uint8  \n",
      " 35  make_plymouth           205 non-null    uint8  \n",
      " 36  make_porsche            205 non-null    uint8  \n",
      " 37  make_renault            205 non-null    uint8  \n",
      " 38  make_saab               205 non-null    uint8  \n",
      " 39  make_subaru             205 non-null    uint8  \n",
      " 40  make_toyota             205 non-null    uint8  \n",
      " 41  make_volkswagen         205 non-null    uint8  \n",
      " 42  make_volvo              205 non-null    uint8  \n",
      " 43  body-style_convertible  205 non-null    uint8  \n",
      " 44  body-style_hardtop      205 non-null    uint8  \n",
      " 45  body-style_hatchback    205 non-null    uint8  \n",
      " 46  body-style_sedan        205 non-null    uint8  \n",
      " 47  body-style_wagon        205 non-null    uint8  \n",
      " 48  drive-wheels_4wd        205 non-null    uint8  \n",
      " 49  drive-wheels_fwd        205 non-null    uint8  \n",
      " 50  drive-wheels_rwd        205 non-null    uint8  \n",
      " 51  engine-type_dohc        205 non-null    uint8  \n",
      " 52  engine-type_dohcv       205 non-null    uint8  \n",
      " 53  engine-type_l           205 non-null    uint8  \n",
      " 54  engine-type_ohc         205 non-null    uint8  \n",
      " 55  engine-type_ohcf        205 non-null    uint8  \n",
      " 56  engine-type_ohcv        205 non-null    uint8  \n",
      " 57  engine-type_rotor       205 non-null    uint8  \n",
      " 58  fuel-system_1bbl        205 non-null    uint8  \n",
      " 59  fuel-system_2bbl        205 non-null    uint8  \n",
      " 60  fuel-system_4bbl        205 non-null    uint8  \n",
      " 61  fuel-system_idi         205 non-null    uint8  \n",
      " 62  fuel-system_mfi         205 non-null    uint8  \n",
      " 63  fuel-system_mpfi        205 non-null    uint8  \n",
      " 64  fuel-system_spdi        205 non-null    uint8  \n",
      " 65  fuel-system_spfi        205 non-null    uint8  \n",
      "dtypes: float64(7), int32(4), int64(9), object(1), uint8(45)\n",
      "memory usage: 39.6+ KB\n"
     ]
    }
   ],
   "source": [
    "df.info()"
   ]
  },
  {
   "cell_type": "markdown",
   "id": "0adf9c2d-7d50-40d4-950d-fdb9215375b4",
   "metadata": {},
   "source": [
    "# 3.18 price"
   ]
  },
  {
   "cell_type": "code",
   "execution_count": 137,
   "id": "54248e15-8b39-4af3-8233-f9124b0c27da",
   "metadata": {},
   "outputs": [
    {
     "data": {
      "text/plain": [
       "dtype('O')"
      ]
     },
     "execution_count": 137,
     "metadata": {},
     "output_type": "execute_result"
    }
   ],
   "source": [
    "df['price'].dtype"
   ]
  },
  {
   "cell_type": "code",
   "execution_count": 138,
   "id": "bcf2a734-41fc-41c9-bb78-92c2cc5febd2",
   "metadata": {},
   "outputs": [
    {
     "data": {
      "text/plain": [
       "8921     2\n",
       "18150    2\n",
       "8845     2\n",
       "8495     2\n",
       "7609     2\n",
       "        ..\n",
       "45400    1\n",
       "16503    1\n",
       "5389     1\n",
       "6189     1\n",
       "22625    1\n",
       "Name: price, Length: 186, dtype: int64"
      ]
     },
     "execution_count": 138,
     "metadata": {},
     "output_type": "execute_result"
    }
   ],
   "source": [
    "df['price'].value_counts()"
   ]
  },
  {
   "cell_type": "code",
   "execution_count": 139,
   "id": "0554bf81-19c7-4529-a076-2d502d21fa00",
   "metadata": {},
   "outputs": [],
   "source": [
    "df['price'].fillna(df['price'].median(),inplace=True)"
   ]
  },
  {
   "cell_type": "code",
   "execution_count": 140,
   "id": "4eccb4db-2a09-4f83-b9c2-3bd74392b04f",
   "metadata": {},
   "outputs": [],
   "source": [
    "df['price']=df['price'].astype(int)"
   ]
  },
  {
   "cell_type": "code",
   "execution_count": 141,
   "id": "0d77fac8-3b18-42a9-a33e-41eb912a67f2",
   "metadata": {},
   "outputs": [
    {
     "data": {
      "text/plain": [
       "dtype('int32')"
      ]
     },
     "execution_count": 141,
     "metadata": {},
     "output_type": "execute_result"
    }
   ],
   "source": [
    "df['price'].dtype"
   ]
  },
  {
   "cell_type": "code",
   "execution_count": 142,
   "id": "14d26244-fcfd-4ffb-9d33-c604e899b338",
   "metadata": {},
   "outputs": [
    {
     "name": "stdout",
     "output_type": "stream",
     "text": [
      "<class 'pandas.core.frame.DataFrame'>\n",
      "RangeIndex: 205 entries, 0 to 204\n",
      "Data columns (total 66 columns):\n",
      " #   Column                  Non-Null Count  Dtype  \n",
      "---  ------                  --------------  -----  \n",
      " 0   symboling               205 non-null    int64  \n",
      " 1   normalized-losses       205 non-null    int32  \n",
      " 2   fuel-type               205 non-null    int64  \n",
      " 3   aspiration              205 non-null    int64  \n",
      " 4   num-of-doors            205 non-null    int32  \n",
      " 5   engine-location         205 non-null    int64  \n",
      " 6   wheel-base              205 non-null    float64\n",
      " 7   length                  205 non-null    float64\n",
      " 8   width                   205 non-null    float64\n",
      " 9   height                  205 non-null    float64\n",
      " 10  curb-weight             205 non-null    int64  \n",
      " 11  num-of-cylinders        205 non-null    int64  \n",
      " 12  engine-size             205 non-null    int64  \n",
      " 13  bore                    205 non-null    float64\n",
      " 14  stroke                  205 non-null    float64\n",
      " 15  compression-ratio       205 non-null    float64\n",
      " 16  horsepower              205 non-null    int32  \n",
      " 17  peak-rpm                205 non-null    int32  \n",
      " 18  city-mpg                205 non-null    int64  \n",
      " 19  highway-mpg             205 non-null    int64  \n",
      " 20  price                   205 non-null    int32  \n",
      " 21  make_alfa-romero        205 non-null    uint8  \n",
      " 22  make_audi               205 non-null    uint8  \n",
      " 23  make_bmw                205 non-null    uint8  \n",
      " 24  make_chevrolet          205 non-null    uint8  \n",
      " 25  make_dodge              205 non-null    uint8  \n",
      " 26  make_honda              205 non-null    uint8  \n",
      " 27  make_isuzu              205 non-null    uint8  \n",
      " 28  make_jaguar             205 non-null    uint8  \n",
      " 29  make_mazda              205 non-null    uint8  \n",
      " 30  make_mercedes-benz      205 non-null    uint8  \n",
      " 31  make_mercury            205 non-null    uint8  \n",
      " 32  make_mitsubishi         205 non-null    uint8  \n",
      " 33  make_nissan             205 non-null    uint8  \n",
      " 34  make_peugot             205 non-null    uint8  \n",
      " 35  make_plymouth           205 non-null    uint8  \n",
      " 36  make_porsche            205 non-null    uint8  \n",
      " 37  make_renault            205 non-null    uint8  \n",
      " 38  make_saab               205 non-null    uint8  \n",
      " 39  make_subaru             205 non-null    uint8  \n",
      " 40  make_toyota             205 non-null    uint8  \n",
      " 41  make_volkswagen         205 non-null    uint8  \n",
      " 42  make_volvo              205 non-null    uint8  \n",
      " 43  body-style_convertible  205 non-null    uint8  \n",
      " 44  body-style_hardtop      205 non-null    uint8  \n",
      " 45  body-style_hatchback    205 non-null    uint8  \n",
      " 46  body-style_sedan        205 non-null    uint8  \n",
      " 47  body-style_wagon        205 non-null    uint8  \n",
      " 48  drive-wheels_4wd        205 non-null    uint8  \n",
      " 49  drive-wheels_fwd        205 non-null    uint8  \n",
      " 50  drive-wheels_rwd        205 non-null    uint8  \n",
      " 51  engine-type_dohc        205 non-null    uint8  \n",
      " 52  engine-type_dohcv       205 non-null    uint8  \n",
      " 53  engine-type_l           205 non-null    uint8  \n",
      " 54  engine-type_ohc         205 non-null    uint8  \n",
      " 55  engine-type_ohcf        205 non-null    uint8  \n",
      " 56  engine-type_ohcv        205 non-null    uint8  \n",
      " 57  engine-type_rotor       205 non-null    uint8  \n",
      " 58  fuel-system_1bbl        205 non-null    uint8  \n",
      " 59  fuel-system_2bbl        205 non-null    uint8  \n",
      " 60  fuel-system_4bbl        205 non-null    uint8  \n",
      " 61  fuel-system_idi         205 non-null    uint8  \n",
      " 62  fuel-system_mfi         205 non-null    uint8  \n",
      " 63  fuel-system_mpfi        205 non-null    uint8  \n",
      " 64  fuel-system_spdi        205 non-null    uint8  \n",
      " 65  fuel-system_spfi        205 non-null    uint8  \n",
      "dtypes: float64(7), int32(5), int64(9), uint8(45)\n",
      "memory usage: 38.8 KB\n"
     ]
    }
   ],
   "source": [
    "df.info()"
   ]
  },
  {
   "cell_type": "markdown",
   "id": "47a19971-3044-4257-b422-2b85f8e3f3ab",
   "metadata": {},
   "source": [
    "# Assumptions"
   ]
  },
  {
   "cell_type": "markdown",
   "id": "048009e7-a64b-4a10-a4b1-adc61985d251",
   "metadata": {},
   "source": [
    "             1 . linearity\n",
    "            2. independence\n",
    "            3. no multicolinearity\n"
   ]
  },
  {
   "cell_type": "code",
   "execution_count": 143,
   "id": "ff973361-5123-4950-bf8d-05d0190a4cc9",
   "metadata": {},
   "outputs": [
    {
     "data": {
      "text/html": [
       "<div>\n",
       "<style scoped>\n",
       "    .dataframe tbody tr th:only-of-type {\n",
       "        vertical-align: middle;\n",
       "    }\n",
       "\n",
       "    .dataframe tbody tr th {\n",
       "        vertical-align: top;\n",
       "    }\n",
       "\n",
       "    .dataframe thead th {\n",
       "        text-align: right;\n",
       "    }\n",
       "</style>\n",
       "<table border=\"1\" class=\"dataframe\">\n",
       "  <thead>\n",
       "    <tr style=\"text-align: right;\">\n",
       "      <th></th>\n",
       "      <th>symboling</th>\n",
       "      <th>normalized-losses</th>\n",
       "      <th>fuel-type</th>\n",
       "      <th>aspiration</th>\n",
       "      <th>num-of-doors</th>\n",
       "      <th>engine-location</th>\n",
       "      <th>wheel-base</th>\n",
       "      <th>length</th>\n",
       "      <th>width</th>\n",
       "      <th>height</th>\n",
       "      <th>...</th>\n",
       "      <th>engine-type_ohcv</th>\n",
       "      <th>engine-type_rotor</th>\n",
       "      <th>fuel-system_1bbl</th>\n",
       "      <th>fuel-system_2bbl</th>\n",
       "      <th>fuel-system_4bbl</th>\n",
       "      <th>fuel-system_idi</th>\n",
       "      <th>fuel-system_mfi</th>\n",
       "      <th>fuel-system_mpfi</th>\n",
       "      <th>fuel-system_spdi</th>\n",
       "      <th>fuel-system_spfi</th>\n",
       "    </tr>\n",
       "  </thead>\n",
       "  <tbody>\n",
       "    <tr>\n",
       "      <th>symboling</th>\n",
       "      <td>1.000000</td>\n",
       "      <td>0.457484</td>\n",
       "      <td>0.194311</td>\n",
       "      <td>-0.059866</td>\n",
       "      <td>-0.663595</td>\n",
       "      <td>0.212471</td>\n",
       "      <td>-0.531954</td>\n",
       "      <td>-0.357612</td>\n",
       "      <td>-0.232919</td>\n",
       "      <td>-0.541038</td>\n",
       "      <td>...</td>\n",
       "      <td>-0.013597</td>\n",
       "      <td>0.245950</td>\n",
       "      <td>-0.037911</td>\n",
       "      <td>-0.034069</td>\n",
       "      <td>0.212471</td>\n",
       "      <td>-0.194311</td>\n",
       "      <td>0.122067</td>\n",
       "      <td>0.012532</td>\n",
       "      <td>0.181939</td>\n",
       "      <td>0.065707</td>\n",
       "    </tr>\n",
       "    <tr>\n",
       "      <th>normalized-losses</th>\n",
       "      <td>0.457484</td>\n",
       "      <td>1.000000</td>\n",
       "      <td>0.104668</td>\n",
       "      <td>-0.011273</td>\n",
       "      <td>-0.348850</td>\n",
       "      <td>-0.021510</td>\n",
       "      <td>-0.073709</td>\n",
       "      <td>-0.006837</td>\n",
       "      <td>0.058378</td>\n",
       "      <td>-0.365674</td>\n",
       "      <td>...</td>\n",
       "      <td>0.130717</td>\n",
       "      <td>0.130721</td>\n",
       "      <td>-0.122539</td>\n",
       "      <td>-0.123927</td>\n",
       "      <td>0.112927</td>\n",
       "      <td>-0.104668</td>\n",
       "      <td>0.053844</td>\n",
       "      <td>0.179458</td>\n",
       "      <td>0.052231</td>\n",
       "      <td>-0.012358</td>\n",
       "    </tr>\n",
       "    <tr>\n",
       "      <th>fuel-type</th>\n",
       "      <td>0.194311</td>\n",
       "      <td>0.104668</td>\n",
       "      <td>1.000000</td>\n",
       "      <td>-0.401397</td>\n",
       "      <td>-0.188496</td>\n",
       "      <td>0.040070</td>\n",
       "      <td>-0.308346</td>\n",
       "      <td>-0.212679</td>\n",
       "      <td>-0.233880</td>\n",
       "      <td>-0.284631</td>\n",
       "      <td>...</td>\n",
       "      <td>0.085556</td>\n",
       "      <td>0.046383</td>\n",
       "      <td>0.078293</td>\n",
       "      <td>0.226565</td>\n",
       "      <td>0.040070</td>\n",
       "      <td>-1.000000</td>\n",
       "      <td>0.023020</td>\n",
       "      <td>0.302574</td>\n",
       "      <td>0.070457</td>\n",
       "      <td>0.023020</td>\n",
       "    </tr>\n",
       "    <tr>\n",
       "      <th>aspiration</th>\n",
       "      <td>-0.059866</td>\n",
       "      <td>-0.011273</td>\n",
       "      <td>-0.401397</td>\n",
       "      <td>1.000000</td>\n",
       "      <td>0.052803</td>\n",
       "      <td>-0.057191</td>\n",
       "      <td>0.257611</td>\n",
       "      <td>0.234539</td>\n",
       "      <td>0.300567</td>\n",
       "      <td>0.087311</td>\n",
       "      <td>...</td>\n",
       "      <td>-0.070070</td>\n",
       "      <td>-0.066203</td>\n",
       "      <td>-0.111748</td>\n",
       "      <td>-0.323378</td>\n",
       "      <td>-0.057191</td>\n",
       "      <td>0.401397</td>\n",
       "      <td>0.149190</td>\n",
       "      <td>-0.050041</td>\n",
       "      <td>0.394703</td>\n",
       "      <td>-0.032857</td>\n",
       "    </tr>\n",
       "    <tr>\n",
       "      <th>num-of-doors</th>\n",
       "      <td>-0.663595</td>\n",
       "      <td>-0.348850</td>\n",
       "      <td>-0.188496</td>\n",
       "      <td>0.052803</td>\n",
       "      <td>1.000000</td>\n",
       "      <td>-0.139129</td>\n",
       "      <td>0.439635</td>\n",
       "      <td>0.385675</td>\n",
       "      <td>0.197735</td>\n",
       "      <td>0.540286</td>\n",
       "      <td>...</td>\n",
       "      <td>-0.054764</td>\n",
       "      <td>-0.161052</td>\n",
       "      <td>-0.097150</td>\n",
       "      <td>0.013769</td>\n",
       "      <td>-0.139129</td>\n",
       "      <td>0.188496</td>\n",
       "      <td>-0.079932</td>\n",
       "      <td>0.035746</td>\n",
       "      <td>-0.148565</td>\n",
       "      <td>-0.079932</td>\n",
       "    </tr>\n",
       "    <tr>\n",
       "      <th>...</th>\n",
       "      <td>...</td>\n",
       "      <td>...</td>\n",
       "      <td>...</td>\n",
       "      <td>...</td>\n",
       "      <td>...</td>\n",
       "      <td>...</td>\n",
       "      <td>...</td>\n",
       "      <td>...</td>\n",
       "      <td>...</td>\n",
       "      <td>...</td>\n",
       "      <td>...</td>\n",
       "      <td>...</td>\n",
       "      <td>...</td>\n",
       "      <td>...</td>\n",
       "      <td>...</td>\n",
       "      <td>...</td>\n",
       "      <td>...</td>\n",
       "      <td>...</td>\n",
       "      <td>...</td>\n",
       "      <td>...</td>\n",
       "      <td>...</td>\n",
       "    </tr>\n",
       "    <tr>\n",
       "      <th>fuel-system_idi</th>\n",
       "      <td>-0.194311</td>\n",
       "      <td>-0.104668</td>\n",
       "      <td>-1.000000</td>\n",
       "      <td>0.401397</td>\n",
       "      <td>0.188496</td>\n",
       "      <td>-0.040070</td>\n",
       "      <td>0.308346</td>\n",
       "      <td>0.212679</td>\n",
       "      <td>0.233880</td>\n",
       "      <td>0.284631</td>\n",
       "      <td>...</td>\n",
       "      <td>-0.085556</td>\n",
       "      <td>-0.046383</td>\n",
       "      <td>-0.078293</td>\n",
       "      <td>-0.226565</td>\n",
       "      <td>-0.040070</td>\n",
       "      <td>1.000000</td>\n",
       "      <td>-0.023020</td>\n",
       "      <td>-0.302574</td>\n",
       "      <td>-0.070457</td>\n",
       "      <td>-0.023020</td>\n",
       "    </tr>\n",
       "    <tr>\n",
       "      <th>fuel-system_mfi</th>\n",
       "      <td>0.122067</td>\n",
       "      <td>0.053844</td>\n",
       "      <td>0.023020</td>\n",
       "      <td>0.149190</td>\n",
       "      <td>-0.079932</td>\n",
       "      <td>-0.008532</td>\n",
       "      <td>-0.033294</td>\n",
       "      <td>-0.004831</td>\n",
       "      <td>0.012832</td>\n",
       "      <td>-0.101245</td>\n",
       "      <td>...</td>\n",
       "      <td>-0.018218</td>\n",
       "      <td>-0.009877</td>\n",
       "      <td>-0.016672</td>\n",
       "      <td>-0.048245</td>\n",
       "      <td>-0.008532</td>\n",
       "      <td>-0.023020</td>\n",
       "      <td>1.000000</td>\n",
       "      <td>-0.064430</td>\n",
       "      <td>-0.015003</td>\n",
       "      <td>-0.004902</td>\n",
       "    </tr>\n",
       "    <tr>\n",
       "      <th>fuel-system_mpfi</th>\n",
       "      <td>0.012532</td>\n",
       "      <td>0.179458</td>\n",
       "      <td>0.302574</td>\n",
       "      <td>-0.050041</td>\n",
       "      <td>0.035746</td>\n",
       "      <td>0.132429</td>\n",
       "      <td>0.348891</td>\n",
       "      <td>0.511374</td>\n",
       "      <td>0.461896</td>\n",
       "      <td>0.108685</td>\n",
       "      <td>...</td>\n",
       "      <td>0.282760</td>\n",
       "      <td>-0.059039</td>\n",
       "      <td>-0.219128</td>\n",
       "      <td>-0.634114</td>\n",
       "      <td>-0.112147</td>\n",
       "      <td>-0.302574</td>\n",
       "      <td>-0.064430</td>\n",
       "      <td>1.000000</td>\n",
       "      <td>-0.197195</td>\n",
       "      <td>-0.064430</td>\n",
       "    </tr>\n",
       "    <tr>\n",
       "      <th>fuel-system_spdi</th>\n",
       "      <td>0.181939</td>\n",
       "      <td>0.052231</td>\n",
       "      <td>0.070457</td>\n",
       "      <td>0.394703</td>\n",
       "      <td>-0.148565</td>\n",
       "      <td>-0.026114</td>\n",
       "      <td>-0.117359</td>\n",
       "      <td>-0.079790</td>\n",
       "      <td>-0.046399</td>\n",
       "      <td>-0.278615</td>\n",
       "      <td>...</td>\n",
       "      <td>-0.055759</td>\n",
       "      <td>-0.030229</td>\n",
       "      <td>-0.051026</td>\n",
       "      <td>-0.147658</td>\n",
       "      <td>-0.026114</td>\n",
       "      <td>-0.070457</td>\n",
       "      <td>-0.015003</td>\n",
       "      <td>-0.197195</td>\n",
       "      <td>1.000000</td>\n",
       "      <td>-0.015003</td>\n",
       "    </tr>\n",
       "    <tr>\n",
       "      <th>fuel-system_spfi</th>\n",
       "      <td>0.065707</td>\n",
       "      <td>-0.012358</td>\n",
       "      <td>0.023020</td>\n",
       "      <td>-0.032857</td>\n",
       "      <td>-0.079932</td>\n",
       "      <td>-0.008532</td>\n",
       "      <td>-0.032129</td>\n",
       "      <td>-0.008245</td>\n",
       "      <td>-0.023158</td>\n",
       "      <td>-0.066778</td>\n",
       "      <td>...</td>\n",
       "      <td>-0.018218</td>\n",
       "      <td>-0.009877</td>\n",
       "      <td>-0.016672</td>\n",
       "      <td>-0.048245</td>\n",
       "      <td>-0.008532</td>\n",
       "      <td>-0.023020</td>\n",
       "      <td>-0.004902</td>\n",
       "      <td>-0.064430</td>\n",
       "      <td>-0.015003</td>\n",
       "      <td>1.000000</td>\n",
       "    </tr>\n",
       "  </tbody>\n",
       "</table>\n",
       "<p>66 rows × 66 columns</p>\n",
       "</div>"
      ],
      "text/plain": [
       "                   symboling  normalized-losses  fuel-type  aspiration  \\\n",
       "symboling           1.000000           0.457484   0.194311   -0.059866   \n",
       "normalized-losses   0.457484           1.000000   0.104668   -0.011273   \n",
       "fuel-type           0.194311           0.104668   1.000000   -0.401397   \n",
       "aspiration         -0.059866          -0.011273  -0.401397    1.000000   \n",
       "num-of-doors       -0.663595          -0.348850  -0.188496    0.052803   \n",
       "...                      ...                ...        ...         ...   \n",
       "fuel-system_idi    -0.194311          -0.104668  -1.000000    0.401397   \n",
       "fuel-system_mfi     0.122067           0.053844   0.023020    0.149190   \n",
       "fuel-system_mpfi    0.012532           0.179458   0.302574   -0.050041   \n",
       "fuel-system_spdi    0.181939           0.052231   0.070457    0.394703   \n",
       "fuel-system_spfi    0.065707          -0.012358   0.023020   -0.032857   \n",
       "\n",
       "                   num-of-doors  engine-location  wheel-base    length  \\\n",
       "symboling             -0.663595         0.212471   -0.531954 -0.357612   \n",
       "normalized-losses     -0.348850        -0.021510   -0.073709 -0.006837   \n",
       "fuel-type             -0.188496         0.040070   -0.308346 -0.212679   \n",
       "aspiration             0.052803        -0.057191    0.257611  0.234539   \n",
       "num-of-doors           1.000000        -0.139129    0.439635  0.385675   \n",
       "...                         ...              ...         ...       ...   \n",
       "fuel-system_idi        0.188496        -0.040070    0.308346  0.212679   \n",
       "fuel-system_mfi       -0.079932        -0.008532   -0.033294 -0.004831   \n",
       "fuel-system_mpfi       0.035746         0.132429    0.348891  0.511374   \n",
       "fuel-system_spdi      -0.148565        -0.026114   -0.117359 -0.079790   \n",
       "fuel-system_spfi      -0.079932        -0.008532   -0.032129 -0.008245   \n",
       "\n",
       "                      width    height  ...  engine-type_ohcv  \\\n",
       "symboling         -0.232919 -0.541038  ...         -0.013597   \n",
       "normalized-losses  0.058378 -0.365674  ...          0.130717   \n",
       "fuel-type         -0.233880 -0.284631  ...          0.085556   \n",
       "aspiration         0.300567  0.087311  ...         -0.070070   \n",
       "num-of-doors       0.197735  0.540286  ...         -0.054764   \n",
       "...                     ...       ...  ...               ...   \n",
       "fuel-system_idi    0.233880  0.284631  ...         -0.085556   \n",
       "fuel-system_mfi    0.012832 -0.101245  ...         -0.018218   \n",
       "fuel-system_mpfi   0.461896  0.108685  ...          0.282760   \n",
       "fuel-system_spdi  -0.046399 -0.278615  ...         -0.055759   \n",
       "fuel-system_spfi  -0.023158 -0.066778  ...         -0.018218   \n",
       "\n",
       "                   engine-type_rotor  fuel-system_1bbl  fuel-system_2bbl  \\\n",
       "symboling                   0.245950         -0.037911         -0.034069   \n",
       "normalized-losses           0.130721         -0.122539         -0.123927   \n",
       "fuel-type                   0.046383          0.078293          0.226565   \n",
       "aspiration                 -0.066203         -0.111748         -0.323378   \n",
       "num-of-doors               -0.161052         -0.097150          0.013769   \n",
       "...                              ...               ...               ...   \n",
       "fuel-system_idi            -0.046383         -0.078293         -0.226565   \n",
       "fuel-system_mfi            -0.009877         -0.016672         -0.048245   \n",
       "fuel-system_mpfi           -0.059039         -0.219128         -0.634114   \n",
       "fuel-system_spdi           -0.030229         -0.051026         -0.147658   \n",
       "fuel-system_spfi           -0.009877         -0.016672         -0.048245   \n",
       "\n",
       "                   fuel-system_4bbl  fuel-system_idi  fuel-system_mfi  \\\n",
       "symboling                  0.212471        -0.194311         0.122067   \n",
       "normalized-losses          0.112927        -0.104668         0.053844   \n",
       "fuel-type                  0.040070        -1.000000         0.023020   \n",
       "aspiration                -0.057191         0.401397         0.149190   \n",
       "num-of-doors              -0.139129         0.188496        -0.079932   \n",
       "...                             ...              ...              ...   \n",
       "fuel-system_idi           -0.040070         1.000000        -0.023020   \n",
       "fuel-system_mfi           -0.008532        -0.023020         1.000000   \n",
       "fuel-system_mpfi          -0.112147        -0.302574        -0.064430   \n",
       "fuel-system_spdi          -0.026114        -0.070457        -0.015003   \n",
       "fuel-system_spfi          -0.008532        -0.023020        -0.004902   \n",
       "\n",
       "                   fuel-system_mpfi  fuel-system_spdi  fuel-system_spfi  \n",
       "symboling                  0.012532          0.181939          0.065707  \n",
       "normalized-losses          0.179458          0.052231         -0.012358  \n",
       "fuel-type                  0.302574          0.070457          0.023020  \n",
       "aspiration                -0.050041          0.394703         -0.032857  \n",
       "num-of-doors               0.035746         -0.148565         -0.079932  \n",
       "...                             ...               ...               ...  \n",
       "fuel-system_idi           -0.302574         -0.070457         -0.023020  \n",
       "fuel-system_mfi           -0.064430         -0.015003         -0.004902  \n",
       "fuel-system_mpfi           1.000000         -0.197195         -0.064430  \n",
       "fuel-system_spdi          -0.197195          1.000000         -0.015003  \n",
       "fuel-system_spfi          -0.064430         -0.015003          1.000000  \n",
       "\n",
       "[66 rows x 66 columns]"
      ]
     },
     "execution_count": 143,
     "metadata": {},
     "output_type": "execute_result"
    }
   ],
   "source": [
    "df.corr()"
   ]
  },
  {
   "cell_type": "code",
   "execution_count": 144,
   "id": "ddde3508-e46c-43d5-abde-6789519bca32",
   "metadata": {},
   "outputs": [
    {
     "data": {
      "text/html": [
       "<div>\n",
       "<style scoped>\n",
       "    .dataframe tbody tr th:only-of-type {\n",
       "        vertical-align: middle;\n",
       "    }\n",
       "\n",
       "    .dataframe tbody tr th {\n",
       "        vertical-align: top;\n",
       "    }\n",
       "\n",
       "    .dataframe thead th {\n",
       "        text-align: right;\n",
       "    }\n",
       "</style>\n",
       "<table border=\"1\" class=\"dataframe\">\n",
       "  <thead>\n",
       "    <tr style=\"text-align: right;\">\n",
       "      <th></th>\n",
       "      <th>symboling</th>\n",
       "      <th>normalized-losses</th>\n",
       "      <th>fuel-type</th>\n",
       "      <th>aspiration</th>\n",
       "      <th>num-of-doors</th>\n",
       "      <th>engine-location</th>\n",
       "      <th>wheel-base</th>\n",
       "      <th>length</th>\n",
       "      <th>width</th>\n",
       "      <th>height</th>\n",
       "    </tr>\n",
       "  </thead>\n",
       "  <tbody>\n",
       "    <tr>\n",
       "      <th>symboling</th>\n",
       "      <td>1.000000</td>\n",
       "      <td>0.457484</td>\n",
       "      <td>0.194311</td>\n",
       "      <td>-0.059866</td>\n",
       "      <td>-0.663595</td>\n",
       "      <td>0.212471</td>\n",
       "      <td>-0.531954</td>\n",
       "      <td>-0.357612</td>\n",
       "      <td>-0.232919</td>\n",
       "      <td>-0.541038</td>\n",
       "    </tr>\n",
       "    <tr>\n",
       "      <th>normalized-losses</th>\n",
       "      <td>0.457484</td>\n",
       "      <td>1.000000</td>\n",
       "      <td>0.104668</td>\n",
       "      <td>-0.011273</td>\n",
       "      <td>-0.348850</td>\n",
       "      <td>-0.021510</td>\n",
       "      <td>-0.073709</td>\n",
       "      <td>-0.006837</td>\n",
       "      <td>0.058378</td>\n",
       "      <td>-0.365674</td>\n",
       "    </tr>\n",
       "    <tr>\n",
       "      <th>fuel-type</th>\n",
       "      <td>0.194311</td>\n",
       "      <td>0.104668</td>\n",
       "      <td>1.000000</td>\n",
       "      <td>-0.401397</td>\n",
       "      <td>-0.188496</td>\n",
       "      <td>0.040070</td>\n",
       "      <td>-0.308346</td>\n",
       "      <td>-0.212679</td>\n",
       "      <td>-0.233880</td>\n",
       "      <td>-0.284631</td>\n",
       "    </tr>\n",
       "    <tr>\n",
       "      <th>aspiration</th>\n",
       "      <td>-0.059866</td>\n",
       "      <td>-0.011273</td>\n",
       "      <td>-0.401397</td>\n",
       "      <td>1.000000</td>\n",
       "      <td>0.052803</td>\n",
       "      <td>-0.057191</td>\n",
       "      <td>0.257611</td>\n",
       "      <td>0.234539</td>\n",
       "      <td>0.300567</td>\n",
       "      <td>0.087311</td>\n",
       "    </tr>\n",
       "    <tr>\n",
       "      <th>num-of-doors</th>\n",
       "      <td>-0.663595</td>\n",
       "      <td>-0.348850</td>\n",
       "      <td>-0.188496</td>\n",
       "      <td>0.052803</td>\n",
       "      <td>1.000000</td>\n",
       "      <td>-0.139129</td>\n",
       "      <td>0.439635</td>\n",
       "      <td>0.385675</td>\n",
       "      <td>0.197735</td>\n",
       "      <td>0.540286</td>\n",
       "    </tr>\n",
       "    <tr>\n",
       "      <th>engine-location</th>\n",
       "      <td>0.212471</td>\n",
       "      <td>-0.021510</td>\n",
       "      <td>0.040070</td>\n",
       "      <td>-0.057191</td>\n",
       "      <td>-0.139129</td>\n",
       "      <td>1.000000</td>\n",
       "      <td>-0.187790</td>\n",
       "      <td>-0.050989</td>\n",
       "      <td>-0.051698</td>\n",
       "      <td>-0.106234</td>\n",
       "    </tr>\n",
       "    <tr>\n",
       "      <th>wheel-base</th>\n",
       "      <td>-0.531954</td>\n",
       "      <td>-0.073709</td>\n",
       "      <td>-0.308346</td>\n",
       "      <td>0.257611</td>\n",
       "      <td>0.439635</td>\n",
       "      <td>-0.187790</td>\n",
       "      <td>1.000000</td>\n",
       "      <td>0.874587</td>\n",
       "      <td>0.795144</td>\n",
       "      <td>0.589435</td>\n",
       "    </tr>\n",
       "    <tr>\n",
       "      <th>length</th>\n",
       "      <td>-0.357612</td>\n",
       "      <td>-0.006837</td>\n",
       "      <td>-0.212679</td>\n",
       "      <td>0.234539</td>\n",
       "      <td>0.385675</td>\n",
       "      <td>-0.050989</td>\n",
       "      <td>0.874587</td>\n",
       "      <td>1.000000</td>\n",
       "      <td>0.841118</td>\n",
       "      <td>0.491029</td>\n",
       "    </tr>\n",
       "    <tr>\n",
       "      <th>width</th>\n",
       "      <td>-0.232919</td>\n",
       "      <td>0.058378</td>\n",
       "      <td>-0.233880</td>\n",
       "      <td>0.300567</td>\n",
       "      <td>0.197735</td>\n",
       "      <td>-0.051698</td>\n",
       "      <td>0.795144</td>\n",
       "      <td>0.841118</td>\n",
       "      <td>1.000000</td>\n",
       "      <td>0.279210</td>\n",
       "    </tr>\n",
       "    <tr>\n",
       "      <th>height</th>\n",
       "      <td>-0.541038</td>\n",
       "      <td>-0.365674</td>\n",
       "      <td>-0.284631</td>\n",
       "      <td>0.087311</td>\n",
       "      <td>0.540286</td>\n",
       "      <td>-0.106234</td>\n",
       "      <td>0.589435</td>\n",
       "      <td>0.491029</td>\n",
       "      <td>0.279210</td>\n",
       "      <td>1.000000</td>\n",
       "    </tr>\n",
       "  </tbody>\n",
       "</table>\n",
       "</div>"
      ],
      "text/plain": [
       "                   symboling  normalized-losses  fuel-type  aspiration  \\\n",
       "symboling           1.000000           0.457484   0.194311   -0.059866   \n",
       "normalized-losses   0.457484           1.000000   0.104668   -0.011273   \n",
       "fuel-type           0.194311           0.104668   1.000000   -0.401397   \n",
       "aspiration         -0.059866          -0.011273  -0.401397    1.000000   \n",
       "num-of-doors       -0.663595          -0.348850  -0.188496    0.052803   \n",
       "engine-location     0.212471          -0.021510   0.040070   -0.057191   \n",
       "wheel-base         -0.531954          -0.073709  -0.308346    0.257611   \n",
       "length             -0.357612          -0.006837  -0.212679    0.234539   \n",
       "width              -0.232919           0.058378  -0.233880    0.300567   \n",
       "height             -0.541038          -0.365674  -0.284631    0.087311   \n",
       "\n",
       "                   num-of-doors  engine-location  wheel-base    length  \\\n",
       "symboling             -0.663595         0.212471   -0.531954 -0.357612   \n",
       "normalized-losses     -0.348850        -0.021510   -0.073709 -0.006837   \n",
       "fuel-type             -0.188496         0.040070   -0.308346 -0.212679   \n",
       "aspiration             0.052803        -0.057191    0.257611  0.234539   \n",
       "num-of-doors           1.000000        -0.139129    0.439635  0.385675   \n",
       "engine-location       -0.139129         1.000000   -0.187790 -0.050989   \n",
       "wheel-base             0.439635        -0.187790    1.000000  0.874587   \n",
       "length                 0.385675        -0.050989    0.874587  1.000000   \n",
       "width                  0.197735        -0.051698    0.795144  0.841118   \n",
       "height                 0.540286        -0.106234    0.589435  0.491029   \n",
       "\n",
       "                      width    height  \n",
       "symboling         -0.232919 -0.541038  \n",
       "normalized-losses  0.058378 -0.365674  \n",
       "fuel-type         -0.233880 -0.284631  \n",
       "aspiration         0.300567  0.087311  \n",
       "num-of-doors       0.197735  0.540286  \n",
       "engine-location   -0.051698 -0.106234  \n",
       "wheel-base         0.795144  0.589435  \n",
       "length             0.841118  0.491029  \n",
       "width              1.000000  0.279210  \n",
       "height             0.279210  1.000000  "
      ]
     },
     "execution_count": 144,
     "metadata": {},
     "output_type": "execute_result"
    }
   ],
   "source": [
    "df.iloc[:,:10].corr()"
   ]
  },
  {
   "cell_type": "code",
   "execution_count": 145,
   "id": "961bc029-ee92-4f21-acf1-111025f96902",
   "metadata": {},
   "outputs": [
    {
     "name": "stdout",
     "output_type": "stream",
     "text": [
      "<class 'pandas.core.frame.DataFrame'>\n",
      "RangeIndex: 205 entries, 0 to 204\n",
      "Data columns (total 66 columns):\n",
      " #   Column                  Non-Null Count  Dtype  \n",
      "---  ------                  --------------  -----  \n",
      " 0   symboling               205 non-null    int64  \n",
      " 1   normalized-losses       205 non-null    int32  \n",
      " 2   fuel-type               205 non-null    int64  \n",
      " 3   aspiration              205 non-null    int64  \n",
      " 4   num-of-doors            205 non-null    int32  \n",
      " 5   engine-location         205 non-null    int64  \n",
      " 6   wheel-base              205 non-null    float64\n",
      " 7   length                  205 non-null    float64\n",
      " 8   width                   205 non-null    float64\n",
      " 9   height                  205 non-null    float64\n",
      " 10  curb-weight             205 non-null    int64  \n",
      " 11  num-of-cylinders        205 non-null    int64  \n",
      " 12  engine-size             205 non-null    int64  \n",
      " 13  bore                    205 non-null    float64\n",
      " 14  stroke                  205 non-null    float64\n",
      " 15  compression-ratio       205 non-null    float64\n",
      " 16  horsepower              205 non-null    int32  \n",
      " 17  peak-rpm                205 non-null    int32  \n",
      " 18  city-mpg                205 non-null    int64  \n",
      " 19  highway-mpg             205 non-null    int64  \n",
      " 20  price                   205 non-null    int32  \n",
      " 21  make_alfa-romero        205 non-null    uint8  \n",
      " 22  make_audi               205 non-null    uint8  \n",
      " 23  make_bmw                205 non-null    uint8  \n",
      " 24  make_chevrolet          205 non-null    uint8  \n",
      " 25  make_dodge              205 non-null    uint8  \n",
      " 26  make_honda              205 non-null    uint8  \n",
      " 27  make_isuzu              205 non-null    uint8  \n",
      " 28  make_jaguar             205 non-null    uint8  \n",
      " 29  make_mazda              205 non-null    uint8  \n",
      " 30  make_mercedes-benz      205 non-null    uint8  \n",
      " 31  make_mercury            205 non-null    uint8  \n",
      " 32  make_mitsubishi         205 non-null    uint8  \n",
      " 33  make_nissan             205 non-null    uint8  \n",
      " 34  make_peugot             205 non-null    uint8  \n",
      " 35  make_plymouth           205 non-null    uint8  \n",
      " 36  make_porsche            205 non-null    uint8  \n",
      " 37  make_renault            205 non-null    uint8  \n",
      " 38  make_saab               205 non-null    uint8  \n",
      " 39  make_subaru             205 non-null    uint8  \n",
      " 40  make_toyota             205 non-null    uint8  \n",
      " 41  make_volkswagen         205 non-null    uint8  \n",
      " 42  make_volvo              205 non-null    uint8  \n",
      " 43  body-style_convertible  205 non-null    uint8  \n",
      " 44  body-style_hardtop      205 non-null    uint8  \n",
      " 45  body-style_hatchback    205 non-null    uint8  \n",
      " 46  body-style_sedan        205 non-null    uint8  \n",
      " 47  body-style_wagon        205 non-null    uint8  \n",
      " 48  drive-wheels_4wd        205 non-null    uint8  \n",
      " 49  drive-wheels_fwd        205 non-null    uint8  \n",
      " 50  drive-wheels_rwd        205 non-null    uint8  \n",
      " 51  engine-type_dohc        205 non-null    uint8  \n",
      " 52  engine-type_dohcv       205 non-null    uint8  \n",
      " 53  engine-type_l           205 non-null    uint8  \n",
      " 54  engine-type_ohc         205 non-null    uint8  \n",
      " 55  engine-type_ohcf        205 non-null    uint8  \n",
      " 56  engine-type_ohcv        205 non-null    uint8  \n",
      " 57  engine-type_rotor       205 non-null    uint8  \n",
      " 58  fuel-system_1bbl        205 non-null    uint8  \n",
      " 59  fuel-system_2bbl        205 non-null    uint8  \n",
      " 60  fuel-system_4bbl        205 non-null    uint8  \n",
      " 61  fuel-system_idi         205 non-null    uint8  \n",
      " 62  fuel-system_mfi         205 non-null    uint8  \n",
      " 63  fuel-system_mpfi        205 non-null    uint8  \n",
      " 64  fuel-system_spdi        205 non-null    uint8  \n",
      " 65  fuel-system_spfi        205 non-null    uint8  \n",
      "dtypes: float64(7), int32(5), int64(9), uint8(45)\n",
      "memory usage: 38.8 KB\n"
     ]
    }
   ],
   "source": [
    "df.info()"
   ]
  },
  {
   "cell_type": "code",
   "execution_count": 146,
   "id": "c5b5ec07-53d5-41ea-a5a9-83d752d4d2bb",
   "metadata": {},
   "outputs": [
    {
     "data": {
      "text/plain": [
       "Index(['symboling', 'normalized-losses', 'fuel-type', 'aspiration',\n",
       "       'num-of-doors', 'engine-location', 'wheel-base', 'length', 'width',\n",
       "       'height', 'curb-weight', 'num-of-cylinders', 'engine-size', 'bore',\n",
       "       'stroke', 'compression-ratio', 'horsepower', 'peak-rpm', 'city-mpg',\n",
       "       'highway-mpg', 'price', 'make_alfa-romero', 'make_audi', 'make_bmw',\n",
       "       'make_chevrolet', 'make_dodge', 'make_honda', 'make_isuzu',\n",
       "       'make_jaguar', 'make_mazda', 'make_mercedes-benz', 'make_mercury',\n",
       "       'make_mitsubishi', 'make_nissan', 'make_peugot', 'make_plymouth',\n",
       "       'make_porsche', 'make_renault', 'make_saab', 'make_subaru',\n",
       "       'make_toyota', 'make_volkswagen', 'make_volvo',\n",
       "       'body-style_convertible', 'body-style_hardtop', 'body-style_hatchback',\n",
       "       'body-style_sedan', 'body-style_wagon', 'drive-wheels_4wd',\n",
       "       'drive-wheels_fwd', 'drive-wheels_rwd', 'engine-type_dohc',\n",
       "       'engine-type_dohcv', 'engine-type_l', 'engine-type_ohc',\n",
       "       'engine-type_ohcf', 'engine-type_ohcv', 'engine-type_rotor',\n",
       "       'fuel-system_1bbl', 'fuel-system_2bbl', 'fuel-system_4bbl',\n",
       "       'fuel-system_idi', 'fuel-system_mfi', 'fuel-system_mpfi',\n",
       "       'fuel-system_spdi', 'fuel-system_spfi'],\n",
       "      dtype='object')"
      ]
     },
     "execution_count": 146,
     "metadata": {},
     "output_type": "execute_result"
    }
   ],
   "source": [
    "df.columns"
   ]
  },
  {
   "cell_type": "code",
   "execution_count": 147,
   "id": "1740aa1d-ea7a-48b3-b3c9-97c4efe09eea",
   "metadata": {},
   "outputs": [
    {
     "data": {
      "text/html": [
       "<div>\n",
       "<style scoped>\n",
       "    .dataframe tbody tr th:only-of-type {\n",
       "        vertical-align: middle;\n",
       "    }\n",
       "\n",
       "    .dataframe tbody tr th {\n",
       "        vertical-align: top;\n",
       "    }\n",
       "\n",
       "    .dataframe thead th {\n",
       "        text-align: right;\n",
       "    }\n",
       "</style>\n",
       "<table border=\"1\" class=\"dataframe\">\n",
       "  <thead>\n",
       "    <tr style=\"text-align: right;\">\n",
       "      <th></th>\n",
       "      <th>symboling</th>\n",
       "      <th>normalized-losses</th>\n",
       "      <th>fuel-type</th>\n",
       "      <th>aspiration</th>\n",
       "      <th>num-of-doors</th>\n",
       "      <th>engine-location</th>\n",
       "      <th>wheel-base</th>\n",
       "      <th>length</th>\n",
       "      <th>width</th>\n",
       "      <th>height</th>\n",
       "      <th>curb-weight</th>\n",
       "      <th>num-of-cylinders</th>\n",
       "      <th>engine-size</th>\n",
       "      <th>bore</th>\n",
       "      <th>price</th>\n",
       "    </tr>\n",
       "  </thead>\n",
       "  <tbody>\n",
       "    <tr>\n",
       "      <th>price</th>\n",
       "      <td>-0.080149</td>\n",
       "      <td>0.095489</td>\n",
       "      <td>-0.112439</td>\n",
       "      <td>0.175745</td>\n",
       "      <td>0.046497</td>\n",
       "      <td>0.331459</td>\n",
       "      <td>0.584847</td>\n",
       "      <td>0.686567</td>\n",
       "      <td>0.724558</td>\n",
       "      <td>0.140439</td>\n",
       "      <td>0.819817</td>\n",
       "      <td>0.681036</td>\n",
       "      <td>0.860343</td>\n",
       "      <td>0.532861</td>\n",
       "      <td>1.0</td>\n",
       "    </tr>\n",
       "  </tbody>\n",
       "</table>\n",
       "</div>"
      ],
      "text/plain": [
       "       symboling  normalized-losses  fuel-type  aspiration  num-of-doors  \\\n",
       "price  -0.080149           0.095489  -0.112439    0.175745      0.046497   \n",
       "\n",
       "       engine-location  wheel-base    length     width    height  curb-weight  \\\n",
       "price         0.331459    0.584847  0.686567  0.724558  0.140439     0.819817   \n",
       "\n",
       "       num-of-cylinders  engine-size      bore  price  \n",
       "price          0.681036     0.860343  0.532861    1.0  "
      ]
     },
     "execution_count": 147,
     "metadata": {},
     "output_type": "execute_result"
    }
   ],
   "source": [
    "col_list = ['symboling', 'normalized-losses', 'fuel-type', 'aspiration',\n",
    "       'num-of-doors', 'engine-location', 'wheel-base', 'length', 'width',\n",
    "       'height', 'curb-weight', 'num-of-cylinders', 'engine-size', 'bore','price']\n",
    "\n",
    "df.loc[:,col_list].corr().tail(1)"
   ]
  },
  {
   "cell_type": "markdown",
   "id": "3489beff-b0da-4afd-9dd0-d0f1fa1cf329",
   "metadata": {},
   "source": [
    "# step 5 feature selection"
   ]
  },
  {
   "cell_type": "code",
   "execution_count": 148,
   "id": "6a4c7234-a1a8-4f46-a0a4-e7bfe111c02a",
   "metadata": {},
   "outputs": [
    {
     "data": {
      "text/plain": [
       "(205, 66)"
      ]
     },
     "execution_count": 148,
     "metadata": {},
     "output_type": "execute_result"
    }
   ],
   "source": [
    "df.shape"
   ]
  },
  {
   "cell_type": "markdown",
   "id": "1d7ada7c-664c-45d4-a92b-6513555751ed",
   "metadata": {},
   "source": [
    "# step 6 : model training\n"
   ]
  },
  {
   "cell_type": "code",
   "execution_count": 149,
   "id": "b33fd0aa-33ef-4c63-a4b6-51faa0b979ff",
   "metadata": {},
   "outputs": [],
   "source": [
    "x = df.drop('price',axis=1)\n",
    "y = df['price']"
   ]
  },
  {
   "cell_type": "code",
   "execution_count": 150,
   "id": "41501d74-d821-4884-9668-9ceb3adfbcdd",
   "metadata": {},
   "outputs": [
    {
     "data": {
      "text/html": [
       "<div>\n",
       "<style scoped>\n",
       "    .dataframe tbody tr th:only-of-type {\n",
       "        vertical-align: middle;\n",
       "    }\n",
       "\n",
       "    .dataframe tbody tr th {\n",
       "        vertical-align: top;\n",
       "    }\n",
       "\n",
       "    .dataframe thead th {\n",
       "        text-align: right;\n",
       "    }\n",
       "</style>\n",
       "<table border=\"1\" class=\"dataframe\">\n",
       "  <thead>\n",
       "    <tr style=\"text-align: right;\">\n",
       "      <th></th>\n",
       "      <th>symboling</th>\n",
       "      <th>normalized-losses</th>\n",
       "      <th>fuel-type</th>\n",
       "      <th>aspiration</th>\n",
       "      <th>num-of-doors</th>\n",
       "      <th>engine-location</th>\n",
       "      <th>wheel-base</th>\n",
       "      <th>length</th>\n",
       "      <th>width</th>\n",
       "      <th>height</th>\n",
       "      <th>...</th>\n",
       "      <th>engine-type_ohcv</th>\n",
       "      <th>engine-type_rotor</th>\n",
       "      <th>fuel-system_1bbl</th>\n",
       "      <th>fuel-system_2bbl</th>\n",
       "      <th>fuel-system_4bbl</th>\n",
       "      <th>fuel-system_idi</th>\n",
       "      <th>fuel-system_mfi</th>\n",
       "      <th>fuel-system_mpfi</th>\n",
       "      <th>fuel-system_spdi</th>\n",
       "      <th>fuel-system_spfi</th>\n",
       "    </tr>\n",
       "  </thead>\n",
       "  <tbody>\n",
       "    <tr>\n",
       "      <th>0</th>\n",
       "      <td>3</td>\n",
       "      <td>115</td>\n",
       "      <td>1</td>\n",
       "      <td>0</td>\n",
       "      <td>2</td>\n",
       "      <td>0</td>\n",
       "      <td>88.6</td>\n",
       "      <td>168.8</td>\n",
       "      <td>64.1</td>\n",
       "      <td>48.8</td>\n",
       "      <td>...</td>\n",
       "      <td>0</td>\n",
       "      <td>0</td>\n",
       "      <td>0</td>\n",
       "      <td>0</td>\n",
       "      <td>0</td>\n",
       "      <td>0</td>\n",
       "      <td>0</td>\n",
       "      <td>1</td>\n",
       "      <td>0</td>\n",
       "      <td>0</td>\n",
       "    </tr>\n",
       "    <tr>\n",
       "      <th>1</th>\n",
       "      <td>3</td>\n",
       "      <td>115</td>\n",
       "      <td>1</td>\n",
       "      <td>0</td>\n",
       "      <td>2</td>\n",
       "      <td>0</td>\n",
       "      <td>88.6</td>\n",
       "      <td>168.8</td>\n",
       "      <td>64.1</td>\n",
       "      <td>48.8</td>\n",
       "      <td>...</td>\n",
       "      <td>0</td>\n",
       "      <td>0</td>\n",
       "      <td>0</td>\n",
       "      <td>0</td>\n",
       "      <td>0</td>\n",
       "      <td>0</td>\n",
       "      <td>0</td>\n",
       "      <td>1</td>\n",
       "      <td>0</td>\n",
       "      <td>0</td>\n",
       "    </tr>\n",
       "    <tr>\n",
       "      <th>2</th>\n",
       "      <td>1</td>\n",
       "      <td>115</td>\n",
       "      <td>1</td>\n",
       "      <td>0</td>\n",
       "      <td>2</td>\n",
       "      <td>0</td>\n",
       "      <td>94.5</td>\n",
       "      <td>171.2</td>\n",
       "      <td>65.5</td>\n",
       "      <td>52.4</td>\n",
       "      <td>...</td>\n",
       "      <td>1</td>\n",
       "      <td>0</td>\n",
       "      <td>0</td>\n",
       "      <td>0</td>\n",
       "      <td>0</td>\n",
       "      <td>0</td>\n",
       "      <td>0</td>\n",
       "      <td>1</td>\n",
       "      <td>0</td>\n",
       "      <td>0</td>\n",
       "    </tr>\n",
       "    <tr>\n",
       "      <th>3</th>\n",
       "      <td>2</td>\n",
       "      <td>164</td>\n",
       "      <td>1</td>\n",
       "      <td>0</td>\n",
       "      <td>4</td>\n",
       "      <td>0</td>\n",
       "      <td>99.8</td>\n",
       "      <td>176.6</td>\n",
       "      <td>66.2</td>\n",
       "      <td>54.3</td>\n",
       "      <td>...</td>\n",
       "      <td>0</td>\n",
       "      <td>0</td>\n",
       "      <td>0</td>\n",
       "      <td>0</td>\n",
       "      <td>0</td>\n",
       "      <td>0</td>\n",
       "      <td>0</td>\n",
       "      <td>1</td>\n",
       "      <td>0</td>\n",
       "      <td>0</td>\n",
       "    </tr>\n",
       "    <tr>\n",
       "      <th>4</th>\n",
       "      <td>2</td>\n",
       "      <td>164</td>\n",
       "      <td>1</td>\n",
       "      <td>0</td>\n",
       "      <td>4</td>\n",
       "      <td>0</td>\n",
       "      <td>99.4</td>\n",
       "      <td>176.6</td>\n",
       "      <td>66.4</td>\n",
       "      <td>54.3</td>\n",
       "      <td>...</td>\n",
       "      <td>0</td>\n",
       "      <td>0</td>\n",
       "      <td>0</td>\n",
       "      <td>0</td>\n",
       "      <td>0</td>\n",
       "      <td>0</td>\n",
       "      <td>0</td>\n",
       "      <td>1</td>\n",
       "      <td>0</td>\n",
       "      <td>0</td>\n",
       "    </tr>\n",
       "    <tr>\n",
       "      <th>...</th>\n",
       "      <td>...</td>\n",
       "      <td>...</td>\n",
       "      <td>...</td>\n",
       "      <td>...</td>\n",
       "      <td>...</td>\n",
       "      <td>...</td>\n",
       "      <td>...</td>\n",
       "      <td>...</td>\n",
       "      <td>...</td>\n",
       "      <td>...</td>\n",
       "      <td>...</td>\n",
       "      <td>...</td>\n",
       "      <td>...</td>\n",
       "      <td>...</td>\n",
       "      <td>...</td>\n",
       "      <td>...</td>\n",
       "      <td>...</td>\n",
       "      <td>...</td>\n",
       "      <td>...</td>\n",
       "      <td>...</td>\n",
       "      <td>...</td>\n",
       "    </tr>\n",
       "    <tr>\n",
       "      <th>200</th>\n",
       "      <td>-1</td>\n",
       "      <td>95</td>\n",
       "      <td>1</td>\n",
       "      <td>0</td>\n",
       "      <td>4</td>\n",
       "      <td>0</td>\n",
       "      <td>109.1</td>\n",
       "      <td>188.8</td>\n",
       "      <td>68.9</td>\n",
       "      <td>55.5</td>\n",
       "      <td>...</td>\n",
       "      <td>0</td>\n",
       "      <td>0</td>\n",
       "      <td>0</td>\n",
       "      <td>0</td>\n",
       "      <td>0</td>\n",
       "      <td>0</td>\n",
       "      <td>0</td>\n",
       "      <td>1</td>\n",
       "      <td>0</td>\n",
       "      <td>0</td>\n",
       "    </tr>\n",
       "    <tr>\n",
       "      <th>201</th>\n",
       "      <td>-1</td>\n",
       "      <td>95</td>\n",
       "      <td>1</td>\n",
       "      <td>1</td>\n",
       "      <td>4</td>\n",
       "      <td>0</td>\n",
       "      <td>109.1</td>\n",
       "      <td>188.8</td>\n",
       "      <td>68.8</td>\n",
       "      <td>55.5</td>\n",
       "      <td>...</td>\n",
       "      <td>0</td>\n",
       "      <td>0</td>\n",
       "      <td>0</td>\n",
       "      <td>0</td>\n",
       "      <td>0</td>\n",
       "      <td>0</td>\n",
       "      <td>0</td>\n",
       "      <td>1</td>\n",
       "      <td>0</td>\n",
       "      <td>0</td>\n",
       "    </tr>\n",
       "    <tr>\n",
       "      <th>202</th>\n",
       "      <td>-1</td>\n",
       "      <td>95</td>\n",
       "      <td>1</td>\n",
       "      <td>0</td>\n",
       "      <td>4</td>\n",
       "      <td>0</td>\n",
       "      <td>109.1</td>\n",
       "      <td>188.8</td>\n",
       "      <td>68.9</td>\n",
       "      <td>55.5</td>\n",
       "      <td>...</td>\n",
       "      <td>1</td>\n",
       "      <td>0</td>\n",
       "      <td>0</td>\n",
       "      <td>0</td>\n",
       "      <td>0</td>\n",
       "      <td>0</td>\n",
       "      <td>0</td>\n",
       "      <td>1</td>\n",
       "      <td>0</td>\n",
       "      <td>0</td>\n",
       "    </tr>\n",
       "    <tr>\n",
       "      <th>203</th>\n",
       "      <td>-1</td>\n",
       "      <td>95</td>\n",
       "      <td>0</td>\n",
       "      <td>1</td>\n",
       "      <td>4</td>\n",
       "      <td>0</td>\n",
       "      <td>109.1</td>\n",
       "      <td>188.8</td>\n",
       "      <td>68.9</td>\n",
       "      <td>55.5</td>\n",
       "      <td>...</td>\n",
       "      <td>0</td>\n",
       "      <td>0</td>\n",
       "      <td>0</td>\n",
       "      <td>0</td>\n",
       "      <td>0</td>\n",
       "      <td>1</td>\n",
       "      <td>0</td>\n",
       "      <td>0</td>\n",
       "      <td>0</td>\n",
       "      <td>0</td>\n",
       "    </tr>\n",
       "    <tr>\n",
       "      <th>204</th>\n",
       "      <td>-1</td>\n",
       "      <td>95</td>\n",
       "      <td>1</td>\n",
       "      <td>1</td>\n",
       "      <td>4</td>\n",
       "      <td>0</td>\n",
       "      <td>109.1</td>\n",
       "      <td>188.8</td>\n",
       "      <td>68.9</td>\n",
       "      <td>55.5</td>\n",
       "      <td>...</td>\n",
       "      <td>0</td>\n",
       "      <td>0</td>\n",
       "      <td>0</td>\n",
       "      <td>0</td>\n",
       "      <td>0</td>\n",
       "      <td>0</td>\n",
       "      <td>0</td>\n",
       "      <td>1</td>\n",
       "      <td>0</td>\n",
       "      <td>0</td>\n",
       "    </tr>\n",
       "  </tbody>\n",
       "</table>\n",
       "<p>205 rows × 65 columns</p>\n",
       "</div>"
      ],
      "text/plain": [
       "     symboling  normalized-losses  fuel-type  aspiration  num-of-doors  \\\n",
       "0            3                115          1           0             2   \n",
       "1            3                115          1           0             2   \n",
       "2            1                115          1           0             2   \n",
       "3            2                164          1           0             4   \n",
       "4            2                164          1           0             4   \n",
       "..         ...                ...        ...         ...           ...   \n",
       "200         -1                 95          1           0             4   \n",
       "201         -1                 95          1           1             4   \n",
       "202         -1                 95          1           0             4   \n",
       "203         -1                 95          0           1             4   \n",
       "204         -1                 95          1           1             4   \n",
       "\n",
       "     engine-location  wheel-base  length  width  height  ...  \\\n",
       "0                  0        88.6   168.8   64.1    48.8  ...   \n",
       "1                  0        88.6   168.8   64.1    48.8  ...   \n",
       "2                  0        94.5   171.2   65.5    52.4  ...   \n",
       "3                  0        99.8   176.6   66.2    54.3  ...   \n",
       "4                  0        99.4   176.6   66.4    54.3  ...   \n",
       "..               ...         ...     ...    ...     ...  ...   \n",
       "200                0       109.1   188.8   68.9    55.5  ...   \n",
       "201                0       109.1   188.8   68.8    55.5  ...   \n",
       "202                0       109.1   188.8   68.9    55.5  ...   \n",
       "203                0       109.1   188.8   68.9    55.5  ...   \n",
       "204                0       109.1   188.8   68.9    55.5  ...   \n",
       "\n",
       "     engine-type_ohcv  engine-type_rotor  fuel-system_1bbl  fuel-system_2bbl  \\\n",
       "0                   0                  0                 0                 0   \n",
       "1                   0                  0                 0                 0   \n",
       "2                   1                  0                 0                 0   \n",
       "3                   0                  0                 0                 0   \n",
       "4                   0                  0                 0                 0   \n",
       "..                ...                ...               ...               ...   \n",
       "200                 0                  0                 0                 0   \n",
       "201                 0                  0                 0                 0   \n",
       "202                 1                  0                 0                 0   \n",
       "203                 0                  0                 0                 0   \n",
       "204                 0                  0                 0                 0   \n",
       "\n",
       "     fuel-system_4bbl  fuel-system_idi  fuel-system_mfi  fuel-system_mpfi  \\\n",
       "0                   0                0                0                 1   \n",
       "1                   0                0                0                 1   \n",
       "2                   0                0                0                 1   \n",
       "3                   0                0                0                 1   \n",
       "4                   0                0                0                 1   \n",
       "..                ...              ...              ...               ...   \n",
       "200                 0                0                0                 1   \n",
       "201                 0                0                0                 1   \n",
       "202                 0                0                0                 1   \n",
       "203                 0                1                0                 0   \n",
       "204                 0                0                0                 1   \n",
       "\n",
       "     fuel-system_spdi  fuel-system_spfi  \n",
       "0                   0                 0  \n",
       "1                   0                 0  \n",
       "2                   0                 0  \n",
       "3                   0                 0  \n",
       "4                   0                 0  \n",
       "..                ...               ...  \n",
       "200                 0                 0  \n",
       "201                 0                 0  \n",
       "202                 0                 0  \n",
       "203                 0                 0  \n",
       "204                 0                 0  \n",
       "\n",
       "[205 rows x 65 columns]"
      ]
     },
     "execution_count": 150,
     "metadata": {},
     "output_type": "execute_result"
    }
   ],
   "source": [
    "x"
   ]
  },
  {
   "cell_type": "code",
   "execution_count": 151,
   "id": "f85c9b0b-1857-465a-b94b-c30a5acb911d",
   "metadata": {},
   "outputs": [
    {
     "data": {
      "text/plain": [
       "0      13495\n",
       "1      16500\n",
       "2      16500\n",
       "3      13950\n",
       "4      17450\n",
       "       ...  \n",
       "200    16845\n",
       "201    19045\n",
       "202    21485\n",
       "203    22470\n",
       "204    22625\n",
       "Name: price, Length: 205, dtype: int32"
      ]
     },
     "execution_count": 151,
     "metadata": {},
     "output_type": "execute_result"
    }
   ],
   "source": [
    "y"
   ]
  },
  {
   "cell_type": "code",
   "execution_count": 152,
   "id": "76dea848-0b33-48b2-918f-accb5569809d",
   "metadata": {},
   "outputs": [],
   "source": [
    "x_train,x_test,y_train,y_test = train_test_split(x,y,test_size=.2, random_state=9)"
   ]
  },
  {
   "cell_type": "code",
   "execution_count": 153,
   "id": "089c4c8c-6bac-4d5a-a11c-a4510cd00dba",
   "metadata": {},
   "outputs": [
    {
     "data": {
      "text/plain": [
       "((164, 65), (164,), (41, 65), (41,))"
      ]
     },
     "execution_count": 153,
     "metadata": {},
     "output_type": "execute_result"
    }
   ],
   "source": [
    "x_train.shape,y_train.shape, x_test.shape, y_test.shape"
   ]
  },
  {
   "cell_type": "code",
   "execution_count": 154,
   "id": "cd1da406-9c18-4ee5-9ae3-c30fd67ca50a",
   "metadata": {},
   "outputs": [
    {
     "data": {
      "text/plain": [
       "LinearRegression()"
      ]
     },
     "execution_count": 154,
     "metadata": {},
     "output_type": "execute_result"
    }
   ],
   "source": [
    "model = LinearRegression()\n",
    "model.fit(x_train,y_train)"
   ]
  },
  {
   "cell_type": "markdown",
   "id": "c64c13cc-64e6-472a-9449-58e07d8ca0a5",
   "metadata": {},
   "source": [
    "# step 7 model evaluation"
   ]
  },
  {
   "cell_type": "code",
   "execution_count": 155,
   "id": "1895ffa1-665b-4fa8-a6e0-1660e461e358",
   "metadata": {},
   "outputs": [],
   "source": [
    "y_pred = model.predict(x_test)"
   ]
  },
  {
   "cell_type": "code",
   "execution_count": 156,
   "id": "0ddd0d2a-f886-42a6-a8fa-1f0bd2ad2dc0",
   "metadata": {},
   "outputs": [
    {
     "data": {
      "text/plain": [
       "array([15457.64081897,  6194.05496729, 12733.63241446, 42046.84695483,\n",
       "        5673.05447228, 16097.1261268 ,  9589.75791749,  7478.29967314,\n",
       "        9296.14191456,  6899.64852285, 16544.53255135, 12219.76485793,\n",
       "        8427.93194137,  9701.82111087, 13040.06281085, 10391.86356475,\n",
       "       16145.20865598,  5904.70785223,  9540.95298402, 11897.06431694,\n",
       "       14575.78080863,  7712.78322568, 20414.31909353,  9975.5054626 ,\n",
       "       16890.50058824, 35521.93580468,  5227.5232762 ,  6406.54383174,\n",
       "       11168.35046998,  7230.15540521, 23515.98456277, 13062.79798195,\n",
       "        9046.0732734 ,  4912.687965  ,  9781.94579763,  7056.7605011 ,\n",
       "        6790.51202873,  9337.94004848,  8358.31830874, 23144.4813717 ,\n",
       "       11439.60615509])"
      ]
     },
     "execution_count": 156,
     "metadata": {},
     "output_type": "execute_result"
    }
   ],
   "source": [
    "y_pred"
   ]
  },
  {
   "cell_type": "code",
   "execution_count": 157,
   "id": "4c5d1d70-0f9d-4c03-ab78-a63f9110c0e4",
   "metadata": {},
   "outputs": [
    {
     "name": "stdout",
     "output_type": "stream",
     "text": [
      "Mean Squared Error = 6758570.644675154\n",
      "Root Mean Squared Error = 2599.7251094442954\n",
      "Mean Absolute Error= 1606.8239637142422\n",
      "R2 - Squared  = 0.870766135155732\n"
     ]
    }
   ],
   "source": [
    "## testing data evalution\n",
    "\n",
    "mse = mean_squared_error(y_test,y_pred)\n",
    "print(f'Mean Squared Error = {mse}')\n",
    "\n",
    "print(f'Root Mean Squared Error = {np.sqrt(mse)}')\n",
    "\n",
    "mae = mean_absolute_error(y_test,y_pred)\n",
    "print(f'Mean Absolute Error= {mae}')\n",
    "\n",
    "r2 = r2_score(y_test,y_pred)\n",
    "print(f'R2 - Squared  = {r2}')"
   ]
  },
  {
   "cell_type": "code",
   "execution_count": 158,
   "id": "4269a2cf-f148-4a11-b001-d97df2837597",
   "metadata": {},
   "outputs": [
    {
     "name": "stdout",
     "output_type": "stream",
     "text": [
      "MSE= 2384483.2670339704\n",
      "RMSE = 1544.1772136105267\n",
      "MAE= 1124.2848243007284\n",
      "R Train = 0.9625461518082329\n"
     ]
    }
   ],
   "source": [
    "##  training data evaluation\n",
    "y_pred_train = model.predict(x_train)\n",
    "\n",
    "mse = mean_squared_error(y_train,y_pred_train)\n",
    "print(f'MSE= {mse}')\n",
    "\n",
    "print(f'RMSE = {np.sqrt(mse)}')\n",
    "\n",
    "mae = mean_absolute_error(y_train,y_pred_train)\n",
    "print(f'MAE= {mae}')\n",
    "\n",
    "r2_train = r2_score(y_train,y_pred_train)\n",
    "print(f'R Train = {r2_train}')"
   ]
  },
  {
   "cell_type": "code",
   "execution_count": 159,
   "id": "e54a28d1-d90f-4121-9812-df479f34c96d",
   "metadata": {},
   "outputs": [
    {
     "ename": "SyntaxError",
     "evalue": "invalid syntax (460248654.py, line 3)",
     "output_type": "error",
     "traceback": [
      "\u001b[1;36m  File \u001b[1;32m\"C:\\Users\\lenova\\AppData\\Local\\Temp\\ipykernel_14608\\460248654.py\"\u001b[1;36m, line \u001b[1;32m3\u001b[0m\n\u001b[1;33m    Bias >> low Bias\u001b[0m\n\u001b[1;37m                ^\u001b[0m\n\u001b[1;31mSyntaxError\u001b[0m\u001b[1;31m:\u001b[0m invalid syntax\n"
     ]
    }
   ],
   "source": [
    "## Bias and variance Trade off \n",
    "\n",
    "Bias >> low Bias \n",
    "Variance >> low variance \n",
    "\n",
    "Generelaised / best model"
   ]
  },
  {
   "cell_type": "code",
   "execution_count": 160,
   "id": "1cd82f91-b42c-482e-9825-59e76f7b33a2",
   "metadata": {},
   "outputs": [],
   "source": [
    "with open('linear_model.pkl','wb')as file:\n",
    "    pickle.dump(model,file)"
   ]
  },
  {
   "cell_type": "code",
   "execution_count": 161,
   "id": "38a2334c-0e1d-433a-8a13-38ad2a9d4561",
   "metadata": {},
   "outputs": [],
   "source": [
    "df1 = pd.read_csv('autos_dataset.csv')"
   ]
  },
  {
   "cell_type": "code",
   "execution_count": 162,
   "id": "c98a3865-57ce-4ed7-8477-6612fd591b93",
   "metadata": {},
   "outputs": [
    {
     "data": {
      "text/plain": [
       "Index(['symboling', 'normalized-losses', 'make', 'fuel-type', 'aspiration',\n",
       "       'num-of-doors', 'body-style', 'drive-wheels', 'engine-location',\n",
       "       'wheel-base', 'length', 'width', 'height', 'curb-weight', 'engine-type',\n",
       "       'num-of-cylinders', 'engine-size', 'fuel-system', 'bore', 'stroke',\n",
       "       'compression-ratio', 'horsepower', 'peak-rpm', 'city-mpg',\n",
       "       'highway-mpg', 'price'],\n",
       "      dtype='object')"
      ]
     },
     "execution_count": 162,
     "metadata": {},
     "output_type": "execute_result"
    }
   ],
   "source": [
    "df1.columns"
   ]
  },
  {
   "cell_type": "code",
   "execution_count": null,
   "id": "de270a5d-97c9-4185-b9d9-58769309703f",
   "metadata": {},
   "outputs": [],
   "source": [
    "df1[1:2].T"
   ]
  },
  {
   "cell_type": "code",
   "execution_count": null,
   "id": "eba66c31-e7b8-4061-9148-0934546e8a01",
   "metadata": {},
   "outputs": [],
   "source": [
    "df"
   ]
  },
  {
   "cell_type": "code",
   "execution_count": 163,
   "id": "e528687e-b8d7-4fcb-a1d3-a5891fa468b1",
   "metadata": {},
   "outputs": [
    {
     "data": {
      "text/html": [
       "<div>\n",
       "<style scoped>\n",
       "    .dataframe tbody tr th:only-of-type {\n",
       "        vertical-align: middle;\n",
       "    }\n",
       "\n",
       "    .dataframe tbody tr th {\n",
       "        vertical-align: top;\n",
       "    }\n",
       "\n",
       "    .dataframe thead th {\n",
       "        text-align: right;\n",
       "    }\n",
       "</style>\n",
       "<table border=\"1\" class=\"dataframe\">\n",
       "  <thead>\n",
       "    <tr style=\"text-align: right;\">\n",
       "      <th></th>\n",
       "      <th>0</th>\n",
       "    </tr>\n",
       "  </thead>\n",
       "  <tbody>\n",
       "    <tr>\n",
       "      <th>symboling</th>\n",
       "      <td>3.0</td>\n",
       "    </tr>\n",
       "    <tr>\n",
       "      <th>normalized-losses</th>\n",
       "      <td>115.0</td>\n",
       "    </tr>\n",
       "    <tr>\n",
       "      <th>fuel-type</th>\n",
       "      <td>1.0</td>\n",
       "    </tr>\n",
       "    <tr>\n",
       "      <th>aspiration</th>\n",
       "      <td>0.0</td>\n",
       "    </tr>\n",
       "    <tr>\n",
       "      <th>num-of-doors</th>\n",
       "      <td>2.0</td>\n",
       "    </tr>\n",
       "    <tr>\n",
       "      <th>...</th>\n",
       "      <td>...</td>\n",
       "    </tr>\n",
       "    <tr>\n",
       "      <th>fuel-system_idi</th>\n",
       "      <td>0.0</td>\n",
       "    </tr>\n",
       "    <tr>\n",
       "      <th>fuel-system_mfi</th>\n",
       "      <td>0.0</td>\n",
       "    </tr>\n",
       "    <tr>\n",
       "      <th>fuel-system_mpfi</th>\n",
       "      <td>1.0</td>\n",
       "    </tr>\n",
       "    <tr>\n",
       "      <th>fuel-system_spdi</th>\n",
       "      <td>0.0</td>\n",
       "    </tr>\n",
       "    <tr>\n",
       "      <th>fuel-system_spfi</th>\n",
       "      <td>0.0</td>\n",
       "    </tr>\n",
       "  </tbody>\n",
       "</table>\n",
       "<p>66 rows × 1 columns</p>\n",
       "</div>"
      ],
      "text/plain": [
       "                       0\n",
       "symboling            3.0\n",
       "normalized-losses  115.0\n",
       "fuel-type            1.0\n",
       "aspiration           0.0\n",
       "num-of-doors         2.0\n",
       "...                  ...\n",
       "fuel-system_idi      0.0\n",
       "fuel-system_mfi      0.0\n",
       "fuel-system_mpfi     1.0\n",
       "fuel-system_spdi     0.0\n",
       "fuel-system_spfi     0.0\n",
       "\n",
       "[66 rows x 1 columns]"
      ]
     },
     "execution_count": 163,
     "metadata": {},
     "output_type": "execute_result"
    }
   ],
   "source": [
    "df[:1].T"
   ]
  },
  {
   "cell_type": "code",
   "execution_count": 164,
   "id": "537540b4-a4ea-4eb8-989f-298fffc122da",
   "metadata": {},
   "outputs": [
    {
     "data": {
      "text/plain": [
       "Index(['symboling', 'normalized-losses', 'fuel-type', 'aspiration',\n",
       "       'num-of-doors', 'engine-location', 'wheel-base', 'length', 'width',\n",
       "       'height', 'curb-weight', 'num-of-cylinders', 'engine-size', 'bore',\n",
       "       'stroke', 'compression-ratio', 'horsepower', 'peak-rpm', 'city-mpg',\n",
       "       'highway-mpg', 'price', 'make_alfa-romero', 'make_audi', 'make_bmw',\n",
       "       'make_chevrolet', 'make_dodge', 'make_honda', 'make_isuzu',\n",
       "       'make_jaguar', 'make_mazda', 'make_mercedes-benz', 'make_mercury',\n",
       "       'make_mitsubishi', 'make_nissan', 'make_peugot', 'make_plymouth',\n",
       "       'make_porsche', 'make_renault', 'make_saab', 'make_subaru',\n",
       "       'make_toyota', 'make_volkswagen', 'make_volvo',\n",
       "       'body-style_convertible', 'body-style_hardtop', 'body-style_hatchback',\n",
       "       'body-style_sedan', 'body-style_wagon', 'drive-wheels_4wd',\n",
       "       'drive-wheels_fwd', 'drive-wheels_rwd', 'engine-type_dohc',\n",
       "       'engine-type_dohcv', 'engine-type_l', 'engine-type_ohc',\n",
       "       'engine-type_ohcf', 'engine-type_ohcv', 'engine-type_rotor',\n",
       "       'fuel-system_1bbl', 'fuel-system_2bbl', 'fuel-system_4bbl',\n",
       "       'fuel-system_idi', 'fuel-system_mfi', 'fuel-system_mpfi',\n",
       "       'fuel-system_spdi', 'fuel-system_spfi'],\n",
       "      dtype='object')"
      ]
     },
     "execution_count": 164,
     "metadata": {},
     "output_type": "execute_result"
    }
   ],
   "source": [
    "df.columns"
   ]
  },
  {
   "cell_type": "code",
   "execution_count": 165,
   "id": "1d71377d-fe76-4971-94d4-bf8559f3e39d",
   "metadata": {},
   "outputs": [
    {
     "data": {
      "text/plain": [
       "0      3\n",
       "1      3\n",
       "2      1\n",
       "3      2\n",
       "4      2\n",
       "      ..\n",
       "200   -1\n",
       "201   -1\n",
       "202   -1\n",
       "203   -1\n",
       "204   -1\n",
       "Name: symboling, Length: 205, dtype: int64"
      ]
     },
     "execution_count": 165,
     "metadata": {},
     "output_type": "execute_result"
    }
   ],
   "source": [
    "df.symboling"
   ]
  },
  {
   "cell_type": "code",
   "execution_count": 168,
   "id": "17886054-01c3-4a86-b316-0f994e9f0d79",
   "metadata": {},
   "outputs": [
    {
     "ename": "AttributeError",
     "evalue": "'DataFrame' object has no attribute 'make'",
     "output_type": "error",
     "traceback": [
      "\u001b[1;31m---------------------------------------------------------------------------\u001b[0m",
      "\u001b[1;31mAttributeError\u001b[0m                            Traceback (most recent call last)",
      "\u001b[1;32m~\\AppData\\Local\\Temp\\ipykernel_14608\\1036736213.py\u001b[0m in \u001b[0;36m<module>\u001b[1;34m\u001b[0m\n\u001b[1;32m----> 1\u001b[1;33m \u001b[0mdf\u001b[0m\u001b[1;33m.\u001b[0m\u001b[0mmake\u001b[0m\u001b[1;33m\u001b[0m\u001b[1;33m\u001b[0m\u001b[0m\n\u001b[0m",
      "\u001b[1;32mC:\\ProgramData\\Anaconda3\\lib\\site-packages\\pandas\\core\\generic.py\u001b[0m in \u001b[0;36m__getattr__\u001b[1;34m(self, name)\u001b[0m\n\u001b[0;32m   5573\u001b[0m         ):\n\u001b[0;32m   5574\u001b[0m             \u001b[1;32mreturn\u001b[0m \u001b[0mself\u001b[0m\u001b[1;33m[\u001b[0m\u001b[0mname\u001b[0m\u001b[1;33m]\u001b[0m\u001b[1;33m\u001b[0m\u001b[1;33m\u001b[0m\u001b[0m\n\u001b[1;32m-> 5575\u001b[1;33m         \u001b[1;32mreturn\u001b[0m \u001b[0mobject\u001b[0m\u001b[1;33m.\u001b[0m\u001b[0m__getattribute__\u001b[0m\u001b[1;33m(\u001b[0m\u001b[0mself\u001b[0m\u001b[1;33m,\u001b[0m \u001b[0mname\u001b[0m\u001b[1;33m)\u001b[0m\u001b[1;33m\u001b[0m\u001b[1;33m\u001b[0m\u001b[0m\n\u001b[0m\u001b[0;32m   5576\u001b[0m \u001b[1;33m\u001b[0m\u001b[0m\n\u001b[0;32m   5577\u001b[0m     \u001b[1;32mdef\u001b[0m \u001b[0m__setattr__\u001b[0m\u001b[1;33m(\u001b[0m\u001b[0mself\u001b[0m\u001b[1;33m,\u001b[0m \u001b[0mname\u001b[0m\u001b[1;33m:\u001b[0m \u001b[0mstr\u001b[0m\u001b[1;33m,\u001b[0m \u001b[0mvalue\u001b[0m\u001b[1;33m)\u001b[0m \u001b[1;33m->\u001b[0m \u001b[1;32mNone\u001b[0m\u001b[1;33m:\u001b[0m\u001b[1;33m\u001b[0m\u001b[1;33m\u001b[0m\u001b[0m\n",
      "\u001b[1;31mAttributeError\u001b[0m: 'DataFrame' object has no attribute 'make'"
     ]
    }
   ],
   "source": [
    "df.make"
   ]
  },
  {
   "cell_type": "code",
   "execution_count": null,
   "id": "ff558cc6-8e71-42ed-9c39-84b884c50d1a",
   "metadata": {},
   "outputs": [],
   "source": []
  }
 ],
 "metadata": {
  "kernelspec": {
   "display_name": "Python 3 (ipykernel)",
   "language": "python",
   "name": "python3"
  },
  "language_info": {
   "codemirror_mode": {
    "name": "ipython",
    "version": 3
   },
   "file_extension": ".py",
   "mimetype": "text/x-python",
   "name": "python",
   "nbconvert_exporter": "python",
   "pygments_lexer": "ipython3",
   "version": "3.9.13"
  }
 },
 "nbformat": 4,
 "nbformat_minor": 5
}
